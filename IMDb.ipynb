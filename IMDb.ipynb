{
 "cells": [
  {
   "cell_type": "markdown",
   "metadata": {},
   "source": [
    "# Clasificación de opiniones con NLP (Natural Language Processing)"
   ]
  },
  {
   "cell_type": "markdown",
   "metadata": {},
   "source": [
    "En este notebook vamos a realizar una práctica de clasificación de opiniones sobre películas (sentiment analisys), siguiendo la [*lesson* 3 del curso de Deep Learning de fastai](https://course.fast.ai/videos/?lesson=3/).\n",
    "\n",
    "Para ello vamos a emplear un [dataset](http://ai.stanford.edu/~amaas/data/sentiment/) con un total de 100.000 opiniones de la web [IMDb](https://www.imdb.com/) (25.000 positivas, 25.000 negativas y 50.000 no etiquetadas).  Se trata de clasificar las opiniones sobre las películas en positivas y negativas."
   ]
  },
  {
   "cell_type": "markdown",
   "metadata": {},
   "source": [
    "Con los siguientes [*magic commands*](https://ipython.readthedocs.io/en/stable/interactive/magics.html/) nos aseguramos de recargar de forma automática cualquier modificación de las librerías o de los gráficos."
   ]
  },
  {
   "cell_type": "code",
   "execution_count": 1,
   "metadata": {},
   "outputs": [],
   "source": [
    "%reload_ext autoreload\n",
    "%autoreload 2\n",
    "%matplotlib inline"
   ]
  },
  {
   "cell_type": "markdown",
   "metadata": {},
   "source": [
    "## Preparamos los datos"
   ]
  },
  {
   "cell_type": "markdown",
   "metadata": {},
   "source": [
    "Desde *fastai* importamos el módulo *text* para poder trabajar con textos."
   ]
  },
  {
   "cell_type": "code",
   "execution_count": 2,
   "metadata": {},
   "outputs": [],
   "source": [
    "from fastai.text import *"
   ]
  },
  {
   "cell_type": "markdown",
   "metadata": {},
   "source": [
    "Con la función 'untar_data' accedemos, inicialmente, a una muestra del dataset *Large Movie Review Dataset* a través de una URL. En la variable 'path' asignamos la ruta de acceso a dicha muestra."
   ]
  },
  {
   "cell_type": "code",
   "execution_count": 3,
   "metadata": {},
   "outputs": [
    {
     "name": "stdout",
     "output_type": "stream",
     "text": [
      "Downloading http://files.fast.ai/data/examples/imdb_sample\n"
     ]
    },
    {
     "data": {
      "text/html": [],
      "text/plain": [
       "<IPython.core.display.HTML object>"
      ]
     },
     "metadata": {},
     "output_type": "display_data"
    },
    {
     "data": {
      "text/plain": [
       "[PosixPath('/storage/imdb_sample/texts.csv')]"
      ]
     },
     "execution_count": 3,
     "metadata": {},
     "output_type": "execute_result"
    }
   ],
   "source": [
    "path = untar_data(URLs.IMDB_SAMPLE)\n",
    "path.ls()"
   ]
  },
  {
   "cell_type": "markdown",
   "metadata": {},
   "source": [
    "En la variable 'df' abrimos el archivo 'texts.csv' usando para ello la función 'read_csv' de la librería pandas (pd). Mostramos la cabecera de nuestro *dataframe*."
   ]
  },
  {
   "cell_type": "code",
   "execution_count": 4,
   "metadata": {},
   "outputs": [
    {
     "data": {
      "text/html": [
       "<div>\n",
       "<style scoped>\n",
       "    .dataframe tbody tr th:only-of-type {\n",
       "        vertical-align: middle;\n",
       "    }\n",
       "\n",
       "    .dataframe tbody tr th {\n",
       "        vertical-align: top;\n",
       "    }\n",
       "\n",
       "    .dataframe thead th {\n",
       "        text-align: right;\n",
       "    }\n",
       "</style>\n",
       "<table border=\"1\" class=\"dataframe\">\n",
       "  <thead>\n",
       "    <tr style=\"text-align: right;\">\n",
       "      <th></th>\n",
       "      <th>label</th>\n",
       "      <th>text</th>\n",
       "      <th>is_valid</th>\n",
       "    </tr>\n",
       "  </thead>\n",
       "  <tbody>\n",
       "    <tr>\n",
       "      <th>0</th>\n",
       "      <td>negative</td>\n",
       "      <td>Un-bleeping-believable! Meg Ryan doesn't even ...</td>\n",
       "      <td>False</td>\n",
       "    </tr>\n",
       "    <tr>\n",
       "      <th>1</th>\n",
       "      <td>positive</td>\n",
       "      <td>This is a extremely well-made film. The acting...</td>\n",
       "      <td>False</td>\n",
       "    </tr>\n",
       "    <tr>\n",
       "      <th>2</th>\n",
       "      <td>negative</td>\n",
       "      <td>Every once in a long while a movie will come a...</td>\n",
       "      <td>False</td>\n",
       "    </tr>\n",
       "    <tr>\n",
       "      <th>3</th>\n",
       "      <td>positive</td>\n",
       "      <td>Name just says it all. I watched this movie wi...</td>\n",
       "      <td>False</td>\n",
       "    </tr>\n",
       "    <tr>\n",
       "      <th>4</th>\n",
       "      <td>negative</td>\n",
       "      <td>This movie succeeds at being one of the most u...</td>\n",
       "      <td>False</td>\n",
       "    </tr>\n",
       "  </tbody>\n",
       "</table>\n",
       "</div>"
      ],
      "text/plain": [
       "      label                                               text  is_valid\n",
       "0  negative  Un-bleeping-believable! Meg Ryan doesn't even ...     False\n",
       "1  positive  This is a extremely well-made film. The acting...     False\n",
       "2  negative  Every once in a long while a movie will come a...     False\n",
       "3  positive  Name just says it all. I watched this movie wi...     False\n",
       "4  negative  This movie succeeds at being one of the most u...     False"
      ]
     },
     "execution_count": 4,
     "metadata": {},
     "output_type": "execute_result"
    }
   ],
   "source": [
    "df = pd.read_csv(path/'texts.csv')\n",
    "df.head()"
   ]
  },
  {
   "cell_type": "markdown",
   "metadata": {},
   "source": [
    "Como ejemplo, imprimimos en pantalla el texto de la segunda *review* del *dataframe*."
   ]
  },
  {
   "cell_type": "code",
   "execution_count": 5,
   "metadata": {},
   "outputs": [
    {
     "data": {
      "text/plain": [
       "'This is a extremely well-made film. The acting, script and camera-work are all first-rate. The music is good, too, though it is mostly early in the film, when things are still relatively cheery. There are no really superstars in the cast, though several faces will be familiar. The entire cast does an excellent job with the script.<br /><br />But it is hard to watch, because there is no good end to a situation like the one presented. It is now fashionable to blame the British for setting Hindus and Muslims against each other, and then cruelly separating them into two countries. There is some merit in this view, but it\\'s also true that no one forced Hindus and Muslims in the region to mistreat each other as they did around the time of partition. It seems more likely that the British simply saw the tensions between the religions and were clever enough to exploit them to their own ends.<br /><br />The result is that there is much cruelty and inhumanity in the situation and this is very unpleasant to remember and to see on the screen. But it is never painted as a black-and-white case. There is baseness and nobility on both sides, and also the hope for change in the younger generation.<br /><br />There is redemption of a sort, in the end, when Puro has to make a hard choice between a man who has ruined her life, but also truly loved her, and her family which has disowned her, then later come looking for her. But by that point, she has no option that is without great pain for her.<br /><br />This film carries the message that both Muslims and Hindus have their grave faults, and also that both can be dignified and caring people. The reality of partition makes that realisation all the more wrenching, since there can never be real reconciliation across the India/Pakistan border. In that sense, it is similar to \"Mr & Mrs Iyer\".<br /><br />In the end, we were glad to have seen the film, even though the resolution was heartbreaking. If the UK and US could deal with their own histories of racism with this kind of frankness, they would certainly be better off.'"
      ]
     },
     "execution_count": 5,
     "metadata": {},
     "output_type": "execute_result"
    }
   ],
   "source": [
    "df['text'][1]"
   ]
  },
  {
   "cell_type": "markdown",
   "metadata": {},
   "source": [
    "En 'data_lm' creamos el grupo de datos con la función 'TextDataBunch.from_csv'. Le pasamos la ruta ('path') y el nombre del archivo ('texts.csv'). Esta fución hará la conversión de palabras a *tokens* y de ahí a números."
   ]
  },
  {
   "cell_type": "code",
   "execution_count": 6,
   "metadata": {},
   "outputs": [
    {
     "data": {
      "text/html": [],
      "text/plain": [
       "<IPython.core.display.HTML object>"
      ]
     },
     "metadata": {},
     "output_type": "display_data"
    },
    {
     "data": {
      "text/html": [],
      "text/plain": [
       "<IPython.core.display.HTML object>"
      ]
     },
     "metadata": {},
     "output_type": "display_data"
    }
   ],
   "source": [
    "data_lm = TextDataBunch.from_csv(path, 'texts.csv')"
   ]
  },
  {
   "cell_type": "markdown",
   "metadata": {},
   "source": [
    "Una vez hecha la conversión, guardamos con 'save()'."
   ]
  },
  {
   "cell_type": "code",
   "execution_count": 7,
   "metadata": {},
   "outputs": [],
   "source": [
    "data_lm.save()"
   ]
  },
  {
   "cell_type": "markdown",
   "metadata": {},
   "source": [
    "Para cargar los datos sin emplear tanto tiempo, podemos utilizar la función 'load_data'."
   ]
  },
  {
   "cell_type": "code",
   "execution_count": 8,
   "metadata": {},
   "outputs": [],
   "source": [
    "data = load_data(path)"
   ]
  },
  {
   "cell_type": "markdown",
   "metadata": {},
   "source": [
    "## \"Tokenización\""
   ]
  },
  {
   "cell_type": "markdown",
   "metadata": {},
   "source": [
    "En primer lugar debemos dividir las frases en \"tokens\", esto es, en elementos semánticamente indivisibles. También deberemos identificar los elementos de puntuación y limpiar el texto de elementos extraños como por ejemplo código HTML.\n",
    "\n",
    "Todo esto lo realiza la función 'TextClasDataBunch.from_csv', pasándole la ruta y el nombre del archivo."
   ]
  },
  {
   "cell_type": "code",
   "execution_count": 9,
   "metadata": {},
   "outputs": [
    {
     "data": {
      "text/html": [],
      "text/plain": [
       "<IPython.core.display.HTML object>"
      ]
     },
     "metadata": {},
     "output_type": "display_data"
    },
    {
     "data": {
      "text/html": [],
      "text/plain": [
       "<IPython.core.display.HTML object>"
      ]
     },
     "metadata": {},
     "output_type": "display_data"
    }
   ],
   "source": [
    "data = TextClasDataBunch.from_csv(path, 'texts.csv')"
   ]
  },
  {
   "cell_type": "markdown",
   "metadata": {},
   "source": [
    "Podemos ver como se ha dividido el texto en *tokens*. También se han añadido algunos *tokens* como 'xxunk' (palabra desconocida) o 'xxmaj' (palabra que empieza en mayúscula)."
   ]
  },
  {
   "cell_type": "markdown",
   "metadata": {},
   "source": [
    "## Numeralización"
   ]
  },
  {
   "cell_type": "markdown",
   "metadata": {},
   "source": [
    "Una vez que ya hemos convertido el texto en *tokens*, realizamos la conversión a números. Para ello empleamos la función 'vocab.itos', con la que creamos un diccionario para 'itos' (int to string) almacenar los datos.\n",
    "\n",
    "Mostramos los 10 primeros."
   ]
  },
  {
   "cell_type": "code",
   "execution_count": 10,
   "metadata": {},
   "outputs": [
    {
     "data": {
      "text/plain": [
       "['xxunk',\n",
       " 'xxpad',\n",
       " 'xxbos',\n",
       " 'xxeos',\n",
       " 'xxfld',\n",
       " 'xxmaj',\n",
       " 'xxup',\n",
       " 'xxrep',\n",
       " 'xxwrep',\n",
       " 'the']"
      ]
     },
     "execution_count": 10,
     "metadata": {},
     "output_type": "execute_result"
    }
   ],
   "source": [
    "data.vocab.itos[:10]"
   ]
  },
  {
   "cell_type": "markdown",
   "metadata": {},
   "source": [
    "Mostramos un ejemplo del dataset de entrenamiento."
   ]
  },
  {
   "cell_type": "code",
   "execution_count": 11,
   "metadata": {},
   "outputs": [
    {
     "data": {
      "text/plain": [
       "Text xxbos i 'm fond of this film and it xxunk me that so many \" reviewers \" rank it below the xxmaj peter xxmaj jackson trilogy . a filmed novel is always interpretive ; in particular an animated film relies on the artist 's vision and should be judged on its own terms . xxmaj speaking as a purist , this is a finer homage to xxmaj tolkien than the updated version . xxmaj while this film has its flaws it stays xxunk to the source , especially so far as the characters are concerned . \n",
       " \n",
       "  xxmaj in the xxmaj jackson version xxmaj tolkien 's xxmaj frodo is barely recognizable : from the first scenes he is portrayed as a xxunk , constantly xxunk , manipulated by forces around him and never standing on his own two feet ( this is physically and metaphorically true . ) xxmaj you wonder why fate chose this limp xxunk to carry the one ring to the xxmaj xxunk of xxmaj doom . xxmaj jackson xxunk xxunk xxmaj tolkien and robs xxmaj frodo of his finest moment when he allows xxmaj xxunk to rescue him from the xxmaj xxunk ... xxmaj bakshi 's version respects the original , xxunk a xxmaj frodo who demands the wraiths \" xxmaj go back and trouble me no more ! \" xxmaj bakshi xxunk xxmaj frodo 's character as xxmaj tolkien conceived it . xxmaj we see his decline as the weight of his xxunk xxunk . xxmaj frodo is so pivotal to xxmaj lord of the xxmaj rings you wonder why xxmaj jackson took such xxunk ( he does so with numerous xxunk character development xxunk the plot to its inevitable conclusion . xxmaj bakshi 's film better explores the xxunk between xxmaj xxunk and xxmaj xxunk in a few xxunk scenes that are completely lacking in xxmaj jackson 's version . xxmaj similarly we see xxmaj xxunk xxunk with xxmaj xxunk and xxmaj merry , xxunk the idea of xxunk . xxmaj for my liking the camaraderie is more developed in the animated version than the live action . \n",
       " \n",
       "  xxmaj tolkien 's poetry is an important xxunk in the novels and xxmaj bakshi makes tribute to this in one of my favorite scenes : when xxmaj frodo sings the \" xxmaj merry xxmaj old xxmaj inn \" song , minutes before stumbling into xxmaj xxunk . xxmaj the xxunk tune is xxunk juxtaposed with the darker theme music when seconds later , invisible to his friends but visible to the wraiths , xxmaj frodo is xxunk exposed . xxmaj this is one of the most atmospheric portions of the film and chills me whenever i see it . \n",
       " \n",
       "  xxmaj the well xxunk budget / time restrictions limit this film 's final impact but had it been completed it may have xxunk with more viewers . xxmaj as it is , it 's worth a look . xxmaj even its xxunk admit that xxmaj peter xxmaj jackson derived much of his inspiration from this prototype ."
      ]
     },
     "execution_count": 11,
     "metadata": {},
     "output_type": "execute_result"
    }
   ],
   "source": [
    "data.train_ds[0][0]"
   ]
  },
  {
   "cell_type": "markdown",
   "metadata": {},
   "source": [
    "Mostramos la conversión a números de los 10 primeros *tokens* del ejemplo anterior."
   ]
  },
  {
   "cell_type": "code",
   "execution_count": 12,
   "metadata": {},
   "outputs": [
    {
     "data": {
      "text/plain": [
       "array([   2,   19,  166, 4664,   14,   20,   32,   12,   17,    0])"
      ]
     },
     "execution_count": 12,
     "metadata": {},
     "output_type": "execute_result"
    }
   ],
   "source": [
    "data.train_ds[0][0].data[:10]"
   ]
  },
  {
   "cell_type": "markdown",
   "metadata": {},
   "source": [
    "## API de NLP"
   ]
  },
  {
   "cell_type": "markdown",
   "metadata": {},
   "source": [
    "Con 'TextList.from_csv' creamos una lista que tiene la columna 'text' como item. Con 'split_from_df' dividimos el conjunto de datos en 'train' y 'valid' usando la columna 2, que viene encabezada con 'is_valid'. Con 'label_from_df' asignamos una etiqueta a cada item según lo indicado en la columna 0.\n",
    "\n",
    "Finalmente, creamos el 'databunch'."
   ]
  },
  {
   "cell_type": "code",
   "execution_count": 15,
   "metadata": {},
   "outputs": [
    {
     "data": {
      "text/html": [],
      "text/plain": [
       "<IPython.core.display.HTML object>"
      ]
     },
     "metadata": {},
     "output_type": "display_data"
    },
    {
     "data": {
      "text/html": [],
      "text/plain": [
       "<IPython.core.display.HTML object>"
      ]
     },
     "metadata": {},
     "output_type": "display_data"
    }
   ],
   "source": [
    "data = (TextList.from_csv(path, 'texts.csv', cols='text')\n",
    "                .split_from_df(col=2)\n",
    "                .label_from_df(cols=0)\n",
    "                .databunch())"
   ]
  },
  {
   "cell_type": "markdown",
   "metadata": {},
   "source": [
    "## Creamos el modelo"
   ]
  },
  {
   "cell_type": "markdown",
   "metadata": {},
   "source": [
    "Para reducir el consumo de memoria, limitamos el lote."
   ]
  },
  {
   "cell_type": "code",
   "execution_count": 5,
   "metadata": {},
   "outputs": [],
   "source": [
    "bs = 10"
   ]
  },
  {
   "cell_type": "markdown",
   "metadata": {},
   "source": [
    "Con 'untar_data', accedemos ahora al dataset completo."
   ]
  },
  {
   "cell_type": "code",
   "execution_count": 17,
   "metadata": {},
   "outputs": [
    {
     "name": "stdout",
     "output_type": "stream",
     "text": [
      "Downloading https://s3.amazonaws.com/fast-ai-nlp/imdb\n"
     ]
    },
    {
     "data": {
      "text/html": [],
      "text/plain": [
       "<IPython.core.display.HTML object>"
      ]
     },
     "metadata": {},
     "output_type": "display_data"
    },
    {
     "data": {
      "text/plain": [
       "[PosixPath('/storage/imdb/tmp_lm'),\n",
       " PosixPath('/storage/imdb/unsup'),\n",
       " PosixPath('/storage/imdb/test'),\n",
       " PosixPath('/storage/imdb/README'),\n",
       " PosixPath('/storage/imdb/imdb.vocab'),\n",
       " PosixPath('/storage/imdb/train'),\n",
       " PosixPath('/storage/imdb/tmp_clas')]"
      ]
     },
     "execution_count": 17,
     "metadata": {},
     "output_type": "execute_result"
    }
   ],
   "source": [
    "path = untar_data(URLs.IMDB)\n",
    "path.ls()"
   ]
  },
  {
   "cell_type": "code",
   "execution_count": 18,
   "metadata": {},
   "outputs": [
    {
     "data": {
      "text/plain": [
       "[PosixPath('/storage/imdb/train/neg'),\n",
       " PosixPath('/storage/imdb/train/pos'),\n",
       " PosixPath('/storage/imdb/train/unsupBow.feat'),\n",
       " PosixPath('/storage/imdb/train/labeledBow.feat')]"
      ]
     },
     "execution_count": 18,
     "metadata": {},
     "output_type": "execute_result"
    }
   ],
   "source": [
    "(path/'train').ls()"
   ]
  },
  {
   "cell_type": "markdown",
   "metadata": {},
   "source": [
    "Para nuestro modelo vamos a crear una lista de texto con 'TextList.from_folder'. Con 'filter_by_folder' filtramos los archivos de texto de los directorios que contengan 'train', 'test' y 'unsup'.\n",
    "Con 'split_by_rand_pct' dividimos el conjunto de datos con un *validation set* del 10%.\n",
    "Con 'label_from_lm' etiquetamos los datos, y finalmente, creamos el 'databunch' limitando el *batch size*.\n",
    "\n",
    "Guardamos esta configuración en 'data_lm.pkl'."
   ]
  },
  {
   "cell_type": "code",
   "execution_count": null,
   "metadata": {},
   "outputs": [],
   "source": [
    "data_lm = (TextList.from_folder(path)\n",
    "          .filter_by_folder(include=['train', 'text', 'unsup'])\n",
    "          .split_by_rand_pct(0.1)\n",
    "          .label_for_lm()\n",
    "          .databunch(bs=bs))\n",
    "data_lm.save('data_lm.pkl')"
   ]
  },
  {
   "cell_type": "markdown",
   "metadata": {},
   "source": [
    "En la misma variable cargamos de nuevo el *databunch* y el *batch size*."
   ]
  },
  {
   "cell_type": "code",
   "execution_count": 6,
   "metadata": {},
   "outputs": [],
   "source": [
    "data_lm = load_data(path, 'data_lm.pkl', bs=bs)"
   ]
  },
  {
   "cell_type": "markdown",
   "metadata": {},
   "source": [
    "Mostramos unos ejemplos para ver como han quedado los datos."
   ]
  },
  {
   "cell_type": "code",
   "execution_count": 24,
   "metadata": {},
   "outputs": [
    {
     "data": {
      "text/html": [
       "<table border=\"1\" class=\"dataframe\">\n",
       "  <thead>\n",
       "    <tr style=\"text-align: right;\">\n",
       "      <th>idx</th>\n",
       "      <th>text</th>\n",
       "    </tr>\n",
       "  </thead>\n",
       "  <tbody>\n",
       "    <tr>\n",
       "      <td>0</td>\n",
       "      <td>that there 's no real plot -- just a bunch of teens on drugs and their various adventures . xxmaj full of hilarious one liners or lines that make you just howl with laughter . xxmaj incredible set design , lighting and directing ( check out the wallpapers on various characters ' bedrooms ) . xxmaj duval is excellent ( and has plenty of casual nude scenes ) . \\n</td>\n",
       "    </tr>\n",
       "    <tr>\n",
       "      <td>1</td>\n",
       "      <td>laugh tracks often were in the era from which this show evolved -- or if they just had a really easily amused audience . i heard the audience laughing , of all things , at xxmaj dick dancing around in a baggy red sweater while a xxup 3d animated caricature of him xxunk on a monitor screen . xxmaj this mystified me , since the show was created in 2004</td>\n",
       "    </tr>\n",
       "    <tr>\n",
       "      <td>2</td>\n",
       "      <td>'s . xxmaj the two \" ladies , \" xxmaj mrs. xxmaj robert macphail and xxmaj mrs. xxmaj walter xxmaj davidson , are decked out from their shoes to their hats which were so stylish and sophisticated , and then comes xxmaj sadie . xxmaj she is not a hooker with a heart of gold but more troubled than in need of salvation . xxmaj what i found hard to</td>\n",
       "    </tr>\n",
       "    <tr>\n",
       "      <td>3</td>\n",
       "      <td>what must the most self - indulgent , esoteric , xxunk one - note joke ever put on art film . xxmaj we have needlessly long- shots , completely disjointed from the movie 's rhyme - scheme , which does nothing but draw attention to the fact that you 're watching a film that desperately craves acknowledgement for its bureaucratic pace and ' artistic ' subtleties . xxmaj but nothing</td>\n",
       "    </tr>\n",
       "    <tr>\n",
       "      <td>4</td>\n",
       "      <td>, it 's not a sickly - sweet boy loves dog movie either , this has got to be one of the most scathing satires ever made . xxmaj the film lumps together elements borrowed from \" xxmaj lassie \" , \" xxmaj rin xxmaj tin xxmaj tin \" , \" xxmaj the littlest xxmaj hobo \" , \" xxmaj skippy the bush kangaroo \" and many more and then</td>\n",
       "    </tr>\n",
       "  </tbody>\n",
       "</table>"
      ],
      "text/plain": [
       "<IPython.core.display.HTML object>"
      ]
     },
     "metadata": {},
     "output_type": "display_data"
    }
   ],
   "source": [
    "data_lm.show_batch()"
   ]
  },
  {
   "cell_type": "markdown",
   "metadata": {},
   "source": [
    "Creamos el modelo en 'learn'. Le pasamos los datos, le asignamos la arquitectura 'AWD_LSTM' (específica para procesamiento de textos), y configuramos 'drop_mult' en 0.3, lo que escalará el [dropout](https://machinelearningmastery.com/dropout-for-regularizing-deep-neural-networks/) programado por defecto en un 30%."
   ]
  },
  {
   "cell_type": "code",
   "execution_count": 25,
   "metadata": {},
   "outputs": [
    {
     "name": "stdout",
     "output_type": "stream",
     "text": [
      "Downloading https://s3.amazonaws.com/fast-ai-modelzoo/wt103-fwd\n"
     ]
    },
    {
     "data": {
      "text/html": [],
      "text/plain": [
       "<IPython.core.display.HTML object>"
      ]
     },
     "metadata": {},
     "output_type": "display_data"
    }
   ],
   "source": [
    "learn = language_model_learner(data_lm, AWD_LSTM, drop_mult=0.3)"
   ]
  },
  {
   "cell_type": "markdown",
   "metadata": {},
   "source": [
    "BUscamos el [*learning rate*](https://machinelearningmastery.com/understand-the-dynamics-of-learning-rate-on-deep-learning-neural-networks/) del modelo."
   ]
  },
  {
   "cell_type": "code",
   "execution_count": 26,
   "metadata": {},
   "outputs": [
    {
     "data": {
      "text/html": [
       "\n",
       "    <div>\n",
       "        <style>\n",
       "            /* Turns off some styling */\n",
       "            progress {\n",
       "                /* gets rid of default border in Firefox and Opera. */\n",
       "                border: none;\n",
       "                /* Needs to be in here for Safari polyfill so background images work as expected. */\n",
       "                background-size: auto;\n",
       "            }\n",
       "            .progress-bar-interrupted, .progress-bar-interrupted::-webkit-progress-bar {\n",
       "                background: #F44336;\n",
       "            }\n",
       "        </style>\n",
       "      <progress value='0' class='' max='1', style='width:300px; height:20px; vertical-align: middle;'></progress>\n",
       "      0.00% [0/1 00:00<00:00]\n",
       "    </div>\n",
       "    \n",
       "<table border=\"1\" class=\"dataframe\">\n",
       "  <thead>\n",
       "    <tr style=\"text-align: left;\">\n",
       "      <th>epoch</th>\n",
       "      <th>train_loss</th>\n",
       "      <th>valid_loss</th>\n",
       "      <th>accuracy</th>\n",
       "      <th>time</th>\n",
       "    </tr>\n",
       "  </thead>\n",
       "  <tbody>\n",
       "  </tbody>\n",
       "</table><p>\n",
       "\n",
       "    <div>\n",
       "        <style>\n",
       "            /* Turns off some styling */\n",
       "            progress {\n",
       "                /* gets rid of default border in Firefox and Opera. */\n",
       "                border: none;\n",
       "                /* Needs to be in here for Safari polyfill so background images work as expected. */\n",
       "                background-size: auto;\n",
       "            }\n",
       "            .progress-bar-interrupted, .progress-bar-interrupted::-webkit-progress-bar {\n",
       "                background: #F44336;\n",
       "            }\n",
       "        </style>\n",
       "      <progress value='99' class='' max='6073', style='width:300px; height:20px; vertical-align: middle;'></progress>\n",
       "      1.63% [99/6073 01:03<1:04:20 11.7287]\n",
       "    </div>\n",
       "    "
      ],
      "text/plain": [
       "<IPython.core.display.HTML object>"
      ]
     },
     "metadata": {},
     "output_type": "display_data"
    },
    {
     "name": "stdout",
     "output_type": "stream",
     "text": [
      "LR Finder is complete, type {learner_name}.recorder.plot() to see the graph.\n"
     ]
    }
   ],
   "source": [
    "learn.lr_find()"
   ]
  },
  {
   "cell_type": "markdown",
   "metadata": {},
   "source": [
    "Graficamos el 'lr'. Con 'skip_end' evitamos la parte final de gráfico para poder visualizar mejor la curva del 'lr'."
   ]
  },
  {
   "cell_type": "code",
   "execution_count": 27,
   "metadata": {},
   "outputs": [
    {
     "data": {
      "image/png": "[encoded data removed]",
      "text/plain": [
       "<Figure size 432x288 with 1 Axes>"
      ]
     },
     "metadata": {
      "needs_background": "light"
     },
     "output_type": "display_data"
    }
   ],
   "source": [
    "learn.recorder.plot(skip_end=15)"
   ]
  },
  {
   "cell_type": "markdown",
   "metadata": {},
   "source": [
    "Entrenamos durante una época con un 'lr' de 0.01. Con 'moms' seleccionamos unos *momentums* para variar la velocidad de aprendizaje en finción del *learning rate*. Si el 'lr' es alto el momento será bajo, y si el 'lr' es bajo el momento será alto. "
   ]
  },
  {
   "cell_type": "code",
   "execution_count": 28,
   "metadata": {},
   "outputs": [
    {
     "data": {
      "text/html": [
       "<table border=\"1\" class=\"dataframe\">\n",
       "  <thead>\n",
       "    <tr style=\"text-align: left;\">\n",
       "      <th>epoch</th>\n",
       "      <th>train_loss</th>\n",
       "      <th>valid_loss</th>\n",
       "      <th>accuracy</th>\n",
       "      <th>time</th>\n",
       "    </tr>\n",
       "  </thead>\n",
       "  <tbody>\n",
       "    <tr>\n",
       "      <td>0</td>\n",
       "      <td>4.148712</td>\n",
       "      <td>4.036776</td>\n",
       "      <td>0.294481</td>\n",
       "      <td>1:08:17</td>\n",
       "    </tr>\n",
       "  </tbody>\n",
       "</table>"
      ],
      "text/plain": [
       "<IPython.core.display.HTML object>"
      ]
     },
     "metadata": {},
     "output_type": "display_data"
    }
   ],
   "source": [
    "learn.fit_one_cycle(1, 1e-2, moms=(0.8,0.7))"
   ]
  },
  {
   "cell_type": "markdown",
   "metadata": {},
   "source": [
    "Guardamos y cargamos de nuevo."
   ]
  },
  {
   "cell_type": "code",
   "execution_count": 29,
   "metadata": {},
   "outputs": [],
   "source": [
    "learn.save('fit_head')"
   ]
  },
  {
   "cell_type": "code",
   "execution_count": 30,
   "metadata": {},
   "outputs": [
    {
     "data": {
      "text/plain": [
       "LanguageLearner(data=TextLMDataBunch;\n",
       "\n",
       "Train: LabelList (67500 items)\n",
       "x: LMTextList\n",
       "xxbos xxmaj dark ( xxmaj james xxmaj duval ) and his friends live in an xxup la with drugs , sex , suicide , murder and such running wild . xxmaj dark just wants to find somebody to love and who loves him back -- male or female . xxmaj oh yeah -- there are aliens wandering around too ( ! ! ! ? ? ? ) xxmaj other than that there 's no real plot -- just a bunch of teens on drugs and their various adventures . xxmaj full of hilarious one liners or lines that make you just howl with laughter . xxmaj incredible set design , lighting and directing ( check out the wallpapers on various characters ' bedrooms ) . xxmaj duval is excellent ( and has plenty of casual nude scenes ) . \n",
       " \n",
       "  xxmaj always interesting and very well - acted by a xxup very interesting cast . xxmaj not as good as \" xxmaj living xxmaj end \" or \" xxmaj totally xxmaj f**ked xxmaj up \" but well worth seeing . xxmaj the sequence that ends the film is a laugh riot -- unfortunately it 's not supposed to be . \n",
       " \n",
       "  xxup spoilers xxup in xxup next xxup paragraph xxrep 4 ! xxup warning xxrep 8 ! \n",
       " \n",
       "  xxmaj one guy is telling another in bed that he loves him and just got back from being kidnapped by aliens ( no kidding ! ) xxmaj when he came out with \" xxmaj all i thought as i was being put into the space pod , is how much i loved you \" . i saw it in a theatre and the audience started giggling -- me too ( for the record , i 'm gay ) . xxmaj it just was xxup so stupid ... the acting is very good but the lines are horrible . xxmaj then he transforms into a giant bug and says \" i 'm out o ' here \" and leaves . xxmaj by the time that came on , me ( and the rest of the audience ) were in hysterics . xxmaj what the hell was xxmaj araki trying to do with that ? \n",
       " \n",
       "  xxmaj so , a very interesting good film until that really stupid ending . xxmaj also it has xxmaj ryan xxmaj xxunk in an early role .,xxbos * xxup edit : i urgently have xxup got to add severe corrections to the following text , but reading thru it , you 'll see i do by myself uncover the lies of this movie , when i write that xxmaj mitnick \" just accessed some data \" : \n",
       " \n",
       "  i read thru the other comments . xxmaj many people realize that this movie is a clear exploitation of our completely innocent hero xxmaj mitnick by authors who wrote a book without knowing him or his story at all , or if they did , they simply lie to us all . xxmaj this movie is propaganda that does n't admit that it is such , but then , propaganda always cloaks itself . xxmaj only at the end of the movie some thoughts about \" regret \" . xxmaj not enough by far . i can only join most good folks round here in saying to you : xxmaj distrust this movie , watch it , but then watch the truth , namely \" xxmaj freedom xxmaj downtime \" . i thank all the ones who spread the truth here . xxmaj thanks for not letting us all fall back into the third xxmaj reich ! xxmaj go see the movie \" xxmaj the xxmaj serpent 's xxmaj egg \" , also , as a warning from the danger of fascism . xxup editend * \n",
       " \n",
       "  xxmaj somewhere , at two thirds of the film , i realized the critical view , the critical stand the direction takes , also against the government . \n",
       " \n",
       "  xxmaj right before the end , after he visits xxmaj mitnick , our xxmaj nakamura or so starts to seriously regret what he did . \n",
       " \n",
       "  xxmaj the world is now at an abyss . xxmaj we will fall into it if we let that fascist and covert exaggeration of the by itself good concept of thought and idea property rule on undeveloped . \n",
       " \n",
       "  xxmaj info xxup does xxup not flow freely thru the world . xxmaj this is xxup not right and leads to a state that we already reached where only rich people can obtain knowledge and education . \n",
       " \n",
       "  xxmaj the whole patent system and concept is highly corrupt and willful . \n",
       " \n",
       "  xxmaj although it protects the ideas and works of serious and sincere , xxup really honorable people , it turns this concept of protection upside down and restricts access to culture to people who pay for it any given price . \n",
       " \n",
       "  xxmaj and prices are too high . xxup way too high . a single xxup dvd , 20 xxmaj euro , that 's some 20 dollars ? xxmaj too high . \n",
       " \n",
       "  xxmaj this movie has xxup got me at the end . i am happy that out there , there are some ethical , good directors of movies . xxmaj there ai n't a lot of em . \n",
       " \n",
       "  xxmaj there are many different \" hackers \" . xxmaj most of em are good . xxmaj only really few have clearly destructive intentions , and xxup those are the ones spamming the net with all those cute viruses . \n",
       " \n",
       "  xxmaj peter xxmaj sellers did a movie against the movie industry , the name 's \" xxmaj the xxmaj party \" . xxmaj if xxmaj sellers would have known his xxup own movie would become a central aspect of the illegality of obtaining it without paying , he would xxup turn in his grave . \n",
       " \n",
       "  i agree we should pay the xxup crew of the movie , all the people that worked in it , and also the folks who gave the money to realize it xxup some substitute and reward for their brilliant work . \n",
       " \n",
       "  xxmaj but twenty dollars for a xxup dvd ? xxmaj even 10 xxmaj dollars ? xxmaj too much . xxmaj too much ! \n",
       " \n",
       "  xxmaj it 's like the taxes in the times of the xxmaj sheriff of xxmaj nottingham . \n",
       " \n",
       "  xxmaj too much . xxmaj simply too much . \n",
       " \n",
       "  xxmaj but we only stand up when we xxup ourselves got nothing ' to eat . xxmaj before that , we xxup do xxup not stand up against injustice , even fascism . \n",
       " \n",
       "  xxmaj as xxmaj mitnick said : xxmaj he could take huge amounts of money from accounts he 's got access to . xxmaj but he does not do it . xxmaj so why is that xxup fbi cop so keen on busting ' him . xxmaj because the in itself corrupt hegemonic system has to protect its interests . xxmaj which are : xxmaj makin ' dough . a xxup lot of it . i hope by here , you see a glimpse of self - contradiction in our everyday life . \n",
       " \n",
       "  xxmaj what they did to xxmaj kevin xxmaj mitnick is a shameful injustice . xxmaj what ? xxmaj he just accessed some data ? \n",
       " \n",
       "  xxmaj when he caught that other phone call , i wondered why he does n't go out and protect that lady . xxmaj he could maybe find out who was calling . xxmaj no , not the case . xxmaj he was just scanning for cellular calls on some frequency , by the aid of the xxunk apparatus attached to his cellular . \n",
       " \n",
       "  xxmaj one could use that for the good . xxmaj the problem : xxmaj big xxmaj brother . xxup who is controlling those controlling machines ? \n",
       " \n",
       "  xxmaj this also leads me to the fact that democracy is not only way too capitalistic - in the last years , there have sprung out economy con men , partially \" network marketeers \" and others , by the tens of thousands , even more . \n",
       " \n",
       "  xxmaj the governments are not acting strongly enough to catch the guys that xxup really make money by unjustified and cheating means . \n",
       " \n",
       "  xxmaj they go for the ones they xxup can catch . \n",
       " \n",
       "  xxmaj good guys get busted , the real bad ones not . \n",
       " \n",
       "  xxup that is the message of xxmaj hackers 2 . i remember that was a part of xxmaj hackers 1 , too . * xxup edit : xxmaj this last sentence is total xxup bs , sorry i was so stupid to believe in this movie . xxmaj also xxmaj hackers 1 tries to justify the xxunk of ethical , rebellious and intelligent people by the state authorities . xxup editend * \n",
       " \n",
       "  xxmaj those movies want to show the audience that hackers are mostly very ethical people who just use their means for their convictions . * xxup edit : xxmaj also that last statement is untrue . xxmaj the movie does a good job between not too obviously demonizing hackers and between in fact doing exactly that , for example , when xxmaj kevin is shown having trouble getting along with a girlfriend . xxup editend * \n",
       " \n",
       "  xxmaj which are xxup way better than the convictions of some government - related forces . xxmaj they just follow orders , they do n't judge by themselves what they 're doing . \n",
       " \n",
       "  xxmaj good movie hint to continue in your rebellion against the system : \n",
       " \n",
       "  \" xxmaj the xxmaj falcon and the xxmaj snowman \" . xxmaj excellent . xxmaj about a government computer systems employee that becomes an accomplice to some friend of his who goes to the xxmaj russians to try and sell them some information from his friend .,xxbos a comment on the front cover of the xxup dvd case for xxmaj hard xxmaj boiled says that it is ' more exciting than a dozen xxmaj die xxmaj hards ' . a dozen may be an over statement but this exciting balletic action from genre maestro xxmaj john xxmaj woo does its best to blow you away ! xxmaj this is easily xxmaj woo 's best film along with xxmaj the xxmaj killer and is a mile apart from any of his mediocre xxmaj hollywood efforts . xxmaj he manages to take the classic elements of the cop movie , including plot devices , typical inciting incidents and characterisation and overload it with as much action you can fire a gun at , creating two hours of pure adrenaline rush . xxmaj the superb action sequences are split up by good plot detail and a bit of humour thrown in for good measure , a lot of it completely incongruous to the often violent scenario ( the sequence with xxmaj yun - xxmaj fat dodging bullets while holding a baby for example ) . xxmaj in this sense it does n't take itself too seriously and the respectable , if basic storyline helps to make this not jut another pointless action workout . xxmaj if your not a fan of subtitles then watch it for the action sequences and any xxunk of all things violent would lap this up . xxmaj the amount of bullets fired is staggering and the gunplay and stuntwork is some of the best you will ever see ! xxmaj the last 40 minutes in particular is pretty jaw - dropping , with explosions and bullets xxunk , amidst the frenetic camera - work and stylish visuals . xxmaj hard xxmaj boiled must be near to the record for having the highest on - screen body - count in a film and this is a statistic that hints at what to expect . xxmaj amazing . \n",
       " \n",
       "  8 / 10,xxbos xxmaj since every divorce or separation is unique and comes with guaranteed conflict , it is a natural theme for drama . xxmaj also , given the fact that over half the marriages in the xxmaj united xxmaj states end in divorce , it is a topic that almost everyone has had some experience with . \n",
       " \n",
       "  xxmaj while \" xxmaj the xxmaj squid and the xxmaj whale \" is not up to the quality of \" xxmaj scenes from a xxmaj marriage \" or \" xxmaj kramer vs. xxmaj kramer \" it is solidly crafted and exposes enough raw nerves that i was not left wanting more details . xxmaj it will probably bring up a lot of bad memories for a lot of people . \n",
       " \n",
       "  xxmaj in this movie we have a family of four with the parents , xxmaj bernard and xxmaj joan ( xxmaj jeff xxmaj daniels and xxmaj laura xxmaj linney ) , being writers with xxmaj joan 's career on the ascent and xxmaj bernard 's on the decline . xxmaj there are two boys , aged about sixteen and twelve . xxmaj being literary types , xxmaj bernard and xxmaj joan are well equipped to fight and manipulate with words . xxmaj initially the boys take sides , but things get complicated as time goes by . xxmaj under stress people frequently reveal unknown or unexpected personality traits and in the course of \" xxmaj the xxmaj squid and the xxmaj whale \" all the family members learn a lot new about each other . \n",
       " \n",
       "  xxmaj the thing i liked most about \" xxmaj the xxmaj squid and the xxmaj whale \" is that we get to witness the family dynamics play out from the perspective of each of the four participants . \n",
       " \n",
       "  xxmaj the final scene is near perfect as the older son comes to a new understanding of what is happening to his family through the metaphor of the squid and the whale exhibit at the xxmaj american xxmaj museum of xxmaj natural xxmaj history in xxmaj manhattan .,xxbos i like when xxmaj dolph xxmaj lundgren direct xxmaj movies . i have seen several of xxmaj movies he directed and it shows his talent as an xxmaj actor and xxmaj director . xxmaj the only problem with this xxmaj movie , the bad guy : xxmaj why do the xxmaj bad xxmaj guys always look so ugly ? xxmaj however , rather then xxmaj schwarznegger , xxmaj dolph xxmaj lundgren has n't lost that touch of a xxmaj cool xxmaj action xxmaj dud xxmaj he gets better the older he gets . xxmaj its funny , every time i see xxmaj lundgren on xxmaj screen its like reminds me , oh there must be something about xxmaj russia or so . xxmaj rather then xxmaj retrograde this xxmaj movie was a lot better . xxmaj retrograde was waste of his xxmaj talent . xxmaj its really cool to watch xxmaj xxunk xxmaj movies and i know that there are some moments i think no this is not acting . xxmaj this is himself .\n",
       "y: LMLabelList\n",
       ",,,,\n",
       "Path: /storage/imdb;\n",
       "\n",
       "Valid: LabelList (7500 items)\n",
       "x: LMTextList\n",
       "xxbos xxmaj the xxmaj italian people probably felt a moral degradation knowing that their government had participated in exterminating xxmaj jews during xxup wwii . \" xxmaj the xxmaj garden of the xxmaj finzi - xxmaj continis \" was probably their way of showing that they were xxunk for it . xxmaj it tells of the xxmaj jewish xxmaj finzi - xxmaj contini family in xxmaj ferrara in the 1930s . xxmaj they are a very well off family ( with a false sense of security ) , and many of the people within the family are falling for each other . xxmaj unfortunately for them , not even their social status can protect them from the doom that awaits them . \n",
       " \n",
       "  xxmaj much like in \" xxmaj the xxmaj bicycle xxmaj thief \" over 20 years earlier , xxmaj vittorio xxmaj de xxmaj sica shows the desperate existences of a few people , surrounded by what many incorrectly assumed to be a joyful world . xxmaj wonderful .,xxbos xxmaj so xxmaj close is nothing like xxmaj charlie 's xxmaj angels . xxmaj three beautiful women in the lead , two of them contract killers and one police . xxmaj there is some drama - plot involved but that does n't hold too well . xxmaj sometimes there are a few silly minor things but all in all the movie was very entertaining . xxmaj fight choreography was at least very interesting and quite original . \n",
       " \n",
       "  xxmaj rating : 7 / 10 \n",
       " \n",
       " ,xxbos xxmaj making a military movie without official cooperation can be difficult . xxmaj if the story does n't require major air or naval assets , a script disapproved of by the top brass can be convincingly brought to the screen . xxmaj two examples - both true stories that the xxmaj pentagon did n't want to support - are \" xxmaj men of xxmaj honor \" reflecting the epidemic racism of the not - that - long - ago xxmaj navy and \" xxmaj sgt . xxmaj bilko , \" a film portraying what some xxunk do to earn extra income ( trust me , it 's a true story : a real xxmaj sgt . xxmaj bilko worked ( officially but not actually ) for me when i was an xxmaj army officer . \n",
       " \n",
       "  xxmaj but when you need lots of planes and ships , you got ta have official help . xxmaj and few movies have gotten more assistance than the producer , director and cast of \" xxmaj the xxmaj final xxmaj countdown , \" now available on xxup dvd , a sci - fi recruiting spectacular that features - on loan at taxpayer expense - the huge carrier xxup u.s.s. xxmaj nimitz complete with crew . xxmaj now that 's cooperation ! \n",
       " \n",
       "  xxmaj kirk xxmaj douglas xxunk the xxunk which is on xxmaj pacific xxmaj fleet maneuvers . xxmaj on board as some sort of efficiency consultant is a young xxmaj martin xxmaj sheen , not yet ready for the xxmaj west xxmaj wing . a mysterious and never explained weather phenomenon grips the mighty floating air base and to the unfolding amazement of captain , officers and crew dawns the realization that the xxmaj nimitz in sailing not that far from xxmaj pearl xxmaj harbor on 6 xxmaj december 1941 . \n",
       " \n",
       "  xxmaj meanwhile a xxup u.s. senator , played by one of xxmaj hollywood 's deservedly decorated war heroes , xxmaj charles xxmaj durning , is enjoying his yacht , also near xxmaj pearl , while dictating to his lovely secretary , xxmaj katharine xxmaj ross . a brace of xxmaj japanese xxmaj zeroes sink the yacht , killing two passengers which then prompts the carrier xxup c.o. to order trailing xxup f-14 xxmaj tomcats to \" splash \" the \" enemy . \" xxmaj durning and xxmaj ross are rescued . xxmaj without a word , this talented actor 's face does a comical double - take when introduced to the ship 's executive officer who just happens to be black ( in 1941 a black navy man could only serve as a steward in the officers mess . xxmaj that was it . xxmaj period . ) \n",
       " \n",
       "  xxmaj the dilemma facing xxmaj douglas , of course , is a classic time - travel conundrum . xxmaj to interfere with the course of history ( the carrier 's air wing can make instant xxunk of the six xxmaj japanese carriers ) or to let events take their known and disastrous course . \n",
       " \n",
       "  a chaste incipient romance between the nearly drowned damsel and the carrier 's xxmaj commander xxmaj air xxmaj group competes with the white knuckle decision - making struggle of the xxup c.o. \n",
       " \n",
       "  xxmaj so much for the plot . xxmaj what is on offer here is a demonstration of every aircraft type , fixed - wing and rotary , deployed on the vessel as well as demonstrations of shipboard activities ranging from retrieving a damaged jet to going to xxmaj general xxmaj quarters to ... you name it . xxmaj the technical advisers knew they had a film crew xxunk to every suggestion . xxmaj the result is a genuinely exciting show- a great warship going through its paces . xxmaj and , unlike \" xxmaj tora xxmaj tora xxmaj tora \" it does n't appear that any genuine sailors were harmed in the making of the movie . \n",
       " \n",
       "  xxmaj there 's one big problem . a science fiction story is usually utterly improbable , indeed impossible , but its internal logic is vital : it must be consistent . xxmaj spielberg understands that very well . xxmaj watch the first couple of minutes when xxmaj sheen is greeted by his employer 's lackey and the last minutes when he xxunk from the xxmaj nimitz . xxmaj something is very , very off - kilter . xxmaj could the xxup ceo of a great military - industrial conglomerate have used top secret technology to send the carrier back to 1941 for ... \n",
       " \n",
       "  xxmaj so what . xxmaj this is a beautifully filmed adventure story , not a great film . xxmaj the cast probably relished taking over the carrier for a while and the real captain , never shown , surely wished that the xxmaj navy had n't banned hard spirits from our ships in xxmaj world xxmaj war xxup i. xxmaj but all emerge unscathed in a genuinely entertaining romp through time . \n",
       " \n",
       "  8 / 10 \n",
       " \n",
       " ,xxbos xxmaj sergeant xxmaj ryker is accused of being a traitor during the xxmaj korean xxmaj war , a hanging offense . a long drawn out court - marshal ensues during which time the xxmaj sgt . must remain in a military jail . xxmaj after much investigation the defense attorney attempts to exonerate the doomed non - com with an eleventh hour ploy . xxmaj very good picture .,xxbos xxup wwe 's last xxup ppv of 2006 , proved to be a hit with the fans , but for one reason only , the ladder match which was only scheduled to be xxmaj paul xxmaj london and xxmaj brian xxmaj kendrick against xxmaj william xxmaj regal and xxmaj dave xxmaj taylor . xxmaj but with the recent crap xxup ppv being xxmaj december to xxmaj dismember , xxup wwe knew that it had to do something to get the fans talking again , this proved useful when it introduced xxup mnm and xxmaj the xxmaj hardy xxmaj boyz to the mix and announced that the match was going to be a ladder match . \n",
       " \n",
       "  xxmaj the match was brutal and one of the best ladder matches i have ever seen , but xxmaj joey xxmaj mercury 's face was a total mess . xxmaj johnny xxmaj nitro did n't even check on his partner , they just carried on like nothing happened , and xxmaj taylor and xxmaj regal did nothing during the match except hit people with a few ladder shots . xxmaj in the end xxmaj london and xxmaj kendrick retained the titles . \n",
       " \n",
       "  xxmaj elsewhere on the show xxmaj kane defeated xxup mvp in a decent inferno match when he set xxup mvp 's stupid costume on fire . xxmaj chris xxmaj benoit downed xxmaj chavo xxmaj guerrero in a decent match , xxmaj gregory xxmaj helms defeated xxmaj jimmy xxmaj wang xxmaj yang to retain the xxup wwe xxmaj cruiserweight xxmaj title in a solid effort . \n",
       " \n",
       "  xxmaj but the main event was a total mess , xxmaj king xxmaj booker teamed with xxmaj finlay to take on xxmaj john xxmaj cena and xxmaj batista . xxmaj the action was shoddy and no one cared who xxmaj batista picked for his partner . \n",
       " \n",
       "  xxmaj overall xxmaj results : xxmaj kane defeated xxup mvp in an inferno match . \n",
       " \n",
       "  xxmaj paul xxmaj london and xxmaj brian xxmaj kendrick retained the xxup wwe xxmaj tag team titles against xxmaj the xxmaj hardy xxmaj boyz , xxup mnm and xxmaj david xxmaj taylor and xxmaj william xxmaj regal in a ladder match . \n",
       " \n",
       "  xxmaj chris xxmaj benoit defeated xxmaj chavo xxmaj guerrero to retain the xxup us title in a decent match . \n",
       " \n",
       "  xxmaj gregory xxmaj helms defeated xxmaj jimmy xxmaj wang xxmaj yang to retain the xxmaj cruiserweight xxmaj championship . \n",
       " \n",
       "  xxmaj the xxmaj boogeyman beat xxmaj the xxmaj miz in a terrible match . \n",
       " \n",
       "  xxmaj the xxmaj undertaker defeated xxmaj mr xxmaj kennedy in a last ride match . \n",
       " \n",
       "  xxmaj john xxmaj cena and xxmaj batista defeated xxmaj king xxmaj booker and xxmaj finlay in an abysmal match . \n",
       " \n",
       "  xxmaj overall xxmaj grade - b\n",
       "y: LMLabelList\n",
       ",,,,\n",
       "Path: /storage/imdb;\n",
       "\n",
       "Test: None, model=SequentialRNN(\n",
       "  (0): AWD_LSTM(\n",
       "    (encoder): Embedding(59952, 400, padding_idx=1)\n",
       "    (encoder_dp): EmbeddingDropout(\n",
       "      (emb): Embedding(59952, 400, padding_idx=1)\n",
       "    )\n",
       "    (rnns): ModuleList(\n",
       "      (0): WeightDropout(\n",
       "        (module): LSTM(400, 1152, batch_first=True)\n",
       "      )\n",
       "      (1): WeightDropout(\n",
       "        (module): LSTM(1152, 1152, batch_first=True)\n",
       "      )\n",
       "      (2): WeightDropout(\n",
       "        (module): LSTM(1152, 400, batch_first=True)\n",
       "      )\n",
       "    )\n",
       "    (input_dp): RNNDropout()\n",
       "    (hidden_dps): ModuleList(\n",
       "      (0): RNNDropout()\n",
       "      (1): RNNDropout()\n",
       "      (2): RNNDropout()\n",
       "    )\n",
       "  )\n",
       "  (1): LinearDecoder(\n",
       "    (decoder): Linear(in_features=400, out_features=59952, bias=True)\n",
       "    (output_dp): RNNDropout()\n",
       "  )\n",
       "), opt_func=functools.partial(<class 'torch.optim.adam.Adam'>, betas=(0.9, 0.99)), loss_func=FlattenedLoss of CrossEntropyLoss(), metrics=[<function accuracy at 0x7f5298ecfd90>], true_wd=True, bn_wd=True, wd=0.01, train_bn=True, path=PosixPath('/storage/imdb'), model_dir='models', callback_fns=[functools.partial(<class 'fastai.basic_train.Recorder'>, add_time=True, silent=False)], callbacks=[RNNTrainer\n",
       "learn: LanguageLearner(data=TextLMDataBunch;\n",
       "\n",
       "Train: LabelList (67500 items)\n",
       "x: LMTextList\n",
       "xxbos xxmaj dark ( xxmaj james xxmaj duval ) and his friends live in an xxup la with drugs , sex , suicide , murder and such running wild . xxmaj dark just wants to find somebody to love and who loves him back -- male or female . xxmaj oh yeah -- there are aliens wandering around too ( ! ! ! ? ? ? ) xxmaj other than that there 's no real plot -- just a bunch of teens on drugs and their various adventures . xxmaj full of hilarious one liners or lines that make you just howl with laughter . xxmaj incredible set design , lighting and directing ( check out the wallpapers on various characters ' bedrooms ) . xxmaj duval is excellent ( and has plenty of casual nude scenes ) . \n",
       " \n",
       "  xxmaj always interesting and very well - acted by a xxup very interesting cast . xxmaj not as good as \" xxmaj living xxmaj end \" or \" xxmaj totally xxmaj f**ked xxmaj up \" but well worth seeing . xxmaj the sequence that ends the film is a laugh riot -- unfortunately it 's not supposed to be . \n",
       " \n",
       "  xxup spoilers xxup in xxup next xxup paragraph xxrep 4 ! xxup warning xxrep 8 ! \n",
       " \n",
       "  xxmaj one guy is telling another in bed that he loves him and just got back from being kidnapped by aliens ( no kidding ! ) xxmaj when he came out with \" xxmaj all i thought as i was being put into the space pod , is how much i loved you \" . i saw it in a theatre and the audience started giggling -- me too ( for the record , i 'm gay ) . xxmaj it just was xxup so stupid ... the acting is very good but the lines are horrible . xxmaj then he transforms into a giant bug and says \" i 'm out o ' here \" and leaves . xxmaj by the time that came on , me ( and the rest of the audience ) were in hysterics . xxmaj what the hell was xxmaj araki trying to do with that ? \n",
       " \n",
       "  xxmaj so , a very interesting good film until that really stupid ending . xxmaj also it has xxmaj ryan xxmaj xxunk in an early role .,xxbos * xxup edit : i urgently have xxup got to add severe corrections to the following text , but reading thru it , you 'll see i do by myself uncover the lies of this movie , when i write that xxmaj mitnick \" just accessed some data \" : \n",
       " \n",
       "  i read thru the other comments . xxmaj many people realize that this movie is a clear exploitation of our completely innocent hero xxmaj mitnick by authors who wrote a book without knowing him or his story at all , or if they did , they simply lie to us all . xxmaj this movie is propaganda that does n't admit that it is such , but then , propaganda always cloaks itself . xxmaj only at the end of the movie some thoughts about \" regret \" . xxmaj not enough by far . i can only join most good folks round here in saying to you : xxmaj distrust this movie , watch it , but then watch the truth , namely \" xxmaj freedom xxmaj downtime \" . i thank all the ones who spread the truth here . xxmaj thanks for not letting us all fall back into the third xxmaj reich ! xxmaj go see the movie \" xxmaj the xxmaj serpent 's xxmaj egg \" , also , as a warning from the danger of fascism . xxup editend * \n",
       " \n",
       "  xxmaj somewhere , at two thirds of the film , i realized the critical view , the critical stand the direction takes , also against the government . \n",
       " \n",
       "  xxmaj right before the end , after he visits xxmaj mitnick , our xxmaj nakamura or so starts to seriously regret what he did . \n",
       " \n",
       "  xxmaj the world is now at an abyss . xxmaj we will fall into it if we let that fascist and covert exaggeration of the by itself good concept of thought and idea property rule on undeveloped . \n",
       " \n",
       "  xxmaj info xxup does xxup not flow freely thru the world . xxmaj this is xxup not right and leads to a state that we already reached where only rich people can obtain knowledge and education . \n",
       " \n",
       "  xxmaj the whole patent system and concept is highly corrupt and willful . \n",
       " \n",
       "  xxmaj although it protects the ideas and works of serious and sincere , xxup really honorable people , it turns this concept of protection upside down and restricts access to culture to people who pay for it any given price . \n",
       " \n",
       "  xxmaj and prices are too high . xxup way too high . a single xxup dvd , 20 xxmaj euro , that 's some 20 dollars ? xxmaj too high . \n",
       " \n",
       "  xxmaj this movie has xxup got me at the end . i am happy that out there , there are some ethical , good directors of movies . xxmaj there ai n't a lot of em . \n",
       " \n",
       "  xxmaj there are many different \" hackers \" . xxmaj most of em are good . xxmaj only really few have clearly destructive intentions , and xxup those are the ones spamming the net with all those cute viruses . \n",
       " \n",
       "  xxmaj peter xxmaj sellers did a movie against the movie industry , the name 's \" xxmaj the xxmaj party \" . xxmaj if xxmaj sellers would have known his xxup own movie would become a central aspect of the illegality of obtaining it without paying , he would xxup turn in his grave . \n",
       " \n",
       "  i agree we should pay the xxup crew of the movie , all the people that worked in it , and also the folks who gave the money to realize it xxup some substitute and reward for their brilliant work . \n",
       " \n",
       "  xxmaj but twenty dollars for a xxup dvd ? xxmaj even 10 xxmaj dollars ? xxmaj too much . xxmaj too much ! \n",
       " \n",
       "  xxmaj it 's like the taxes in the times of the xxmaj sheriff of xxmaj nottingham . \n",
       " \n",
       "  xxmaj too much . xxmaj simply too much . \n",
       " \n",
       "  xxmaj but we only stand up when we xxup ourselves got nothing ' to eat . xxmaj before that , we xxup do xxup not stand up against injustice , even fascism . \n",
       " \n",
       "  xxmaj as xxmaj mitnick said : xxmaj he could take huge amounts of money from accounts he 's got access to . xxmaj but he does not do it . xxmaj so why is that xxup fbi cop so keen on busting ' him . xxmaj because the in itself corrupt hegemonic system has to protect its interests . xxmaj which are : xxmaj makin ' dough . a xxup lot of it . i hope by here , you see a glimpse of self - contradiction in our everyday life . \n",
       " \n",
       "  xxmaj what they did to xxmaj kevin xxmaj mitnick is a shameful injustice . xxmaj what ? xxmaj he just accessed some data ? \n",
       " \n",
       "  xxmaj when he caught that other phone call , i wondered why he does n't go out and protect that lady . xxmaj he could maybe find out who was calling . xxmaj no , not the case . xxmaj he was just scanning for cellular calls on some frequency , by the aid of the xxunk apparatus attached to his cellular . \n",
       " \n",
       "  xxmaj one could use that for the good . xxmaj the problem : xxmaj big xxmaj brother . xxup who is controlling those controlling machines ? \n",
       " \n",
       "  xxmaj this also leads me to the fact that democracy is not only way too capitalistic - in the last years , there have sprung out economy con men , partially \" network marketeers \" and others , by the tens of thousands , even more . \n",
       " \n",
       "  xxmaj the governments are not acting strongly enough to catch the guys that xxup really make money by unjustified and cheating means . \n",
       " \n",
       "  xxmaj they go for the ones they xxup can catch . \n",
       " \n",
       "  xxmaj good guys get busted , the real bad ones not . \n",
       " \n",
       "  xxup that is the message of xxmaj hackers 2 . i remember that was a part of xxmaj hackers 1 , too . * xxup edit : xxmaj this last sentence is total xxup bs , sorry i was so stupid to believe in this movie . xxmaj also xxmaj hackers 1 tries to justify the xxunk of ethical , rebellious and intelligent people by the state authorities . xxup editend * \n",
       " \n",
       "  xxmaj those movies want to show the audience that hackers are mostly very ethical people who just use their means for their convictions . * xxup edit : xxmaj also that last statement is untrue . xxmaj the movie does a good job between not too obviously demonizing hackers and between in fact doing exactly that , for example , when xxmaj kevin is shown having trouble getting along with a girlfriend . xxup editend * \n",
       " \n",
       "  xxmaj which are xxup way better than the convictions of some government - related forces . xxmaj they just follow orders , they do n't judge by themselves what they 're doing . \n",
       " \n",
       "  xxmaj good movie hint to continue in your rebellion against the system : \n",
       " \n",
       "  \" xxmaj the xxmaj falcon and the xxmaj snowman \" . xxmaj excellent . xxmaj about a government computer systems employee that becomes an accomplice to some friend of his who goes to the xxmaj russians to try and sell them some information from his friend .,xxbos a comment on the front cover of the xxup dvd case for xxmaj hard xxmaj boiled says that it is ' more exciting than a dozen xxmaj die xxmaj hards ' . a dozen may be an over statement but this exciting balletic action from genre maestro xxmaj john xxmaj woo does its best to blow you away ! xxmaj this is easily xxmaj woo 's best film along with xxmaj the xxmaj killer and is a mile apart from any of his mediocre xxmaj hollywood efforts . xxmaj he manages to take the classic elements of the cop movie , including plot devices , typical inciting incidents and characterisation and overload it with as much action you can fire a gun at , creating two hours of pure adrenaline rush . xxmaj the superb action sequences are split up by good plot detail and a bit of humour thrown in for good measure , a lot of it completely incongruous to the often violent scenario ( the sequence with xxmaj yun - xxmaj fat dodging bullets while holding a baby for example ) . xxmaj in this sense it does n't take itself too seriously and the respectable , if basic storyline helps to make this not jut another pointless action workout . xxmaj if your not a fan of subtitles then watch it for the action sequences and any xxunk of all things violent would lap this up . xxmaj the amount of bullets fired is staggering and the gunplay and stuntwork is some of the best you will ever see ! xxmaj the last 40 minutes in particular is pretty jaw - dropping , with explosions and bullets xxunk , amidst the frenetic camera - work and stylish visuals . xxmaj hard xxmaj boiled must be near to the record for having the highest on - screen body - count in a film and this is a statistic that hints at what to expect . xxmaj amazing . \n",
       " \n",
       "  8 / 10,xxbos xxmaj since every divorce or separation is unique and comes with guaranteed conflict , it is a natural theme for drama . xxmaj also , given the fact that over half the marriages in the xxmaj united xxmaj states end in divorce , it is a topic that almost everyone has had some experience with . \n",
       " \n",
       "  xxmaj while \" xxmaj the xxmaj squid and the xxmaj whale \" is not up to the quality of \" xxmaj scenes from a xxmaj marriage \" or \" xxmaj kramer vs. xxmaj kramer \" it is solidly crafted and exposes enough raw nerves that i was not left wanting more details . xxmaj it will probably bring up a lot of bad memories for a lot of people . \n",
       " \n",
       "  xxmaj in this movie we have a family of four with the parents , xxmaj bernard and xxmaj joan ( xxmaj jeff xxmaj daniels and xxmaj laura xxmaj linney ) , being writers with xxmaj joan 's career on the ascent and xxmaj bernard 's on the decline . xxmaj there are two boys , aged about sixteen and twelve . xxmaj being literary types , xxmaj bernard and xxmaj joan are well equipped to fight and manipulate with words . xxmaj initially the boys take sides , but things get complicated as time goes by . xxmaj under stress people frequently reveal unknown or unexpected personality traits and in the course of \" xxmaj the xxmaj squid and the xxmaj whale \" all the family members learn a lot new about each other . \n",
       " \n",
       "  xxmaj the thing i liked most about \" xxmaj the xxmaj squid and the xxmaj whale \" is that we get to witness the family dynamics play out from the perspective of each of the four participants . \n",
       " \n",
       "  xxmaj the final scene is near perfect as the older son comes to a new understanding of what is happening to his family through the metaphor of the squid and the whale exhibit at the xxmaj american xxmaj museum of xxmaj natural xxmaj history in xxmaj manhattan .,xxbos i like when xxmaj dolph xxmaj lundgren direct xxmaj movies . i have seen several of xxmaj movies he directed and it shows his talent as an xxmaj actor and xxmaj director . xxmaj the only problem with this xxmaj movie , the bad guy : xxmaj why do the xxmaj bad xxmaj guys always look so ugly ? xxmaj however , rather then xxmaj schwarznegger , xxmaj dolph xxmaj lundgren has n't lost that touch of a xxmaj cool xxmaj action xxmaj dud xxmaj he gets better the older he gets . xxmaj its funny , every time i see xxmaj lundgren on xxmaj screen its like reminds me , oh there must be something about xxmaj russia or so . xxmaj rather then xxmaj retrograde this xxmaj movie was a lot better . xxmaj retrograde was waste of his xxmaj talent . xxmaj its really cool to watch xxmaj xxunk xxmaj movies and i know that there are some moments i think no this is not acting . xxmaj this is himself .\n",
       "y: LMLabelList\n",
       ",,,,\n",
       "Path: /storage/imdb;\n",
       "\n",
       "Valid: LabelList (7500 items)\n",
       "x: LMTextList\n",
       "xxbos xxmaj the xxmaj italian people probably felt a moral degradation knowing that their government had participated in exterminating xxmaj jews during xxup wwii . \" xxmaj the xxmaj garden of the xxmaj finzi - xxmaj continis \" was probably their way of showing that they were xxunk for it . xxmaj it tells of the xxmaj jewish xxmaj finzi - xxmaj contini family in xxmaj ferrara in the 1930s . xxmaj they are a very well off family ( with a false sense of security ) , and many of the people within the family are falling for each other . xxmaj unfortunately for them , not even their social status can protect them from the doom that awaits them . \n",
       " \n",
       "  xxmaj much like in \" xxmaj the xxmaj bicycle xxmaj thief \" over 20 years earlier , xxmaj vittorio xxmaj de xxmaj sica shows the desperate existences of a few people , surrounded by what many incorrectly assumed to be a joyful world . xxmaj wonderful .,xxbos xxmaj so xxmaj close is nothing like xxmaj charlie 's xxmaj angels . xxmaj three beautiful women in the lead , two of them contract killers and one police . xxmaj there is some drama - plot involved but that does n't hold too well . xxmaj sometimes there are a few silly minor things but all in all the movie was very entertaining . xxmaj fight choreography was at least very interesting and quite original . \n",
       " \n",
       "  xxmaj rating : 7 / 10 \n",
       " \n",
       " ,xxbos xxmaj making a military movie without official cooperation can be difficult . xxmaj if the story does n't require major air or naval assets , a script disapproved of by the top brass can be convincingly brought to the screen . xxmaj two examples - both true stories that the xxmaj pentagon did n't want to support - are \" xxmaj men of xxmaj honor \" reflecting the epidemic racism of the not - that - long - ago xxmaj navy and \" xxmaj sgt . xxmaj bilko , \" a film portraying what some xxunk do to earn extra income ( trust me , it 's a true story : a real xxmaj sgt . xxmaj bilko worked ( officially but not actually ) for me when i was an xxmaj army officer . \n",
       " \n",
       "  xxmaj but when you need lots of planes and ships , you got ta have official help . xxmaj and few movies have gotten more assistance than the producer , director and cast of \" xxmaj the xxmaj final xxmaj countdown , \" now available on xxup dvd , a sci - fi recruiting spectacular that features - on loan at taxpayer expense - the huge carrier xxup u.s.s. xxmaj nimitz complete with crew . xxmaj now that 's cooperation ! \n",
       " \n",
       "  xxmaj kirk xxmaj douglas xxunk the xxunk which is on xxmaj pacific xxmaj fleet maneuvers . xxmaj on board as some sort of efficiency consultant is a young xxmaj martin xxmaj sheen , not yet ready for the xxmaj west xxmaj wing . a mysterious and never explained weather phenomenon grips the mighty floating air base and to the unfolding amazement of captain , officers and crew dawns the realization that the xxmaj nimitz in sailing not that far from xxmaj pearl xxmaj harbor on 6 xxmaj december 1941 . \n",
       " \n",
       "  xxmaj meanwhile a xxup u.s. senator , played by one of xxmaj hollywood 's deservedly decorated war heroes , xxmaj charles xxmaj durning , is enjoying his yacht , also near xxmaj pearl , while dictating to his lovely secretary , xxmaj katharine xxmaj ross . a brace of xxmaj japanese xxmaj zeroes sink the yacht , killing two passengers which then prompts the carrier xxup c.o. to order trailing xxup f-14 xxmaj tomcats to \" splash \" the \" enemy . \" xxmaj durning and xxmaj ross are rescued . xxmaj without a word , this talented actor 's face does a comical double - take when introduced to the ship 's executive officer who just happens to be black ( in 1941 a black navy man could only serve as a steward in the officers mess . xxmaj that was it . xxmaj period . ) \n",
       " \n",
       "  xxmaj the dilemma facing xxmaj douglas , of course , is a classic time - travel conundrum . xxmaj to interfere with the course of history ( the carrier 's air wing can make instant xxunk of the six xxmaj japanese carriers ) or to let events take their known and disastrous course . \n",
       " \n",
       "  a chaste incipient romance between the nearly drowned damsel and the carrier 's xxmaj commander xxmaj air xxmaj group competes with the white knuckle decision - making struggle of the xxup c.o. \n",
       " \n",
       "  xxmaj so much for the plot . xxmaj what is on offer here is a demonstration of every aircraft type , fixed - wing and rotary , deployed on the vessel as well as demonstrations of shipboard activities ranging from retrieving a damaged jet to going to xxmaj general xxmaj quarters to ... you name it . xxmaj the technical advisers knew they had a film crew xxunk to every suggestion . xxmaj the result is a genuinely exciting show- a great warship going through its paces . xxmaj and , unlike \" xxmaj tora xxmaj tora xxmaj tora \" it does n't appear that any genuine sailors were harmed in the making of the movie . \n",
       " \n",
       "  xxmaj there 's one big problem . a science fiction story is usually utterly improbable , indeed impossible , but its internal logic is vital : it must be consistent . xxmaj spielberg understands that very well . xxmaj watch the first couple of minutes when xxmaj sheen is greeted by his employer 's lackey and the last minutes when he xxunk from the xxmaj nimitz . xxmaj something is very , very off - kilter . xxmaj could the xxup ceo of a great military - industrial conglomerate have used top secret technology to send the carrier back to 1941 for ... \n",
       " \n",
       "  xxmaj so what . xxmaj this is a beautifully filmed adventure story , not a great film . xxmaj the cast probably relished taking over the carrier for a while and the real captain , never shown , surely wished that the xxmaj navy had n't banned hard spirits from our ships in xxmaj world xxmaj war xxup i. xxmaj but all emerge unscathed in a genuinely entertaining romp through time . \n",
       " \n",
       "  8 / 10 \n",
       " \n",
       " ,xxbos xxmaj sergeant xxmaj ryker is accused of being a traitor during the xxmaj korean xxmaj war , a hanging offense . a long drawn out court - marshal ensues during which time the xxmaj sgt . must remain in a military jail . xxmaj after much investigation the defense attorney attempts to exonerate the doomed non - com with an eleventh hour ploy . xxmaj very good picture .,xxbos xxup wwe 's last xxup ppv of 2006 , proved to be a hit with the fans , but for one reason only , the ladder match which was only scheduled to be xxmaj paul xxmaj london and xxmaj brian xxmaj kendrick against xxmaj william xxmaj regal and xxmaj dave xxmaj taylor . xxmaj but with the recent crap xxup ppv being xxmaj december to xxmaj dismember , xxup wwe knew that it had to do something to get the fans talking again , this proved useful when it introduced xxup mnm and xxmaj the xxmaj hardy xxmaj boyz to the mix and announced that the match was going to be a ladder match . \n",
       " \n",
       "  xxmaj the match was brutal and one of the best ladder matches i have ever seen , but xxmaj joey xxmaj mercury 's face was a total mess . xxmaj johnny xxmaj nitro did n't even check on his partner , they just carried on like nothing happened , and xxmaj taylor and xxmaj regal did nothing during the match except hit people with a few ladder shots . xxmaj in the end xxmaj london and xxmaj kendrick retained the titles . \n",
       " \n",
       "  xxmaj elsewhere on the show xxmaj kane defeated xxup mvp in a decent inferno match when he set xxup mvp 's stupid costume on fire . xxmaj chris xxmaj benoit downed xxmaj chavo xxmaj guerrero in a decent match , xxmaj gregory xxmaj helms defeated xxmaj jimmy xxmaj wang xxmaj yang to retain the xxup wwe xxmaj cruiserweight xxmaj title in a solid effort . \n",
       " \n",
       "  xxmaj but the main event was a total mess , xxmaj king xxmaj booker teamed with xxmaj finlay to take on xxmaj john xxmaj cena and xxmaj batista . xxmaj the action was shoddy and no one cared who xxmaj batista picked for his partner . \n",
       " \n",
       "  xxmaj overall xxmaj results : xxmaj kane defeated xxup mvp in an inferno match . \n",
       " \n",
       "  xxmaj paul xxmaj london and xxmaj brian xxmaj kendrick retained the xxup wwe xxmaj tag team titles against xxmaj the xxmaj hardy xxmaj boyz , xxup mnm and xxmaj david xxmaj taylor and xxmaj william xxmaj regal in a ladder match . \n",
       " \n",
       "  xxmaj chris xxmaj benoit defeated xxmaj chavo xxmaj guerrero to retain the xxup us title in a decent match . \n",
       " \n",
       "  xxmaj gregory xxmaj helms defeated xxmaj jimmy xxmaj wang xxmaj yang to retain the xxmaj cruiserweight xxmaj championship . \n",
       " \n",
       "  xxmaj the xxmaj boogeyman beat xxmaj the xxmaj miz in a terrible match . \n",
       " \n",
       "  xxmaj the xxmaj undertaker defeated xxmaj mr xxmaj kennedy in a last ride match . \n",
       " \n",
       "  xxmaj john xxmaj cena and xxmaj batista defeated xxmaj king xxmaj booker and xxmaj finlay in an abysmal match . \n",
       " \n",
       "  xxmaj overall xxmaj grade - b\n",
       "y: LMLabelList\n",
       ",,,,\n",
       "Path: /storage/imdb;\n",
       "\n",
       "Test: None, model=SequentialRNN(\n",
       "  (0): AWD_LSTM(\n",
       "    (encoder): Embedding(59952, 400, padding_idx=1)\n",
       "    (encoder_dp): EmbeddingDropout(\n",
       "      (emb): Embedding(59952, 400, padding_idx=1)\n",
       "    )\n",
       "    (rnns): ModuleList(\n",
       "      (0): WeightDropout(\n",
       "        (module): LSTM(400, 1152, batch_first=True)\n",
       "      )\n",
       "      (1): WeightDropout(\n",
       "        (module): LSTM(1152, 1152, batch_first=True)\n",
       "      )\n",
       "      (2): WeightDropout(\n",
       "        (module): LSTM(1152, 400, batch_first=True)\n",
       "      )\n",
       "    )\n",
       "    (input_dp): RNNDropout()\n",
       "    (hidden_dps): ModuleList(\n",
       "      (0): RNNDropout()\n",
       "      (1): RNNDropout()\n",
       "      (2): RNNDropout()\n",
       "    )\n",
       "  )\n",
       "  (1): LinearDecoder(\n",
       "    (decoder): Linear(in_features=400, out_features=59952, bias=True)\n",
       "    (output_dp): RNNDropout()\n",
       "  )\n",
       "), opt_func=functools.partial(<class 'torch.optim.adam.Adam'>, betas=(0.9, 0.99)), loss_func=FlattenedLoss of CrossEntropyLoss(), metrics=[<function accuracy at 0x7f5298ecfd90>], true_wd=True, bn_wd=True, wd=0.01, train_bn=True, path=PosixPath('/storage/imdb'), model_dir='models', callback_fns=[functools.partial(<class 'fastai.basic_train.Recorder'>, add_time=True, silent=False)], callbacks=[...], layer_groups=[Sequential(\n",
       "  (0): WeightDropout(\n",
       "    (module): LSTM(400, 1152, batch_first=True)\n",
       "  )\n",
       "  (1): RNNDropout()\n",
       "), Sequential(\n",
       "  (0): WeightDropout(\n",
       "    (module): LSTM(1152, 1152, batch_first=True)\n",
       "  )\n",
       "  (1): RNNDropout()\n",
       "), Sequential(\n",
       "  (0): WeightDropout(\n",
       "    (module): LSTM(1152, 400, batch_first=True)\n",
       "  )\n",
       "  (1): RNNDropout()\n",
       "), Sequential(\n",
       "  (0): Embedding(59952, 400, padding_idx=1)\n",
       "  (1): EmbeddingDropout(\n",
       "    (emb): Embedding(59952, 400, padding_idx=1)\n",
       "  )\n",
       "  (2): LinearDecoder(\n",
       "    (decoder): Linear(in_features=400, out_features=59952, bias=True)\n",
       "    (output_dp): RNNDropout()\n",
       "  )\n",
       ")], add_time=True, silent=False)\n",
       "alpha: 2.0\n",
       "beta: 1.0], layer_groups=[Sequential(\n",
       "  (0): WeightDropout(\n",
       "    (module): LSTM(400, 1152, batch_first=True)\n",
       "  )\n",
       "  (1): RNNDropout()\n",
       "), Sequential(\n",
       "  (0): WeightDropout(\n",
       "    (module): LSTM(1152, 1152, batch_first=True)\n",
       "  )\n",
       "  (1): RNNDropout()\n",
       "), Sequential(\n",
       "  (0): WeightDropout(\n",
       "    (module): LSTM(1152, 400, batch_first=True)\n",
       "  )\n",
       "  (1): RNNDropout()\n",
       "), Sequential(\n",
       "  (0): Embedding(59952, 400, padding_idx=1)\n",
       "  (1): EmbeddingDropout(\n",
       "    (emb): Embedding(59952, 400, padding_idx=1)\n",
       "  )\n",
       "  (2): LinearDecoder(\n",
       "    (decoder): Linear(in_features=400, out_features=59952, bias=True)\n",
       "    (output_dp): RNNDropout()\n",
       "  )\n",
       ")], add_time=True, silent=False)"
      ]
     },
     "execution_count": 30,
     "metadata": {},
     "output_type": "execute_result"
    }
   ],
   "source": [
    "learn.load('fit_head')"
   ]
  },
  {
   "cell_type": "markdown",
   "metadata": {},
   "source": [
    "Descongelamos y entrenamos durante 10 épocas y con un 'lr' de 0.001."
   ]
  },
  {
   "cell_type": "code",
   "execution_count": 31,
   "metadata": {},
   "outputs": [],
   "source": [
    "learn.unfreeze()"
   ]
  },
  {
   "cell_type": "code",
   "execution_count": 32,
   "metadata": {},
   "outputs": [
    {
     "data": {
      "text/html": [
       "<table border=\"1\" class=\"dataframe\">\n",
       "  <thead>\n",
       "    <tr style=\"text-align: left;\">\n",
       "      <th>epoch</th>\n",
       "      <th>train_loss</th>\n",
       "      <th>valid_loss</th>\n",
       "      <th>accuracy</th>\n",
       "      <th>time</th>\n",
       "    </tr>\n",
       "  </thead>\n",
       "  <tbody>\n",
       "    <tr>\n",
       "      <td>0</td>\n",
       "      <td>3.891366</td>\n",
       "      <td>3.854904</td>\n",
       "      <td>0.314193</td>\n",
       "      <td>1:09:05</td>\n",
       "    </tr>\n",
       "    <tr>\n",
       "      <td>1</td>\n",
       "      <td>3.787066</td>\n",
       "      <td>3.772408</td>\n",
       "      <td>0.324604</td>\n",
       "      <td>1:09:13</td>\n",
       "    </tr>\n",
       "    <tr>\n",
       "      <td>2</td>\n",
       "      <td>3.684399</td>\n",
       "      <td>3.742306</td>\n",
       "      <td>0.328795</td>\n",
       "      <td>1:09:13</td>\n",
       "    </tr>\n",
       "  </tbody>\n",
       "</table>"
      ],
      "text/plain": [
       "<IPython.core.display.HTML object>"
      ]
     },
     "metadata": {},
     "output_type": "display_data"
    }
   ],
   "source": [
    "learn.fit_one_cycle(3, 1e-3, moms=(0.8,0.7))"
   ]
  },
  {
   "cell_type": "markdown",
   "metadata": {},
   "source": [
    "Guardamos el modelo."
   ]
  },
  {
   "cell_type": "code",
   "execution_count": 33,
   "metadata": {},
   "outputs": [],
   "source": [
    "learn.save('fine_tuned')"
   ]
  },
  {
   "cell_type": "markdown",
   "metadata": {},
   "source": [
    "Vamos a hacer una predicción para comprobar como rinde el modelo."
   ]
  },
  {
   "cell_type": "code",
   "execution_count": null,
   "metadata": {},
   "outputs": [],
   "source": [
    "learn.load('fine_tuned')"
   ]
  },
  {
   "cell_type": "code",
   "execution_count": 35,
   "metadata": {},
   "outputs": [],
   "source": [
    "TEXT = \"I liked this movie because\"\n",
    "N_WORDS = 40\n",
    "N_SENTENCES = 2"
   ]
  },
  {
   "cell_type": "code",
   "execution_count": 36,
   "metadata": {},
   "outputs": [
    {
     "name": "stdout",
     "output_type": "stream",
     "text": [
      "I liked this movie because of the cast , and the acting was very good . Bruce Willis delivers the most of his lines , but he plays a low grade teen who is just as smart as ever . The plot\n",
      "I liked this movie because it was a very light and entertainment movie . It 's funny , funny , funny , the characters fall in love , the dialogue is funny and the plot is surprisingly well written . i was reminded of\n"
     ]
    }
   ],
   "source": [
    "print(\"\\n\".join(learn.predict(TEXT, N_WORDS, temperature=0.75)for _ in range(N_SENTENCES)))"
   ]
  },
  {
   "cell_type": "markdown",
   "metadata": {},
   "source": [
    "Guardamos también el encoder del modelo (la parte del modelo que actualiza su estado interno)."
   ]
  },
  {
   "cell_type": "code",
   "execution_count": 37,
   "metadata": {},
   "outputs": [],
   "source": [
    "learn.save_encoder('fine_tuned_enc')"
   ]
  },
  {
   "cell_type": "markdown",
   "metadata": {},
   "source": [
    "## Creamos el Clasificador."
   ]
  },
  {
   "cell_type": "markdown",
   "metadata": {},
   "source": [
    "Creamos un modelo para trabajar con los datos debidamente etiquetados."
   ]
  },
  {
   "cell_type": "markdown",
   "metadata": {},
   "source": [
    "Accedemos al dataset."
   ]
  },
  {
   "cell_type": "code",
   "execution_count": 4,
   "metadata": {},
   "outputs": [],
   "source": [
    "path = untar_data(URLs.IMDB)"
   ]
  },
  {
   "cell_type": "markdown",
   "metadata": {},
   "source": [
    "Creamos un nuevo *databunch* donde el *validation set* será el directorio 'test'. Empleamos las etiquetas 'neg' y 'pos'."
   ]
  },
  {
   "cell_type": "code",
   "execution_count": 7,
   "metadata": {},
   "outputs": [
    {
     "data": {
      "text/html": [],
      "text/plain": [
       "<IPython.core.display.HTML object>"
      ]
     },
     "metadata": {},
     "output_type": "display_data"
    },
    {
     "data": {
      "text/html": [],
      "text/plain": [
       "<IPython.core.display.HTML object>"
      ]
     },
     "metadata": {},
     "output_type": "display_data"
    }
   ],
   "source": [
    "data_clas = (TextList.from_folder(path, vocab=data_lm.vocab)\n",
    "            .split_by_folder(valid='test')\n",
    "            .label_from_folder(classes=['neg', 'pos'])\n",
    "            .databunch(bs=bs))\n",
    "data_clas.save('data_clas.pkl')"
   ]
  },
  {
   "cell_type": "code",
   "execution_count": 8,
   "metadata": {},
   "outputs": [],
   "source": [
    "data_clas = load_data(path, 'data_clas.pkl', bs=10)"
   ]
  },
  {
   "cell_type": "markdown",
   "metadata": {},
   "source": [
    "Comprobamos que la longitud del vocabulario de 'data_lm' es igual al de 'data_clas'."
   ]
  },
  {
   "cell_type": "code",
   "execution_count": 9,
   "metadata": {},
   "outputs": [
    {
     "data": {
      "text/plain": [
       "True"
      ]
     },
     "execution_count": 9,
     "metadata": {},
     "output_type": "execute_result"
    }
   ],
   "source": [
    "len(data_lm.vocab.itos) == len(data_clas.vocab.itos)"
   ]
  },
  {
   "cell_type": "markdown",
   "metadata": {},
   "source": [
    "Mostramos un ejemplo."
   ]
  },
  {
   "cell_type": "code",
   "execution_count": 10,
   "metadata": {},
   "outputs": [
    {
     "data": {
      "text/html": [
       "<table border=\"1\" class=\"dataframe\">\n",
       "  <thead>\n",
       "    <tr style=\"text-align: right;\">\n",
       "      <th>text</th>\n",
       "      <th>target</th>\n",
       "    </tr>\n",
       "  </thead>\n",
       "  <tbody>\n",
       "    <tr>\n",
       "      <td>xxbos xxmaj match 1 : xxmaj tag xxmaj team xxmaj table xxmaj match xxmaj bubba xxmaj ray and xxmaj spike xxmaj dudley vs xxmaj eddie xxmaj guerrero and xxmaj chris xxmaj benoit xxmaj bubba xxmaj ray and xxmaj spike xxmaj dudley started things off with a xxmaj tag xxmaj team xxmaj table xxmaj match against xxmaj eddie xxmaj guerrero and xxmaj chris xxmaj benoit . xxmaj according to the rules</td>\n",
       "      <td>pos</td>\n",
       "    </tr>\n",
       "    <tr>\n",
       "      <td>xxbos xxmaj what of xxmaj domino did i hate over everything , and i mean everything , else ? xxmaj perhaps it was the overall glorification of being a bounty hunter ; maybe it was the sexism masquerading as an involving and interesting study of a hard bodied female lead character ; maybe it was the mere look of the film with its bizarre yellow glow and distorted blue tints</td>\n",
       "      <td>neg</td>\n",
       "    </tr>\n",
       "    <tr>\n",
       "      <td>xxbos xxmaj the trouble with the book , \" xxmaj memoirs of a xxmaj geisha \" is that it had xxmaj japanese surfaces but underneath the surfaces it was all an xxmaj american man 's way of thinking . xxmaj reading the book is like watching a magnificent ballet with great music , sets , and costumes yet performed by barnyard animals dressed in those xxunk far from xxmaj japanese</td>\n",
       "      <td>neg</td>\n",
       "    </tr>\n",
       "    <tr>\n",
       "      <td>xxbos xxmaj when this film was made , the hippie thing had gone mainstream . xxmaj the ideas of the counter culture was well established , that is why such a big film could be made . xxmaj yet it has something to say , and it is said really beautifully . xxmaj apart from those who 're only waiting for the wanking material , this film is given credit</td>\n",
       "      <td>pos</td>\n",
       "    </tr>\n",
       "    <tr>\n",
       "      <td>xxbos i am not going to lie . xxmaj despite looking interesting , i watched xxmaj the xxmaj notorious xxmaj bettie xxmaj page because i had heard ( and it was fairly obvious just by looking at a synopsis or anything about the film ) , that xxmaj gretchen xxmaj mol got naked in it . i have never been a fan of xxmaj mol , but i can not</td>\n",
       "      <td>pos</td>\n",
       "    </tr>\n",
       "  </tbody>\n",
       "</table>"
      ],
      "text/plain": [
       "<IPython.core.display.HTML object>"
      ]
     },
     "metadata": {},
     "output_type": "display_data"
    }
   ],
   "source": [
    "data_clas.show_batch()"
   ]
  },
  {
   "cell_type": "markdown",
   "metadata": {},
   "source": [
    "Creamos el clasificador y cargamos el encoder. Aquí nos encontramos un problema que no conseguimos solucionar probando diferentes enfoques. Se trata de un problema de tamaño ('torch.Size') entre el nuevo modelo 'learn' y el guardado en 'fine_tuned_enc'. Para no dedicar demasiado tiempo a este notebook y seguir con el curso, vamos a terminar el ejercicio sin cargar el encoder. \n",
    "\n",
    "Nuestro modelo no va a rendir como era de esperar."
   ]
  },
  {
   "cell_type": "code",
   "execution_count": 10,
   "metadata": {
    "scrolled": true
   },
   "outputs": [],
   "source": [
    "learn = text_classifier_learner(data_clas, AWD_LSTM, drop_mult=0.5)\n",
    "# learn.load_encoder('fine_tuned_enc')"
   ]
  },
  {
   "cell_type": "markdown",
   "metadata": {},
   "source": [
    "Determinamos el nuevo 'lr' y lo graficamos."
   ]
  },
  {
   "cell_type": "code",
   "execution_count": 12,
   "metadata": {},
   "outputs": [
    {
     "data": {
      "text/html": [
       "\n",
       "    <div>\n",
       "        <style>\n",
       "            /* Turns off some styling */\n",
       "            progress {\n",
       "                /* gets rid of default border in Firefox and Opera. */\n",
       "                border: none;\n",
       "                /* Needs to be in here for Safari polyfill so background images work as expected. */\n",
       "                background-size: auto;\n",
       "            }\n",
       "            .progress-bar-interrupted, .progress-bar-interrupted::-webkit-progress-bar {\n",
       "                background: #F44336;\n",
       "            }\n",
       "        </style>\n",
       "      <progress value='0' class='' max='1', style='width:300px; height:20px; vertical-align: middle;'></progress>\n",
       "      0.00% [0/1 00:00<00:00]\n",
       "    </div>\n",
       "    \n",
       "<table border=\"1\" class=\"dataframe\">\n",
       "  <thead>\n",
       "    <tr style=\"text-align: left;\">\n",
       "      <th>epoch</th>\n",
       "      <th>train_loss</th>\n",
       "      <th>valid_loss</th>\n",
       "      <th>accuracy</th>\n",
       "      <th>time</th>\n",
       "    </tr>\n",
       "  </thead>\n",
       "  <tbody>\n",
       "  </tbody>\n",
       "</table><p>\n",
       "\n",
       "    <div>\n",
       "        <style>\n",
       "            /* Turns off some styling */\n",
       "            progress {\n",
       "                /* gets rid of default border in Firefox and Opera. */\n",
       "                border: none;\n",
       "                /* Needs to be in here for Safari polyfill so background images work as expected. */\n",
       "                background-size: auto;\n",
       "            }\n",
       "            .progress-bar-interrupted, .progress-bar-interrupted::-webkit-progress-bar {\n",
       "                background: #F44336;\n",
       "            }\n",
       "        </style>\n",
       "      <progress value='94' class='' max='2500', style='width:300px; height:20px; vertical-align: middle;'></progress>\n",
       "      3.76% [94/2500 01:04<27:40 2.6663]\n",
       "    </div>\n",
       "    "
      ],
      "text/plain": [
       "<IPython.core.display.HTML object>"
      ]
     },
     "metadata": {},
     "output_type": "display_data"
    },
    {
     "name": "stdout",
     "output_type": "stream",
     "text": [
      "LR Finder is complete, type {learner_name}.recorder.plot() to see the graph.\n"
     ]
    }
   ],
   "source": [
    "learn.lr_find()"
   ]
  },
  {
   "cell_type": "code",
   "execution_count": 13,
   "metadata": {},
   "outputs": [
    {
     "data": {
      "image/png": "[encoded data removed]",
      "text/plain": [
       "<Figure size 432x288 with 1 Axes>"
      ]
     },
     "metadata": {
      "needs_background": "light"
     },
     "output_type": "display_data"
    }
   ],
   "source": [
    "learn.recorder.plot()"
   ]
  },
  {
   "cell_type": "markdown",
   "metadata": {},
   "source": [
    "Entrenamos durante una época y con un 'lr' de 0.02."
   ]
  },
  {
   "cell_type": "code",
   "execution_count": 14,
   "metadata": {},
   "outputs": [
    {
     "data": {
      "text/html": [
       "<table border=\"1\" class=\"dataframe\">\n",
       "  <thead>\n",
       "    <tr style=\"text-align: left;\">\n",
       "      <th>epoch</th>\n",
       "      <th>train_loss</th>\n",
       "      <th>valid_loss</th>\n",
       "      <th>accuracy</th>\n",
       "      <th>time</th>\n",
       "    </tr>\n",
       "  </thead>\n",
       "  <tbody>\n",
       "    <tr>\n",
       "      <td>0</td>\n",
       "      <td>0.692702</td>\n",
       "      <td>0.691438</td>\n",
       "      <td>0.552960</td>\n",
       "      <td>34:48</td>\n",
       "    </tr>\n",
       "  </tbody>\n",
       "</table>"
      ],
      "text/plain": [
       "<IPython.core.display.HTML object>"
      ]
     },
     "metadata": {},
     "output_type": "display_data"
    }
   ],
   "source": [
    "learn.fit_one_cycle(1, 2e-2,moms=(0.8,0.7))"
   ]
  },
  {
   "cell_type": "markdown",
   "metadata": {},
   "source": [
    "Guardamos y cargamos para volver a entrenar."
   ]
  },
  {
   "cell_type": "code",
   "execution_count": 15,
   "metadata": {},
   "outputs": [],
   "source": [
    "learn.save('first')"
   ]
  },
  {
   "cell_type": "code",
   "execution_count": 11,
   "metadata": {},
   "outputs": [
    {
     "data": {
      "text/plain": [
       "RNNLearner(data=TextClasDataBunch;\n",
       "\n",
       "Train: LabelList (25000 items)\n",
       "x: TextList\n",
       "xxbos xxmaj this movie starts out very xxup very slow , but when the action finally gets started , it 's a little had to follow . i could n't understand why some of the events were taking place , and a lot of events happened before they were explained , making them sort of confusing . xxmaj the only thing it really has going for it is the massive amount of blood / gore it has , although most times the special effects are lacking . xxmaj blood looks like red xxmaj kool - xxmaj aid . xxmaj skin tearing sounds like somebody is stepping on a pile of sticks . xxmaj again , the story has a sort of amateur feel to it , like the writer did n't take a long time to perfect it . i feel like it could be a much better movie if the effects were done better and more time was taken on the script . i honestly wish i had n't watched it , not because of the gore , but because i feel that i wasted 90 minutes of my life . xxmaj if you like extremely gory movies , this is for you , if not , stay away .,xxbos i love low budget independent films and had high hopes for this one . xxmaj but this film is static . xxmaj never mind the production value , which is very noble for its budget , but the pacing is deadly . xxmaj admittedly these folks achieve much with little , but the film fails on the most fundamental level . xxmaj it 's boring . xxmaj the editing is glacial and the pacing stalls . xxmaj it should have been 65 minutes . xxmaj the best thing about the xxmaj dr. xxmaj jekyll is xxmaj mr. xxmaj hyde who is n't seen nearly enough . xxmaj he had the most dramatic potential . xxmaj instead we have to suffer through dithering xxmaj xxunk - xxmaj brits stammer through endless and tiresome exposition . xxmaj it feels like a backwater stage play committed to video . \n",
       " \n",
       "  xxmaj noble efforts by everyone in the production , but a story this tired needed a kick in the pants and funky new low budget technology should have given it a fresh voice . xxmaj instead it 's just a lame retread .,xxbos xxmaj first off , the title character is not even the main character of the movie . xxmaj he is the sidekick of the cult leader . xxmaj the actor who portrays xxmaj igor believed that screaming loud , laughing hysterically , and having a crooked smile while bugging out your eyes would be an excellent way to scare people . xxmaj igor also had the annoying habit of yelling ( because he never actually just spoke ) in a high pitched voice . xxmaj he would also say idiotic one - liners . xxmaj for example when the cult leader murders one of his followers with a buzz saw , xxmaj igor upon seeing this , yells out \" xxmaj paul ! xxmaj no xxmaj paul ! xxmaj why 'd you do it ? i could have cut her clean ! xxmaj so clean ! \" xxmaj in another scene xxmaj igor tells a victim that she would have to ' get her own tools for surgery because right now , it was his time to operate . ' xxmaj aside from the bad acting , the ending did not make sense because while the story builds up what little steam it has towards the climax , which is xxmaj igor getting a crossbow arrow to the head and the rest of his lunatic buddies being killed , he shows up again two more times to kill the remaining ' good guys ' . xxmaj the movie offers no explanation of this , only telling the viewer that xxmaj igor escaped from the mental hospital . xxmaj what ? ? ? xxmaj bottom line is do not waste your time watching this movie . i wish i could get back the moments i lost watching this .,xxbos xxmaj an interesting change from the first one . there was more mystery to this movie then the first . xxmaj even when it ends your asking yourself what happened who was the killer . xxmaj there are some good parts through the movie , the first half starts off slow and then in the last half the pace picks up . xxmaj all up the movie is enjoyable . xxmaj the story is 22 years after the events that occured in the first film , xxmaj norman xxmaj bates is out of an asylum and back to the xxmaj bates motel , but when a woman turns up claiming to be his real mother , things start going wrong . xxmaj perkins plays an aged xxmaj norman well again and the scene at the end was excellent , he xxunk that spade awfully hard .,xxbos xxmaj this is a bad , bad movie . i 'm an actual fencer : trust me when i say that this film 's pretension of accuracy is just that . xxmaj this is especially true during that vile little scene when the fencers are combining footwork with 80 's pop . xxmaj the ending is predictable , and the movie is a bore from start to finish . xxmaj horrible .\n",
       "y: CategoryList\n",
       "neg,neg,neg,neg,neg\n",
       "Path: /storage/imdb;\n",
       "\n",
       "Valid: LabelList (25000 items)\n",
       "x: TextList\n",
       "xxbos xxmaj mickey xxmaj rourke hunts xxmaj diane xxmaj lane in xxmaj elmore xxmaj leonard 's xxmaj xxunk xxmaj it is not like xxmaj mickey xxmaj rourke ever really disappeared . xxmaj he has had a steady string of appearances before he burst back on the scene . xxmaj he was memorable in : xxmaj domino , xxmaj sin xxmaj city , xxmaj man on xxmaj fire , xxmaj once xxmaj upon a xxmaj time in xxmaj mexico , and xxmaj get xxmaj carter . xxmaj but in his powerful dramatic performance in xxmaj the xxmaj wrestler ( 2008 ) , we see a full blown presentation of the character only hinted at in xxmaj get xxmaj carter . xxmaj whenever we get to know him , xxmaj rourke remains a cool , but sleazy , muscle bound slim ball . \n",
       " \n",
       "  xxmaj this is an xxmaj elmore xxmaj leonard story , and production . xxmaj leonard wrote such notable movies as taunt western thriller 3:10 to xxmaj yuma , xxmaj be xxmaj cool , xxmaj jackie xxmaj brown , xxmaj get xxmaj shorty , 52 xxmaj pick - xxmaj up , and xxmaj joe xxmaj kidd . xxmaj this means that we get tough guys , some good , some not so good . \n",
       " \n",
       "  xxmaj it also means we get tight , realistic plots with characters doing what is best for them in each situation , weaving complications into violent conclusions . xxmaj xxunk is no different . xxmaj tough , slim ball killer xxmaj rourke stalks unhappily married witness xxmaj lane . xxmaj think xxmaj history of xxmaj violence meets xxmaj no xxmaj country for xxmaj old xxmaj men . xxmaj it is not as intense , bloody or gory as those two , but it is almost as good . xxmaj if you like those two , including xxmaj david xxmaj xxunk 's equally wonderful xxmaj eastern xxmaj promises , you will like xxmaj xxunk also . \n",
       " \n",
       "  xxmaj director xxmaj john xxmaj madden has not done a lot of movies . xxmaj his last few were enjoyable , if not successful : xxmaj proof , xxmaj captain xxmaj xxunk 's xxmaj mandolin and xxmaj shakespeare in xxmaj love . \n",
       " \n",
       "  xxmaj diana xxmaj lane has n't had a powerful movie role since she and xxmaj richard xxmaj gere gave incredible performances in xxmaj unfaithful . xxmaj lately she is charming and appealing in romantic stories such as xxmaj nights in xxmaj xxunk , xxmaj must xxmaj love xxmaj dogs , and xxmaj under the xxmaj tuscan xxmaj sun . xxmaj here she is right on mark , balancing her sexy appeal with reserved tension . \n",
       " \n",
       "  xxmaj this is a small part for xxmaj rosario xxmaj dawson . xxmaj yet xxmaj dawson does a good job with it . xxmaj you see a lot more of xxmaj lane , including an underwear scene to rival xxmaj sigourney xxmaj weaver in xxmaj aliens and xxmaj nicole xxmaj kidman in xxmaj eyes xxmaj wide xxmaj shut . \n",
       " \n",
       "  xxmaj while you are in the crime drama section , also pick up xxmaj kiss , xxmaj kiss , xxmaj bang , xxmaj bang , and xxmaj gone xxmaj baby xxmaj gone , and xxmaj before the xxmaj devil xxmaj knows xxmaj your xxmaj dead . xxmaj the last has wonderful performances by xxmaj phillip xxmaj seymour xxmaj hoffman , xxmaj ethan xxmaj hawke , xxmaj marisa xxmaj tomei and xxmaj albert xxmaj finney . \n",
       " \n",
       "  xxmaj xxunk flopped at the box office . xxmaj more is our luck . xxmaj it is certainly worth a 3 - 4 dollar rental , if you like this genre . 6 / 20 / 2009,xxbos xxmaj after seeing this film , i did not want my money back . i wanted my xxup time back . i wanted that hour and a half back in my life - it was the most amazing , hideous torture to know that i had squandered precious minutes of my life on this dreck . i am scarred for life , and ever since this \" film \" entered my life i have had trouble sleeping . i am trying to suppress the memories , really i am . . . but they make me want to burn things . \n",
       " \n",
       " ,xxbos a guy , with the unlikely name of xxmaj shy xxmaj walker , looks for his two daughters in a cornfield for an hour and a half . xxmaj that 's the entire plot ... with across - the - board bad acting , of course . xxmaj walker wanders around a corn maze ( maize ? i get it ! xxup hahaha ... not funny ) and yells \" xxmaj girls ? xxmaj where are you ? ! ? \" about 1000 times . xxmaj for some reason whenever he runs by a pumpkin , a chipmunk - sounding voice laughs ( as if the pumpkin is laughing at him , yeah xxup ok ... ) . xxmaj his daughters scream for most of the movie ... even when there is no reason to scream ( maybe because they are still stuck in this awful movie ? ) . xxmaj twin girls straight out of ' xxmaj the xxmaj shining ' show up every now and then . xxmaj most of the corn maze looks the same so xxmaj walker 's search gets very old very quickly . xxmaj the filmmakers realize there is xxup nothing going for this movie ( even the music is repetitive ) so they try to make things interesting by spinning the camera around really fast , filming upside down , inserting smaller pictures of the same shot at different angles , using red lights to make the corn look scary , and rotating the camera 360 degrees ( at least i 'm assuming these were done intentionally but it 's likely just examples of incompetent film - making ) . xxmaj more often than not , when xxmaj walker is wandering through the maze , you ca n't see his face . i guess the kid holding the camera ca n't look up that high ... xxmaj this movie gives you a new appreciation for the original ' xxmaj dark xxmaj harvest ' ( which does n't have anything to do with this movie except for the fact it also features a cornfield ) . xxmaj do n't be fooled by the r rating . xxmaj walker says the f word three times and now we have \" an r - rated horror movie \" , ugh . xxmaj the scarecrow on the cover does n't even show up in this movie ... and when you are wishing that those cheesy scarecrows from the first movie would come back , you know things are bad ! xxmaj instead we get a guy in yellow boots chasing our hero around ( unfortunately he is dressed similar to xxmaj mr. xxmaj walker so i did n't even realize he was being followed for a while ) . i figured out the identity of the guy in the yellow boots long before xxmaj walker did ( the movie is almost over by the time he puts 2 and 2 together , natch ) . xxmaj the end of the movie drags on and on ... and just in case it is n't slow enough , there 's some slow - motion ! xxmaj the last sound you hear ( besides your own laughter ) is very poor sound - dubbing . xxmaj in case you ca n't tell , this is the worst movie i 've ever seen . xxmaj at least they did n't end with the promise of another sequel !,xxbos ... when dubbed into another language . xxmaj let 's face it : xxmaj neither xxmaj nielsen nor xxmaj schwarzenegger are really good actors when it comes to dialog . xxmaj and given the campy lines they are supposed to utter this is a loose - loose situation . xxmaj any type of voice - over is sure to be an improvement ( and it actually is - at least in the xxmaj german version ) . \n",
       " \n",
       "  xxmaj but that is only a minor point . xxmaj the acting is bad . xxmaj the speeded up combat sequences are pathetic . xxmaj nielsen could n't use her sword to fight her way out of a wet paper bag . xxmaj this becomes painfully obvious when compared to the fluidity of motion exhibited by the kid ( who has had some martial arts training , no doubt ) and to the athleticism shown off by xxmaj xxunk xxmaj bergman . \n",
       " \n",
       "  xxmaj schwarzenegger does his xxmaj conan thing - nothing new here . \n",
       " \n",
       "  xxmaj some of the visuals are nice , i 'll have to grant that . xxmaj the dragon skeleton bridge looks cool . xxmaj but more often than not the plaster is all too evident . \n",
       " \n",
       "  xxmaj overall the movie is n't worth seeing . xxmaj even ' xxmaj conan the xxmaj destroyer ' is better than this ( although only marginally ) . i would have much rather seen xxmaj bergman as xxmaj red xxmaj sonja as she was originally supposed to be , but i doubt that that could have saved this movie - oh well . \n",
       " \n",
       "  3 / 10,xxbos i do n't know how this xxup dvd made its way into my collection - my wife suggested it was one of these \" 3 for £ 20 \" deals at a high street store . xxmaj the thing is n't worth xxunk , let alone £ xxunk ! xxmaj having invested heavily in it , i felt duty - bound to watch it to the end , just to make sure it was equally bad all the way through - and it was . \n",
       " \n",
       "  xxmaj the dialog was awful , the story line was impenetrable ( i still do n't understand what the hell was going on , despite having read the synopsis ) , the camera work was disjointed and hopeless , the acting was wooden ( not helped by the dialogue ) . \n",
       " \n",
       "  xxmaj in fact there were no redeeming features - no , not even the lovely xxmaj sandra xxmaj bullock , on whose glittering subsequent career this pile of dross has probably been sold . xxmaj she should get her agent to buy up all the rights to it and then bury it xxup asap . \n",
       " \n",
       "  xxmaj as a final amusing example of the director 's ineptitude , there was a scene where the young lead is conversing with his father 's ex - army sidekick while driving . xxmaj this was the clearest bit of dialogue in the film - no engine noise whatsoever ! i look forward to the engine - xxunk technology eventually making its way across the pond into xxmaj british cars !\n",
       "y: CategoryList\n",
       "neg,neg,neg,neg,neg\n",
       "Path: /storage/imdb;\n",
       "\n",
       "Test: None, model=SequentialRNN(\n",
       "  (0): MultiBatchEncoder(\n",
       "    (module): AWD_LSTM(\n",
       "      (encoder): Embedding(59928, 400, padding_idx=1)\n",
       "      (encoder_dp): EmbeddingDropout(\n",
       "        (emb): Embedding(59928, 400, padding_idx=1)\n",
       "      )\n",
       "      (rnns): ModuleList(\n",
       "        (0): WeightDropout(\n",
       "          (module): LSTM(400, 1152, batch_first=True)\n",
       "        )\n",
       "        (1): WeightDropout(\n",
       "          (module): LSTM(1152, 1152, batch_first=True)\n",
       "        )\n",
       "        (2): WeightDropout(\n",
       "          (module): LSTM(1152, 400, batch_first=True)\n",
       "        )\n",
       "      )\n",
       "      (input_dp): RNNDropout()\n",
       "      (hidden_dps): ModuleList(\n",
       "        (0): RNNDropout()\n",
       "        (1): RNNDropout()\n",
       "        (2): RNNDropout()\n",
       "      )\n",
       "    )\n",
       "  )\n",
       "  (1): PoolingLinearClassifier(\n",
       "    (layers): Sequential(\n",
       "      (0): BatchNorm1d(1200, eps=1e-05, momentum=0.1, affine=True, track_running_stats=True)\n",
       "      (1): Dropout(p=0.2, inplace=False)\n",
       "      (2): Linear(in_features=1200, out_features=50, bias=True)\n",
       "      (3): ReLU(inplace=True)\n",
       "      (4): BatchNorm1d(50, eps=1e-05, momentum=0.1, affine=True, track_running_stats=True)\n",
       "      (5): Dropout(p=0.1, inplace=False)\n",
       "      (6): Linear(in_features=50, out_features=2, bias=True)\n",
       "    )\n",
       "  )\n",
       "), opt_func=functools.partial(<class 'torch.optim.adam.Adam'>, betas=(0.9, 0.99)), loss_func=FlattenedLoss of CrossEntropyLoss(), metrics=[<function accuracy at 0x7fa8175a9d90>], true_wd=True, bn_wd=True, wd=0.01, train_bn=True, path=PosixPath('/storage/imdb'), model_dir='models', callback_fns=[functools.partial(<class 'fastai.basic_train.Recorder'>, add_time=True, silent=False)], callbacks=[RNNTrainer\n",
       "learn: RNNLearner(data=TextClasDataBunch;\n",
       "\n",
       "Train: LabelList (25000 items)\n",
       "x: TextList\n",
       "xxbos xxmaj this movie starts out very xxup very slow , but when the action finally gets started , it 's a little had to follow . i could n't understand why some of the events were taking place , and a lot of events happened before they were explained , making them sort of confusing . xxmaj the only thing it really has going for it is the massive amount of blood / gore it has , although most times the special effects are lacking . xxmaj blood looks like red xxmaj kool - xxmaj aid . xxmaj skin tearing sounds like somebody is stepping on a pile of sticks . xxmaj again , the story has a sort of amateur feel to it , like the writer did n't take a long time to perfect it . i feel like it could be a much better movie if the effects were done better and more time was taken on the script . i honestly wish i had n't watched it , not because of the gore , but because i feel that i wasted 90 minutes of my life . xxmaj if you like extremely gory movies , this is for you , if not , stay away .,xxbos i love low budget independent films and had high hopes for this one . xxmaj but this film is static . xxmaj never mind the production value , which is very noble for its budget , but the pacing is deadly . xxmaj admittedly these folks achieve much with little , but the film fails on the most fundamental level . xxmaj it 's boring . xxmaj the editing is glacial and the pacing stalls . xxmaj it should have been 65 minutes . xxmaj the best thing about the xxmaj dr. xxmaj jekyll is xxmaj mr. xxmaj hyde who is n't seen nearly enough . xxmaj he had the most dramatic potential . xxmaj instead we have to suffer through dithering xxmaj xxunk - xxmaj brits stammer through endless and tiresome exposition . xxmaj it feels like a backwater stage play committed to video . \n",
       " \n",
       "  xxmaj noble efforts by everyone in the production , but a story this tired needed a kick in the pants and funky new low budget technology should have given it a fresh voice . xxmaj instead it 's just a lame retread .,xxbos xxmaj first off , the title character is not even the main character of the movie . xxmaj he is the sidekick of the cult leader . xxmaj the actor who portrays xxmaj igor believed that screaming loud , laughing hysterically , and having a crooked smile while bugging out your eyes would be an excellent way to scare people . xxmaj igor also had the annoying habit of yelling ( because he never actually just spoke ) in a high pitched voice . xxmaj he would also say idiotic one - liners . xxmaj for example when the cult leader murders one of his followers with a buzz saw , xxmaj igor upon seeing this , yells out \" xxmaj paul ! xxmaj no xxmaj paul ! xxmaj why 'd you do it ? i could have cut her clean ! xxmaj so clean ! \" xxmaj in another scene xxmaj igor tells a victim that she would have to ' get her own tools for surgery because right now , it was his time to operate . ' xxmaj aside from the bad acting , the ending did not make sense because while the story builds up what little steam it has towards the climax , which is xxmaj igor getting a crossbow arrow to the head and the rest of his lunatic buddies being killed , he shows up again two more times to kill the remaining ' good guys ' . xxmaj the movie offers no explanation of this , only telling the viewer that xxmaj igor escaped from the mental hospital . xxmaj what ? ? ? xxmaj bottom line is do not waste your time watching this movie . i wish i could get back the moments i lost watching this .,xxbos xxmaj an interesting change from the first one . there was more mystery to this movie then the first . xxmaj even when it ends your asking yourself what happened who was the killer . xxmaj there are some good parts through the movie , the first half starts off slow and then in the last half the pace picks up . xxmaj all up the movie is enjoyable . xxmaj the story is 22 years after the events that occured in the first film , xxmaj norman xxmaj bates is out of an asylum and back to the xxmaj bates motel , but when a woman turns up claiming to be his real mother , things start going wrong . xxmaj perkins plays an aged xxmaj norman well again and the scene at the end was excellent , he xxunk that spade awfully hard .,xxbos xxmaj this is a bad , bad movie . i 'm an actual fencer : trust me when i say that this film 's pretension of accuracy is just that . xxmaj this is especially true during that vile little scene when the fencers are combining footwork with 80 's pop . xxmaj the ending is predictable , and the movie is a bore from start to finish . xxmaj horrible .\n",
       "y: CategoryList\n",
       "neg,neg,neg,neg,neg\n",
       "Path: /storage/imdb;\n",
       "\n",
       "Valid: LabelList (25000 items)\n",
       "x: TextList\n",
       "xxbos xxmaj mickey xxmaj rourke hunts xxmaj diane xxmaj lane in xxmaj elmore xxmaj leonard 's xxmaj xxunk xxmaj it is not like xxmaj mickey xxmaj rourke ever really disappeared . xxmaj he has had a steady string of appearances before he burst back on the scene . xxmaj he was memorable in : xxmaj domino , xxmaj sin xxmaj city , xxmaj man on xxmaj fire , xxmaj once xxmaj upon a xxmaj time in xxmaj mexico , and xxmaj get xxmaj carter . xxmaj but in his powerful dramatic performance in xxmaj the xxmaj wrestler ( 2008 ) , we see a full blown presentation of the character only hinted at in xxmaj get xxmaj carter . xxmaj whenever we get to know him , xxmaj rourke remains a cool , but sleazy , muscle bound slim ball . \n",
       " \n",
       "  xxmaj this is an xxmaj elmore xxmaj leonard story , and production . xxmaj leonard wrote such notable movies as taunt western thriller 3:10 to xxmaj yuma , xxmaj be xxmaj cool , xxmaj jackie xxmaj brown , xxmaj get xxmaj shorty , 52 xxmaj pick - xxmaj up , and xxmaj joe xxmaj kidd . xxmaj this means that we get tough guys , some good , some not so good . \n",
       " \n",
       "  xxmaj it also means we get tight , realistic plots with characters doing what is best for them in each situation , weaving complications into violent conclusions . xxmaj xxunk is no different . xxmaj tough , slim ball killer xxmaj rourke stalks unhappily married witness xxmaj lane . xxmaj think xxmaj history of xxmaj violence meets xxmaj no xxmaj country for xxmaj old xxmaj men . xxmaj it is not as intense , bloody or gory as those two , but it is almost as good . xxmaj if you like those two , including xxmaj david xxmaj xxunk 's equally wonderful xxmaj eastern xxmaj promises , you will like xxmaj xxunk also . \n",
       " \n",
       "  xxmaj director xxmaj john xxmaj madden has not done a lot of movies . xxmaj his last few were enjoyable , if not successful : xxmaj proof , xxmaj captain xxmaj xxunk 's xxmaj mandolin and xxmaj shakespeare in xxmaj love . \n",
       " \n",
       "  xxmaj diana xxmaj lane has n't had a powerful movie role since she and xxmaj richard xxmaj gere gave incredible performances in xxmaj unfaithful . xxmaj lately she is charming and appealing in romantic stories such as xxmaj nights in xxmaj xxunk , xxmaj must xxmaj love xxmaj dogs , and xxmaj under the xxmaj tuscan xxmaj sun . xxmaj here she is right on mark , balancing her sexy appeal with reserved tension . \n",
       " \n",
       "  xxmaj this is a small part for xxmaj rosario xxmaj dawson . xxmaj yet xxmaj dawson does a good job with it . xxmaj you see a lot more of xxmaj lane , including an underwear scene to rival xxmaj sigourney xxmaj weaver in xxmaj aliens and xxmaj nicole xxmaj kidman in xxmaj eyes xxmaj wide xxmaj shut . \n",
       " \n",
       "  xxmaj while you are in the crime drama section , also pick up xxmaj kiss , xxmaj kiss , xxmaj bang , xxmaj bang , and xxmaj gone xxmaj baby xxmaj gone , and xxmaj before the xxmaj devil xxmaj knows xxmaj your xxmaj dead . xxmaj the last has wonderful performances by xxmaj phillip xxmaj seymour xxmaj hoffman , xxmaj ethan xxmaj hawke , xxmaj marisa xxmaj tomei and xxmaj albert xxmaj finney . \n",
       " \n",
       "  xxmaj xxunk flopped at the box office . xxmaj more is our luck . xxmaj it is certainly worth a 3 - 4 dollar rental , if you like this genre . 6 / 20 / 2009,xxbos xxmaj after seeing this film , i did not want my money back . i wanted my xxup time back . i wanted that hour and a half back in my life - it was the most amazing , hideous torture to know that i had squandered precious minutes of my life on this dreck . i am scarred for life , and ever since this \" film \" entered my life i have had trouble sleeping . i am trying to suppress the memories , really i am . . . but they make me want to burn things . \n",
       " \n",
       " ,xxbos a guy , with the unlikely name of xxmaj shy xxmaj walker , looks for his two daughters in a cornfield for an hour and a half . xxmaj that 's the entire plot ... with across - the - board bad acting , of course . xxmaj walker wanders around a corn maze ( maize ? i get it ! xxup hahaha ... not funny ) and yells \" xxmaj girls ? xxmaj where are you ? ! ? \" about 1000 times . xxmaj for some reason whenever he runs by a pumpkin , a chipmunk - sounding voice laughs ( as if the pumpkin is laughing at him , yeah xxup ok ... ) . xxmaj his daughters scream for most of the movie ... even when there is no reason to scream ( maybe because they are still stuck in this awful movie ? ) . xxmaj twin girls straight out of ' xxmaj the xxmaj shining ' show up every now and then . xxmaj most of the corn maze looks the same so xxmaj walker 's search gets very old very quickly . xxmaj the filmmakers realize there is xxup nothing going for this movie ( even the music is repetitive ) so they try to make things interesting by spinning the camera around really fast , filming upside down , inserting smaller pictures of the same shot at different angles , using red lights to make the corn look scary , and rotating the camera 360 degrees ( at least i 'm assuming these were done intentionally but it 's likely just examples of incompetent film - making ) . xxmaj more often than not , when xxmaj walker is wandering through the maze , you ca n't see his face . i guess the kid holding the camera ca n't look up that high ... xxmaj this movie gives you a new appreciation for the original ' xxmaj dark xxmaj harvest ' ( which does n't have anything to do with this movie except for the fact it also features a cornfield ) . xxmaj do n't be fooled by the r rating . xxmaj walker says the f word three times and now we have \" an r - rated horror movie \" , ugh . xxmaj the scarecrow on the cover does n't even show up in this movie ... and when you are wishing that those cheesy scarecrows from the first movie would come back , you know things are bad ! xxmaj instead we get a guy in yellow boots chasing our hero around ( unfortunately he is dressed similar to xxmaj mr. xxmaj walker so i did n't even realize he was being followed for a while ) . i figured out the identity of the guy in the yellow boots long before xxmaj walker did ( the movie is almost over by the time he puts 2 and 2 together , natch ) . xxmaj the end of the movie drags on and on ... and just in case it is n't slow enough , there 's some slow - motion ! xxmaj the last sound you hear ( besides your own laughter ) is very poor sound - dubbing . xxmaj in case you ca n't tell , this is the worst movie i 've ever seen . xxmaj at least they did n't end with the promise of another sequel !,xxbos ... when dubbed into another language . xxmaj let 's face it : xxmaj neither xxmaj nielsen nor xxmaj schwarzenegger are really good actors when it comes to dialog . xxmaj and given the campy lines they are supposed to utter this is a loose - loose situation . xxmaj any type of voice - over is sure to be an improvement ( and it actually is - at least in the xxmaj german version ) . \n",
       " \n",
       "  xxmaj but that is only a minor point . xxmaj the acting is bad . xxmaj the speeded up combat sequences are pathetic . xxmaj nielsen could n't use her sword to fight her way out of a wet paper bag . xxmaj this becomes painfully obvious when compared to the fluidity of motion exhibited by the kid ( who has had some martial arts training , no doubt ) and to the athleticism shown off by xxmaj xxunk xxmaj bergman . \n",
       " \n",
       "  xxmaj schwarzenegger does his xxmaj conan thing - nothing new here . \n",
       " \n",
       "  xxmaj some of the visuals are nice , i 'll have to grant that . xxmaj the dragon skeleton bridge looks cool . xxmaj but more often than not the plaster is all too evident . \n",
       " \n",
       "  xxmaj overall the movie is n't worth seeing . xxmaj even ' xxmaj conan the xxmaj destroyer ' is better than this ( although only marginally ) . i would have much rather seen xxmaj bergman as xxmaj red xxmaj sonja as she was originally supposed to be , but i doubt that that could have saved this movie - oh well . \n",
       " \n",
       "  3 / 10,xxbos i do n't know how this xxup dvd made its way into my collection - my wife suggested it was one of these \" 3 for £ 20 \" deals at a high street store . xxmaj the thing is n't worth xxunk , let alone £ xxunk ! xxmaj having invested heavily in it , i felt duty - bound to watch it to the end , just to make sure it was equally bad all the way through - and it was . \n",
       " \n",
       "  xxmaj the dialog was awful , the story line was impenetrable ( i still do n't understand what the hell was going on , despite having read the synopsis ) , the camera work was disjointed and hopeless , the acting was wooden ( not helped by the dialogue ) . \n",
       " \n",
       "  xxmaj in fact there were no redeeming features - no , not even the lovely xxmaj sandra xxmaj bullock , on whose glittering subsequent career this pile of dross has probably been sold . xxmaj she should get her agent to buy up all the rights to it and then bury it xxup asap . \n",
       " \n",
       "  xxmaj as a final amusing example of the director 's ineptitude , there was a scene where the young lead is conversing with his father 's ex - army sidekick while driving . xxmaj this was the clearest bit of dialogue in the film - no engine noise whatsoever ! i look forward to the engine - xxunk technology eventually making its way across the pond into xxmaj british cars !\n",
       "y: CategoryList\n",
       "neg,neg,neg,neg,neg\n",
       "Path: /storage/imdb;\n",
       "\n",
       "Test: None, model=SequentialRNN(\n",
       "  (0): MultiBatchEncoder(\n",
       "    (module): AWD_LSTM(\n",
       "      (encoder): Embedding(59928, 400, padding_idx=1)\n",
       "      (encoder_dp): EmbeddingDropout(\n",
       "        (emb): Embedding(59928, 400, padding_idx=1)\n",
       "      )\n",
       "      (rnns): ModuleList(\n",
       "        (0): WeightDropout(\n",
       "          (module): LSTM(400, 1152, batch_first=True)\n",
       "        )\n",
       "        (1): WeightDropout(\n",
       "          (module): LSTM(1152, 1152, batch_first=True)\n",
       "        )\n",
       "        (2): WeightDropout(\n",
       "          (module): LSTM(1152, 400, batch_first=True)\n",
       "        )\n",
       "      )\n",
       "      (input_dp): RNNDropout()\n",
       "      (hidden_dps): ModuleList(\n",
       "        (0): RNNDropout()\n",
       "        (1): RNNDropout()\n",
       "        (2): RNNDropout()\n",
       "      )\n",
       "    )\n",
       "  )\n",
       "  (1): PoolingLinearClassifier(\n",
       "    (layers): Sequential(\n",
       "      (0): BatchNorm1d(1200, eps=1e-05, momentum=0.1, affine=True, track_running_stats=True)\n",
       "      (1): Dropout(p=0.2, inplace=False)\n",
       "      (2): Linear(in_features=1200, out_features=50, bias=True)\n",
       "      (3): ReLU(inplace=True)\n",
       "      (4): BatchNorm1d(50, eps=1e-05, momentum=0.1, affine=True, track_running_stats=True)\n",
       "      (5): Dropout(p=0.1, inplace=False)\n",
       "      (6): Linear(in_features=50, out_features=2, bias=True)\n",
       "    )\n",
       "  )\n",
       "), opt_func=functools.partial(<class 'torch.optim.adam.Adam'>, betas=(0.9, 0.99)), loss_func=FlattenedLoss of CrossEntropyLoss(), metrics=[<function accuracy at 0x7fa8175a9d90>], true_wd=True, bn_wd=True, wd=0.01, train_bn=True, path=PosixPath('/storage/imdb'), model_dir='models', callback_fns=[functools.partial(<class 'fastai.basic_train.Recorder'>, add_time=True, silent=False)], callbacks=[...], layer_groups=[Sequential(\n",
       "  (0): Embedding(59928, 400, padding_idx=1)\n",
       "  (1): EmbeddingDropout(\n",
       "    (emb): Embedding(59928, 400, padding_idx=1)\n",
       "  )\n",
       "), Sequential(\n",
       "  (0): WeightDropout(\n",
       "    (module): LSTM(400, 1152, batch_first=True)\n",
       "  )\n",
       "  (1): RNNDropout()\n",
       "), Sequential(\n",
       "  (0): WeightDropout(\n",
       "    (module): LSTM(1152, 1152, batch_first=True)\n",
       "  )\n",
       "  (1): RNNDropout()\n",
       "), Sequential(\n",
       "  (0): WeightDropout(\n",
       "    (module): LSTM(1152, 400, batch_first=True)\n",
       "  )\n",
       "  (1): RNNDropout()\n",
       "), Sequential(\n",
       "  (0): PoolingLinearClassifier(\n",
       "    (layers): Sequential(\n",
       "      (0): BatchNorm1d(1200, eps=1e-05, momentum=0.1, affine=True, track_running_stats=True)\n",
       "      (1): Dropout(p=0.2, inplace=False)\n",
       "      (2): Linear(in_features=1200, out_features=50, bias=True)\n",
       "      (3): ReLU(inplace=True)\n",
       "      (4): BatchNorm1d(50, eps=1e-05, momentum=0.1, affine=True, track_running_stats=True)\n",
       "      (5): Dropout(p=0.1, inplace=False)\n",
       "      (6): Linear(in_features=50, out_features=2, bias=True)\n",
       "    )\n",
       "  )\n",
       ")], add_time=True, silent=False)\n",
       "alpha: 2.0\n",
       "beta: 1.0], layer_groups=[Sequential(\n",
       "  (0): Embedding(59928, 400, padding_idx=1)\n",
       "  (1): EmbeddingDropout(\n",
       "    (emb): Embedding(59928, 400, padding_idx=1)\n",
       "  )\n",
       "), Sequential(\n",
       "  (0): WeightDropout(\n",
       "    (module): LSTM(400, 1152, batch_first=True)\n",
       "  )\n",
       "  (1): RNNDropout()\n",
       "), Sequential(\n",
       "  (0): WeightDropout(\n",
       "    (module): LSTM(1152, 1152, batch_first=True)\n",
       "  )\n",
       "  (1): RNNDropout()\n",
       "), Sequential(\n",
       "  (0): WeightDropout(\n",
       "    (module): LSTM(1152, 400, batch_first=True)\n",
       "  )\n",
       "  (1): RNNDropout()\n",
       "), Sequential(\n",
       "  (0): PoolingLinearClassifier(\n",
       "    (layers): Sequential(\n",
       "      (0): BatchNorm1d(1200, eps=1e-05, momentum=0.1, affine=True, track_running_stats=True)\n",
       "      (1): Dropout(p=0.2, inplace=False)\n",
       "      (2): Linear(in_features=1200, out_features=50, bias=True)\n",
       "      (3): ReLU(inplace=True)\n",
       "      (4): BatchNorm1d(50, eps=1e-05, momentum=0.1, affine=True, track_running_stats=True)\n",
       "      (5): Dropout(p=0.1, inplace=False)\n",
       "      (6): Linear(in_features=50, out_features=2, bias=True)\n",
       "    )\n",
       "  )\n",
       ")], add_time=True, silent=False)"
      ]
     },
     "execution_count": 11,
     "metadata": {},
     "output_type": "execute_result"
    }
   ],
   "source": [
    "learn.load('first')"
   ]
  },
  {
   "cell_type": "markdown",
   "metadata": {},
   "source": [
    "Con la función 'freeze_to(-2), descongelamos todas las capas de la red neuronal excepto la últimas 2.\n",
    "Entrenamos de nuevo. El 'lr' será ahora un *slice*."
   ]
  },
  {
   "cell_type": "code",
   "execution_count": 12,
   "metadata": {},
   "outputs": [
    {
     "data": {
      "text/html": [
       "<table border=\"1\" class=\"dataframe\">\n",
       "  <thead>\n",
       "    <tr style=\"text-align: left;\">\n",
       "      <th>epoch</th>\n",
       "      <th>train_loss</th>\n",
       "      <th>valid_loss</th>\n",
       "      <th>accuracy</th>\n",
       "      <th>time</th>\n",
       "    </tr>\n",
       "  </thead>\n",
       "  <tbody>\n",
       "    <tr>\n",
       "      <td>0</td>\n",
       "      <td>0.680239</td>\n",
       "      <td>0.669072</td>\n",
       "      <td>0.606360</td>\n",
       "      <td>34:53</td>\n",
       "    </tr>\n",
       "  </tbody>\n",
       "</table>"
      ],
      "text/plain": [
       "<IPython.core.display.HTML object>"
      ]
     },
     "metadata": {},
     "output_type": "display_data"
    }
   ],
   "source": [
    "learn.freeze_to(-2)\n",
    "learn.fit_one_cycle(1, slice(1e-3/(2.6**4), 1e-2), moms=(0.8,0.7))"
   ]
  },
  {
   "cell_type": "markdown",
   "metadata": {},
   "source": [
    "Guradamos estos pesos como 'second' y cargamos."
   ]
  },
  {
   "cell_type": "code",
   "execution_count": 13,
   "metadata": {},
   "outputs": [],
   "source": [
    "learn.save('second')"
   ]
  },
  {
   "cell_type": "code",
   "execution_count": 14,
   "metadata": {},
   "outputs": [
    {
     "data": {
      "text/plain": [
       "RNNLearner(data=TextClasDataBunch;\n",
       "\n",
       "Train: LabelList (25000 items)\n",
       "x: TextList\n",
       "xxbos xxmaj this movie starts out very xxup very slow , but when the action finally gets started , it 's a little had to follow . i could n't understand why some of the events were taking place , and a lot of events happened before they were explained , making them sort of confusing . xxmaj the only thing it really has going for it is the massive amount of blood / gore it has , although most times the special effects are lacking . xxmaj blood looks like red xxmaj kool - xxmaj aid . xxmaj skin tearing sounds like somebody is stepping on a pile of sticks . xxmaj again , the story has a sort of amateur feel to it , like the writer did n't take a long time to perfect it . i feel like it could be a much better movie if the effects were done better and more time was taken on the script . i honestly wish i had n't watched it , not because of the gore , but because i feel that i wasted 90 minutes of my life . xxmaj if you like extremely gory movies , this is for you , if not , stay away .,xxbos i love low budget independent films and had high hopes for this one . xxmaj but this film is static . xxmaj never mind the production value , which is very noble for its budget , but the pacing is deadly . xxmaj admittedly these folks achieve much with little , but the film fails on the most fundamental level . xxmaj it 's boring . xxmaj the editing is glacial and the pacing stalls . xxmaj it should have been 65 minutes . xxmaj the best thing about the xxmaj dr. xxmaj jekyll is xxmaj mr. xxmaj hyde who is n't seen nearly enough . xxmaj he had the most dramatic potential . xxmaj instead we have to suffer through dithering xxmaj xxunk - xxmaj brits stammer through endless and tiresome exposition . xxmaj it feels like a backwater stage play committed to video . \n",
       " \n",
       "  xxmaj noble efforts by everyone in the production , but a story this tired needed a kick in the pants and funky new low budget technology should have given it a fresh voice . xxmaj instead it 's just a lame retread .,xxbos xxmaj first off , the title character is not even the main character of the movie . xxmaj he is the sidekick of the cult leader . xxmaj the actor who portrays xxmaj igor believed that screaming loud , laughing hysterically , and having a crooked smile while bugging out your eyes would be an excellent way to scare people . xxmaj igor also had the annoying habit of yelling ( because he never actually just spoke ) in a high pitched voice . xxmaj he would also say idiotic one - liners . xxmaj for example when the cult leader murders one of his followers with a buzz saw , xxmaj igor upon seeing this , yells out \" xxmaj paul ! xxmaj no xxmaj paul ! xxmaj why 'd you do it ? i could have cut her clean ! xxmaj so clean ! \" xxmaj in another scene xxmaj igor tells a victim that she would have to ' get her own tools for surgery because right now , it was his time to operate . ' xxmaj aside from the bad acting , the ending did not make sense because while the story builds up what little steam it has towards the climax , which is xxmaj igor getting a crossbow arrow to the head and the rest of his lunatic buddies being killed , he shows up again two more times to kill the remaining ' good guys ' . xxmaj the movie offers no explanation of this , only telling the viewer that xxmaj igor escaped from the mental hospital . xxmaj what ? ? ? xxmaj bottom line is do not waste your time watching this movie . i wish i could get back the moments i lost watching this .,xxbos xxmaj an interesting change from the first one . there was more mystery to this movie then the first . xxmaj even when it ends your asking yourself what happened who was the killer . xxmaj there are some good parts through the movie , the first half starts off slow and then in the last half the pace picks up . xxmaj all up the movie is enjoyable . xxmaj the story is 22 years after the events that occured in the first film , xxmaj norman xxmaj bates is out of an asylum and back to the xxmaj bates motel , but when a woman turns up claiming to be his real mother , things start going wrong . xxmaj perkins plays an aged xxmaj norman well again and the scene at the end was excellent , he xxunk that spade awfully hard .,xxbos xxmaj this is a bad , bad movie . i 'm an actual fencer : trust me when i say that this film 's pretension of accuracy is just that . xxmaj this is especially true during that vile little scene when the fencers are combining footwork with 80 's pop . xxmaj the ending is predictable , and the movie is a bore from start to finish . xxmaj horrible .\n",
       "y: CategoryList\n",
       "neg,neg,neg,neg,neg\n",
       "Path: /storage/imdb;\n",
       "\n",
       "Valid: LabelList (25000 items)\n",
       "x: TextList\n",
       "xxbos xxmaj mickey xxmaj rourke hunts xxmaj diane xxmaj lane in xxmaj elmore xxmaj leonard 's xxmaj xxunk xxmaj it is not like xxmaj mickey xxmaj rourke ever really disappeared . xxmaj he has had a steady string of appearances before he burst back on the scene . xxmaj he was memorable in : xxmaj domino , xxmaj sin xxmaj city , xxmaj man on xxmaj fire , xxmaj once xxmaj upon a xxmaj time in xxmaj mexico , and xxmaj get xxmaj carter . xxmaj but in his powerful dramatic performance in xxmaj the xxmaj wrestler ( 2008 ) , we see a full blown presentation of the character only hinted at in xxmaj get xxmaj carter . xxmaj whenever we get to know him , xxmaj rourke remains a cool , but sleazy , muscle bound slim ball . \n",
       " \n",
       "  xxmaj this is an xxmaj elmore xxmaj leonard story , and production . xxmaj leonard wrote such notable movies as taunt western thriller 3:10 to xxmaj yuma , xxmaj be xxmaj cool , xxmaj jackie xxmaj brown , xxmaj get xxmaj shorty , 52 xxmaj pick - xxmaj up , and xxmaj joe xxmaj kidd . xxmaj this means that we get tough guys , some good , some not so good . \n",
       " \n",
       "  xxmaj it also means we get tight , realistic plots with characters doing what is best for them in each situation , weaving complications into violent conclusions . xxmaj xxunk is no different . xxmaj tough , slim ball killer xxmaj rourke stalks unhappily married witness xxmaj lane . xxmaj think xxmaj history of xxmaj violence meets xxmaj no xxmaj country for xxmaj old xxmaj men . xxmaj it is not as intense , bloody or gory as those two , but it is almost as good . xxmaj if you like those two , including xxmaj david xxmaj xxunk 's equally wonderful xxmaj eastern xxmaj promises , you will like xxmaj xxunk also . \n",
       " \n",
       "  xxmaj director xxmaj john xxmaj madden has not done a lot of movies . xxmaj his last few were enjoyable , if not successful : xxmaj proof , xxmaj captain xxmaj xxunk 's xxmaj mandolin and xxmaj shakespeare in xxmaj love . \n",
       " \n",
       "  xxmaj diana xxmaj lane has n't had a powerful movie role since she and xxmaj richard xxmaj gere gave incredible performances in xxmaj unfaithful . xxmaj lately she is charming and appealing in romantic stories such as xxmaj nights in xxmaj xxunk , xxmaj must xxmaj love xxmaj dogs , and xxmaj under the xxmaj tuscan xxmaj sun . xxmaj here she is right on mark , balancing her sexy appeal with reserved tension . \n",
       " \n",
       "  xxmaj this is a small part for xxmaj rosario xxmaj dawson . xxmaj yet xxmaj dawson does a good job with it . xxmaj you see a lot more of xxmaj lane , including an underwear scene to rival xxmaj sigourney xxmaj weaver in xxmaj aliens and xxmaj nicole xxmaj kidman in xxmaj eyes xxmaj wide xxmaj shut . \n",
       " \n",
       "  xxmaj while you are in the crime drama section , also pick up xxmaj kiss , xxmaj kiss , xxmaj bang , xxmaj bang , and xxmaj gone xxmaj baby xxmaj gone , and xxmaj before the xxmaj devil xxmaj knows xxmaj your xxmaj dead . xxmaj the last has wonderful performances by xxmaj phillip xxmaj seymour xxmaj hoffman , xxmaj ethan xxmaj hawke , xxmaj marisa xxmaj tomei and xxmaj albert xxmaj finney . \n",
       " \n",
       "  xxmaj xxunk flopped at the box office . xxmaj more is our luck . xxmaj it is certainly worth a 3 - 4 dollar rental , if you like this genre . 6 / 20 / 2009,xxbos xxmaj after seeing this film , i did not want my money back . i wanted my xxup time back . i wanted that hour and a half back in my life - it was the most amazing , hideous torture to know that i had squandered precious minutes of my life on this dreck . i am scarred for life , and ever since this \" film \" entered my life i have had trouble sleeping . i am trying to suppress the memories , really i am . . . but they make me want to burn things . \n",
       " \n",
       " ,xxbos a guy , with the unlikely name of xxmaj shy xxmaj walker , looks for his two daughters in a cornfield for an hour and a half . xxmaj that 's the entire plot ... with across - the - board bad acting , of course . xxmaj walker wanders around a corn maze ( maize ? i get it ! xxup hahaha ... not funny ) and yells \" xxmaj girls ? xxmaj where are you ? ! ? \" about 1000 times . xxmaj for some reason whenever he runs by a pumpkin , a chipmunk - sounding voice laughs ( as if the pumpkin is laughing at him , yeah xxup ok ... ) . xxmaj his daughters scream for most of the movie ... even when there is no reason to scream ( maybe because they are still stuck in this awful movie ? ) . xxmaj twin girls straight out of ' xxmaj the xxmaj shining ' show up every now and then . xxmaj most of the corn maze looks the same so xxmaj walker 's search gets very old very quickly . xxmaj the filmmakers realize there is xxup nothing going for this movie ( even the music is repetitive ) so they try to make things interesting by spinning the camera around really fast , filming upside down , inserting smaller pictures of the same shot at different angles , using red lights to make the corn look scary , and rotating the camera 360 degrees ( at least i 'm assuming these were done intentionally but it 's likely just examples of incompetent film - making ) . xxmaj more often than not , when xxmaj walker is wandering through the maze , you ca n't see his face . i guess the kid holding the camera ca n't look up that high ... xxmaj this movie gives you a new appreciation for the original ' xxmaj dark xxmaj harvest ' ( which does n't have anything to do with this movie except for the fact it also features a cornfield ) . xxmaj do n't be fooled by the r rating . xxmaj walker says the f word three times and now we have \" an r - rated horror movie \" , ugh . xxmaj the scarecrow on the cover does n't even show up in this movie ... and when you are wishing that those cheesy scarecrows from the first movie would come back , you know things are bad ! xxmaj instead we get a guy in yellow boots chasing our hero around ( unfortunately he is dressed similar to xxmaj mr. xxmaj walker so i did n't even realize he was being followed for a while ) . i figured out the identity of the guy in the yellow boots long before xxmaj walker did ( the movie is almost over by the time he puts 2 and 2 together , natch ) . xxmaj the end of the movie drags on and on ... and just in case it is n't slow enough , there 's some slow - motion ! xxmaj the last sound you hear ( besides your own laughter ) is very poor sound - dubbing . xxmaj in case you ca n't tell , this is the worst movie i 've ever seen . xxmaj at least they did n't end with the promise of another sequel !,xxbos ... when dubbed into another language . xxmaj let 's face it : xxmaj neither xxmaj nielsen nor xxmaj schwarzenegger are really good actors when it comes to dialog . xxmaj and given the campy lines they are supposed to utter this is a loose - loose situation . xxmaj any type of voice - over is sure to be an improvement ( and it actually is - at least in the xxmaj german version ) . \n",
       " \n",
       "  xxmaj but that is only a minor point . xxmaj the acting is bad . xxmaj the speeded up combat sequences are pathetic . xxmaj nielsen could n't use her sword to fight her way out of a wet paper bag . xxmaj this becomes painfully obvious when compared to the fluidity of motion exhibited by the kid ( who has had some martial arts training , no doubt ) and to the athleticism shown off by xxmaj xxunk xxmaj bergman . \n",
       " \n",
       "  xxmaj schwarzenegger does his xxmaj conan thing - nothing new here . \n",
       " \n",
       "  xxmaj some of the visuals are nice , i 'll have to grant that . xxmaj the dragon skeleton bridge looks cool . xxmaj but more often than not the plaster is all too evident . \n",
       " \n",
       "  xxmaj overall the movie is n't worth seeing . xxmaj even ' xxmaj conan the xxmaj destroyer ' is better than this ( although only marginally ) . i would have much rather seen xxmaj bergman as xxmaj red xxmaj sonja as she was originally supposed to be , but i doubt that that could have saved this movie - oh well . \n",
       " \n",
       "  3 / 10,xxbos i do n't know how this xxup dvd made its way into my collection - my wife suggested it was one of these \" 3 for £ 20 \" deals at a high street store . xxmaj the thing is n't worth xxunk , let alone £ xxunk ! xxmaj having invested heavily in it , i felt duty - bound to watch it to the end , just to make sure it was equally bad all the way through - and it was . \n",
       " \n",
       "  xxmaj the dialog was awful , the story line was impenetrable ( i still do n't understand what the hell was going on , despite having read the synopsis ) , the camera work was disjointed and hopeless , the acting was wooden ( not helped by the dialogue ) . \n",
       " \n",
       "  xxmaj in fact there were no redeeming features - no , not even the lovely xxmaj sandra xxmaj bullock , on whose glittering subsequent career this pile of dross has probably been sold . xxmaj she should get her agent to buy up all the rights to it and then bury it xxup asap . \n",
       " \n",
       "  xxmaj as a final amusing example of the director 's ineptitude , there was a scene where the young lead is conversing with his father 's ex - army sidekick while driving . xxmaj this was the clearest bit of dialogue in the film - no engine noise whatsoever ! i look forward to the engine - xxunk technology eventually making its way across the pond into xxmaj british cars !\n",
       "y: CategoryList\n",
       "neg,neg,neg,neg,neg\n",
       "Path: /storage/imdb;\n",
       "\n",
       "Test: None, model=SequentialRNN(\n",
       "  (0): MultiBatchEncoder(\n",
       "    (module): AWD_LSTM(\n",
       "      (encoder): Embedding(59928, 400, padding_idx=1)\n",
       "      (encoder_dp): EmbeddingDropout(\n",
       "        (emb): Embedding(59928, 400, padding_idx=1)\n",
       "      )\n",
       "      (rnns): ModuleList(\n",
       "        (0): WeightDropout(\n",
       "          (module): LSTM(400, 1152, batch_first=True)\n",
       "        )\n",
       "        (1): WeightDropout(\n",
       "          (module): LSTM(1152, 1152, batch_first=True)\n",
       "        )\n",
       "        (2): WeightDropout(\n",
       "          (module): LSTM(1152, 400, batch_first=True)\n",
       "        )\n",
       "      )\n",
       "      (input_dp): RNNDropout()\n",
       "      (hidden_dps): ModuleList(\n",
       "        (0): RNNDropout()\n",
       "        (1): RNNDropout()\n",
       "        (2): RNNDropout()\n",
       "      )\n",
       "    )\n",
       "  )\n",
       "  (1): PoolingLinearClassifier(\n",
       "    (layers): Sequential(\n",
       "      (0): BatchNorm1d(1200, eps=1e-05, momentum=0.1, affine=True, track_running_stats=True)\n",
       "      (1): Dropout(p=0.2, inplace=False)\n",
       "      (2): Linear(in_features=1200, out_features=50, bias=True)\n",
       "      (3): ReLU(inplace=True)\n",
       "      (4): BatchNorm1d(50, eps=1e-05, momentum=0.1, affine=True, track_running_stats=True)\n",
       "      (5): Dropout(p=0.1, inplace=False)\n",
       "      (6): Linear(in_features=50, out_features=2, bias=True)\n",
       "    )\n",
       "  )\n",
       "), opt_func=functools.partial(<class 'torch.optim.adam.Adam'>, betas=(0.9, 0.99)), loss_func=FlattenedLoss of CrossEntropyLoss(), metrics=[<function accuracy at 0x7fa8175a9d90>], true_wd=True, bn_wd=True, wd=0.01, train_bn=True, path=PosixPath('/storage/imdb'), model_dir='models', callback_fns=[functools.partial(<class 'fastai.basic_train.Recorder'>, add_time=True, silent=False)], callbacks=[RNNTrainer\n",
       "learn: RNNLearner(data=TextClasDataBunch;\n",
       "\n",
       "Train: LabelList (25000 items)\n",
       "x: TextList\n",
       "xxbos xxmaj this movie starts out very xxup very slow , but when the action finally gets started , it 's a little had to follow . i could n't understand why some of the events were taking place , and a lot of events happened before they were explained , making them sort of confusing . xxmaj the only thing it really has going for it is the massive amount of blood / gore it has , although most times the special effects are lacking . xxmaj blood looks like red xxmaj kool - xxmaj aid . xxmaj skin tearing sounds like somebody is stepping on a pile of sticks . xxmaj again , the story has a sort of amateur feel to it , like the writer did n't take a long time to perfect it . i feel like it could be a much better movie if the effects were done better and more time was taken on the script . i honestly wish i had n't watched it , not because of the gore , but because i feel that i wasted 90 minutes of my life . xxmaj if you like extremely gory movies , this is for you , if not , stay away .,xxbos i love low budget independent films and had high hopes for this one . xxmaj but this film is static . xxmaj never mind the production value , which is very noble for its budget , but the pacing is deadly . xxmaj admittedly these folks achieve much with little , but the film fails on the most fundamental level . xxmaj it 's boring . xxmaj the editing is glacial and the pacing stalls . xxmaj it should have been 65 minutes . xxmaj the best thing about the xxmaj dr. xxmaj jekyll is xxmaj mr. xxmaj hyde who is n't seen nearly enough . xxmaj he had the most dramatic potential . xxmaj instead we have to suffer through dithering xxmaj xxunk - xxmaj brits stammer through endless and tiresome exposition . xxmaj it feels like a backwater stage play committed to video . \n",
       " \n",
       "  xxmaj noble efforts by everyone in the production , but a story this tired needed a kick in the pants and funky new low budget technology should have given it a fresh voice . xxmaj instead it 's just a lame retread .,xxbos xxmaj first off , the title character is not even the main character of the movie . xxmaj he is the sidekick of the cult leader . xxmaj the actor who portrays xxmaj igor believed that screaming loud , laughing hysterically , and having a crooked smile while bugging out your eyes would be an excellent way to scare people . xxmaj igor also had the annoying habit of yelling ( because he never actually just spoke ) in a high pitched voice . xxmaj he would also say idiotic one - liners . xxmaj for example when the cult leader murders one of his followers with a buzz saw , xxmaj igor upon seeing this , yells out \" xxmaj paul ! xxmaj no xxmaj paul ! xxmaj why 'd you do it ? i could have cut her clean ! xxmaj so clean ! \" xxmaj in another scene xxmaj igor tells a victim that she would have to ' get her own tools for surgery because right now , it was his time to operate . ' xxmaj aside from the bad acting , the ending did not make sense because while the story builds up what little steam it has towards the climax , which is xxmaj igor getting a crossbow arrow to the head and the rest of his lunatic buddies being killed , he shows up again two more times to kill the remaining ' good guys ' . xxmaj the movie offers no explanation of this , only telling the viewer that xxmaj igor escaped from the mental hospital . xxmaj what ? ? ? xxmaj bottom line is do not waste your time watching this movie . i wish i could get back the moments i lost watching this .,xxbos xxmaj an interesting change from the first one . there was more mystery to this movie then the first . xxmaj even when it ends your asking yourself what happened who was the killer . xxmaj there are some good parts through the movie , the first half starts off slow and then in the last half the pace picks up . xxmaj all up the movie is enjoyable . xxmaj the story is 22 years after the events that occured in the first film , xxmaj norman xxmaj bates is out of an asylum and back to the xxmaj bates motel , but when a woman turns up claiming to be his real mother , things start going wrong . xxmaj perkins plays an aged xxmaj norman well again and the scene at the end was excellent , he xxunk that spade awfully hard .,xxbos xxmaj this is a bad , bad movie . i 'm an actual fencer : trust me when i say that this film 's pretension of accuracy is just that . xxmaj this is especially true during that vile little scene when the fencers are combining footwork with 80 's pop . xxmaj the ending is predictable , and the movie is a bore from start to finish . xxmaj horrible .\n",
       "y: CategoryList\n",
       "neg,neg,neg,neg,neg\n",
       "Path: /storage/imdb;\n",
       "\n",
       "Valid: LabelList (25000 items)\n",
       "x: TextList\n",
       "xxbos xxmaj mickey xxmaj rourke hunts xxmaj diane xxmaj lane in xxmaj elmore xxmaj leonard 's xxmaj xxunk xxmaj it is not like xxmaj mickey xxmaj rourke ever really disappeared . xxmaj he has had a steady string of appearances before he burst back on the scene . xxmaj he was memorable in : xxmaj domino , xxmaj sin xxmaj city , xxmaj man on xxmaj fire , xxmaj once xxmaj upon a xxmaj time in xxmaj mexico , and xxmaj get xxmaj carter . xxmaj but in his powerful dramatic performance in xxmaj the xxmaj wrestler ( 2008 ) , we see a full blown presentation of the character only hinted at in xxmaj get xxmaj carter . xxmaj whenever we get to know him , xxmaj rourke remains a cool , but sleazy , muscle bound slim ball . \n",
       " \n",
       "  xxmaj this is an xxmaj elmore xxmaj leonard story , and production . xxmaj leonard wrote such notable movies as taunt western thriller 3:10 to xxmaj yuma , xxmaj be xxmaj cool , xxmaj jackie xxmaj brown , xxmaj get xxmaj shorty , 52 xxmaj pick - xxmaj up , and xxmaj joe xxmaj kidd . xxmaj this means that we get tough guys , some good , some not so good . \n",
       " \n",
       "  xxmaj it also means we get tight , realistic plots with characters doing what is best for them in each situation , weaving complications into violent conclusions . xxmaj xxunk is no different . xxmaj tough , slim ball killer xxmaj rourke stalks unhappily married witness xxmaj lane . xxmaj think xxmaj history of xxmaj violence meets xxmaj no xxmaj country for xxmaj old xxmaj men . xxmaj it is not as intense , bloody or gory as those two , but it is almost as good . xxmaj if you like those two , including xxmaj david xxmaj xxunk 's equally wonderful xxmaj eastern xxmaj promises , you will like xxmaj xxunk also . \n",
       " \n",
       "  xxmaj director xxmaj john xxmaj madden has not done a lot of movies . xxmaj his last few were enjoyable , if not successful : xxmaj proof , xxmaj captain xxmaj xxunk 's xxmaj mandolin and xxmaj shakespeare in xxmaj love . \n",
       " \n",
       "  xxmaj diana xxmaj lane has n't had a powerful movie role since she and xxmaj richard xxmaj gere gave incredible performances in xxmaj unfaithful . xxmaj lately she is charming and appealing in romantic stories such as xxmaj nights in xxmaj xxunk , xxmaj must xxmaj love xxmaj dogs , and xxmaj under the xxmaj tuscan xxmaj sun . xxmaj here she is right on mark , balancing her sexy appeal with reserved tension . \n",
       " \n",
       "  xxmaj this is a small part for xxmaj rosario xxmaj dawson . xxmaj yet xxmaj dawson does a good job with it . xxmaj you see a lot more of xxmaj lane , including an underwear scene to rival xxmaj sigourney xxmaj weaver in xxmaj aliens and xxmaj nicole xxmaj kidman in xxmaj eyes xxmaj wide xxmaj shut . \n",
       " \n",
       "  xxmaj while you are in the crime drama section , also pick up xxmaj kiss , xxmaj kiss , xxmaj bang , xxmaj bang , and xxmaj gone xxmaj baby xxmaj gone , and xxmaj before the xxmaj devil xxmaj knows xxmaj your xxmaj dead . xxmaj the last has wonderful performances by xxmaj phillip xxmaj seymour xxmaj hoffman , xxmaj ethan xxmaj hawke , xxmaj marisa xxmaj tomei and xxmaj albert xxmaj finney . \n",
       " \n",
       "  xxmaj xxunk flopped at the box office . xxmaj more is our luck . xxmaj it is certainly worth a 3 - 4 dollar rental , if you like this genre . 6 / 20 / 2009,xxbos xxmaj after seeing this film , i did not want my money back . i wanted my xxup time back . i wanted that hour and a half back in my life - it was the most amazing , hideous torture to know that i had squandered precious minutes of my life on this dreck . i am scarred for life , and ever since this \" film \" entered my life i have had trouble sleeping . i am trying to suppress the memories , really i am . . . but they make me want to burn things . \n",
       " \n",
       " ,xxbos a guy , with the unlikely name of xxmaj shy xxmaj walker , looks for his two daughters in a cornfield for an hour and a half . xxmaj that 's the entire plot ... with across - the - board bad acting , of course . xxmaj walker wanders around a corn maze ( maize ? i get it ! xxup hahaha ... not funny ) and yells \" xxmaj girls ? xxmaj where are you ? ! ? \" about 1000 times . xxmaj for some reason whenever he runs by a pumpkin , a chipmunk - sounding voice laughs ( as if the pumpkin is laughing at him , yeah xxup ok ... ) . xxmaj his daughters scream for most of the movie ... even when there is no reason to scream ( maybe because they are still stuck in this awful movie ? ) . xxmaj twin girls straight out of ' xxmaj the xxmaj shining ' show up every now and then . xxmaj most of the corn maze looks the same so xxmaj walker 's search gets very old very quickly . xxmaj the filmmakers realize there is xxup nothing going for this movie ( even the music is repetitive ) so they try to make things interesting by spinning the camera around really fast , filming upside down , inserting smaller pictures of the same shot at different angles , using red lights to make the corn look scary , and rotating the camera 360 degrees ( at least i 'm assuming these were done intentionally but it 's likely just examples of incompetent film - making ) . xxmaj more often than not , when xxmaj walker is wandering through the maze , you ca n't see his face . i guess the kid holding the camera ca n't look up that high ... xxmaj this movie gives you a new appreciation for the original ' xxmaj dark xxmaj harvest ' ( which does n't have anything to do with this movie except for the fact it also features a cornfield ) . xxmaj do n't be fooled by the r rating . xxmaj walker says the f word three times and now we have \" an r - rated horror movie \" , ugh . xxmaj the scarecrow on the cover does n't even show up in this movie ... and when you are wishing that those cheesy scarecrows from the first movie would come back , you know things are bad ! xxmaj instead we get a guy in yellow boots chasing our hero around ( unfortunately he is dressed similar to xxmaj mr. xxmaj walker so i did n't even realize he was being followed for a while ) . i figured out the identity of the guy in the yellow boots long before xxmaj walker did ( the movie is almost over by the time he puts 2 and 2 together , natch ) . xxmaj the end of the movie drags on and on ... and just in case it is n't slow enough , there 's some slow - motion ! xxmaj the last sound you hear ( besides your own laughter ) is very poor sound - dubbing . xxmaj in case you ca n't tell , this is the worst movie i 've ever seen . xxmaj at least they did n't end with the promise of another sequel !,xxbos ... when dubbed into another language . xxmaj let 's face it : xxmaj neither xxmaj nielsen nor xxmaj schwarzenegger are really good actors when it comes to dialog . xxmaj and given the campy lines they are supposed to utter this is a loose - loose situation . xxmaj any type of voice - over is sure to be an improvement ( and it actually is - at least in the xxmaj german version ) . \n",
       " \n",
       "  xxmaj but that is only a minor point . xxmaj the acting is bad . xxmaj the speeded up combat sequences are pathetic . xxmaj nielsen could n't use her sword to fight her way out of a wet paper bag . xxmaj this becomes painfully obvious when compared to the fluidity of motion exhibited by the kid ( who has had some martial arts training , no doubt ) and to the athleticism shown off by xxmaj xxunk xxmaj bergman . \n",
       " \n",
       "  xxmaj schwarzenegger does his xxmaj conan thing - nothing new here . \n",
       " \n",
       "  xxmaj some of the visuals are nice , i 'll have to grant that . xxmaj the dragon skeleton bridge looks cool . xxmaj but more often than not the plaster is all too evident . \n",
       " \n",
       "  xxmaj overall the movie is n't worth seeing . xxmaj even ' xxmaj conan the xxmaj destroyer ' is better than this ( although only marginally ) . i would have much rather seen xxmaj bergman as xxmaj red xxmaj sonja as she was originally supposed to be , but i doubt that that could have saved this movie - oh well . \n",
       " \n",
       "  3 / 10,xxbos i do n't know how this xxup dvd made its way into my collection - my wife suggested it was one of these \" 3 for £ 20 \" deals at a high street store . xxmaj the thing is n't worth xxunk , let alone £ xxunk ! xxmaj having invested heavily in it , i felt duty - bound to watch it to the end , just to make sure it was equally bad all the way through - and it was . \n",
       " \n",
       "  xxmaj the dialog was awful , the story line was impenetrable ( i still do n't understand what the hell was going on , despite having read the synopsis ) , the camera work was disjointed and hopeless , the acting was wooden ( not helped by the dialogue ) . \n",
       " \n",
       "  xxmaj in fact there were no redeeming features - no , not even the lovely xxmaj sandra xxmaj bullock , on whose glittering subsequent career this pile of dross has probably been sold . xxmaj she should get her agent to buy up all the rights to it and then bury it xxup asap . \n",
       " \n",
       "  xxmaj as a final amusing example of the director 's ineptitude , there was a scene where the young lead is conversing with his father 's ex - army sidekick while driving . xxmaj this was the clearest bit of dialogue in the film - no engine noise whatsoever ! i look forward to the engine - xxunk technology eventually making its way across the pond into xxmaj british cars !\n",
       "y: CategoryList\n",
       "neg,neg,neg,neg,neg\n",
       "Path: /storage/imdb;\n",
       "\n",
       "Test: None, model=SequentialRNN(\n",
       "  (0): MultiBatchEncoder(\n",
       "    (module): AWD_LSTM(\n",
       "      (encoder): Embedding(59928, 400, padding_idx=1)\n",
       "      (encoder_dp): EmbeddingDropout(\n",
       "        (emb): Embedding(59928, 400, padding_idx=1)\n",
       "      )\n",
       "      (rnns): ModuleList(\n",
       "        (0): WeightDropout(\n",
       "          (module): LSTM(400, 1152, batch_first=True)\n",
       "        )\n",
       "        (1): WeightDropout(\n",
       "          (module): LSTM(1152, 1152, batch_first=True)\n",
       "        )\n",
       "        (2): WeightDropout(\n",
       "          (module): LSTM(1152, 400, batch_first=True)\n",
       "        )\n",
       "      )\n",
       "      (input_dp): RNNDropout()\n",
       "      (hidden_dps): ModuleList(\n",
       "        (0): RNNDropout()\n",
       "        (1): RNNDropout()\n",
       "        (2): RNNDropout()\n",
       "      )\n",
       "    )\n",
       "  )\n",
       "  (1): PoolingLinearClassifier(\n",
       "    (layers): Sequential(\n",
       "      (0): BatchNorm1d(1200, eps=1e-05, momentum=0.1, affine=True, track_running_stats=True)\n",
       "      (1): Dropout(p=0.2, inplace=False)\n",
       "      (2): Linear(in_features=1200, out_features=50, bias=True)\n",
       "      (3): ReLU(inplace=True)\n",
       "      (4): BatchNorm1d(50, eps=1e-05, momentum=0.1, affine=True, track_running_stats=True)\n",
       "      (5): Dropout(p=0.1, inplace=False)\n",
       "      (6): Linear(in_features=50, out_features=2, bias=True)\n",
       "    )\n",
       "  )\n",
       "), opt_func=functools.partial(<class 'torch.optim.adam.Adam'>, betas=(0.9, 0.99)), loss_func=FlattenedLoss of CrossEntropyLoss(), metrics=[<function accuracy at 0x7fa8175a9d90>], true_wd=True, bn_wd=True, wd=0.01, train_bn=True, path=PosixPath('/storage/imdb'), model_dir='models', callback_fns=[functools.partial(<class 'fastai.basic_train.Recorder'>, add_time=True, silent=False)], callbacks=[...], layer_groups=[Sequential(\n",
       "  (0): Embedding(59928, 400, padding_idx=1)\n",
       "  (1): EmbeddingDropout(\n",
       "    (emb): Embedding(59928, 400, padding_idx=1)\n",
       "  )\n",
       "), Sequential(\n",
       "  (0): WeightDropout(\n",
       "    (module): LSTM(400, 1152, batch_first=True)\n",
       "  )\n",
       "  (1): RNNDropout()\n",
       "), Sequential(\n",
       "  (0): WeightDropout(\n",
       "    (module): LSTM(1152, 1152, batch_first=True)\n",
       "  )\n",
       "  (1): RNNDropout()\n",
       "), Sequential(\n",
       "  (0): WeightDropout(\n",
       "    (module): LSTM(1152, 400, batch_first=True)\n",
       "  )\n",
       "  (1): RNNDropout()\n",
       "), Sequential(\n",
       "  (0): PoolingLinearClassifier(\n",
       "    (layers): Sequential(\n",
       "      (0): BatchNorm1d(1200, eps=1e-05, momentum=0.1, affine=True, track_running_stats=True)\n",
       "      (1): Dropout(p=0.2, inplace=False)\n",
       "      (2): Linear(in_features=1200, out_features=50, bias=True)\n",
       "      (3): ReLU(inplace=True)\n",
       "      (4): BatchNorm1d(50, eps=1e-05, momentum=0.1, affine=True, track_running_stats=True)\n",
       "      (5): Dropout(p=0.1, inplace=False)\n",
       "      (6): Linear(in_features=50, out_features=2, bias=True)\n",
       "    )\n",
       "  )\n",
       ")], add_time=True, silent=False)\n",
       "alpha: 2.0\n",
       "beta: 1.0], layer_groups=[Sequential(\n",
       "  (0): Embedding(59928, 400, padding_idx=1)\n",
       "  (1): EmbeddingDropout(\n",
       "    (emb): Embedding(59928, 400, padding_idx=1)\n",
       "  )\n",
       "), Sequential(\n",
       "  (0): WeightDropout(\n",
       "    (module): LSTM(400, 1152, batch_first=True)\n",
       "  )\n",
       "  (1): RNNDropout()\n",
       "), Sequential(\n",
       "  (0): WeightDropout(\n",
       "    (module): LSTM(1152, 1152, batch_first=True)\n",
       "  )\n",
       "  (1): RNNDropout()\n",
       "), Sequential(\n",
       "  (0): WeightDropout(\n",
       "    (module): LSTM(1152, 400, batch_first=True)\n",
       "  )\n",
       "  (1): RNNDropout()\n",
       "), Sequential(\n",
       "  (0): PoolingLinearClassifier(\n",
       "    (layers): Sequential(\n",
       "      (0): BatchNorm1d(1200, eps=1e-05, momentum=0.1, affine=True, track_running_stats=True)\n",
       "      (1): Dropout(p=0.2, inplace=False)\n",
       "      (2): Linear(in_features=1200, out_features=50, bias=True)\n",
       "      (3): ReLU(inplace=True)\n",
       "      (4): BatchNorm1d(50, eps=1e-05, momentum=0.1, affine=True, track_running_stats=True)\n",
       "      (5): Dropout(p=0.1, inplace=False)\n",
       "      (6): Linear(in_features=50, out_features=2, bias=True)\n",
       "    )\n",
       "  )\n",
       ")], add_time=True, silent=False)"
      ]
     },
     "execution_count": 14,
     "metadata": {},
     "output_type": "execute_result"
    }
   ],
   "source": [
    "learn.load('second')"
   ]
  },
  {
   "cell_type": "markdown",
   "metadata": {},
   "source": [
    "Descongelamos todas las capas excepto las 3 útimas, y entrenamos de nuevo. Probamos otro *slice* de 'lr'."
   ]
  },
  {
   "cell_type": "code",
   "execution_count": 15,
   "metadata": {},
   "outputs": [
    {
     "data": {
      "text/html": [
       "<table border=\"1\" class=\"dataframe\">\n",
       "  <thead>\n",
       "    <tr style=\"text-align: left;\">\n",
       "      <th>epoch</th>\n",
       "      <th>train_loss</th>\n",
       "      <th>valid_loss</th>\n",
       "      <th>accuracy</th>\n",
       "      <th>time</th>\n",
       "    </tr>\n",
       "  </thead>\n",
       "  <tbody>\n",
       "    <tr>\n",
       "      <td>0</td>\n",
       "      <td>0.613208</td>\n",
       "      <td>0.574623</td>\n",
       "      <td>0.712760</td>\n",
       "      <td>35:10</td>\n",
       "    </tr>\n",
       "  </tbody>\n",
       "</table>"
      ],
      "text/plain": [
       "<IPython.core.display.HTML object>"
      ]
     },
     "metadata": {},
     "output_type": "display_data"
    }
   ],
   "source": [
    "learn.freeze_to(-3)\n",
    "learn.fit_one_cycle(1, slice(5e-2/(2.6**4), 5e-3), moms=(0.8,0.7))"
   ]
  },
  {
   "cell_type": "markdown",
   "metadata": {},
   "source": [
    "Guardamos y cargamos de nuevo."
   ]
  },
  {
   "cell_type": "code",
   "execution_count": 16,
   "metadata": {},
   "outputs": [],
   "source": [
    "learn.save('third')"
   ]
  },
  {
   "cell_type": "code",
   "execution_count": 17,
   "metadata": {},
   "outputs": [
    {
     "data": {
      "text/plain": [
       "RNNLearner(data=TextClasDataBunch;\n",
       "\n",
       "Train: LabelList (25000 items)\n",
       "x: TextList\n",
       "xxbos xxmaj this movie starts out very xxup very slow , but when the action finally gets started , it 's a little had to follow . i could n't understand why some of the events were taking place , and a lot of events happened before they were explained , making them sort of confusing . xxmaj the only thing it really has going for it is the massive amount of blood / gore it has , although most times the special effects are lacking . xxmaj blood looks like red xxmaj kool - xxmaj aid . xxmaj skin tearing sounds like somebody is stepping on a pile of sticks . xxmaj again , the story has a sort of amateur feel to it , like the writer did n't take a long time to perfect it . i feel like it could be a much better movie if the effects were done better and more time was taken on the script . i honestly wish i had n't watched it , not because of the gore , but because i feel that i wasted 90 minutes of my life . xxmaj if you like extremely gory movies , this is for you , if not , stay away .,xxbos i love low budget independent films and had high hopes for this one . xxmaj but this film is static . xxmaj never mind the production value , which is very noble for its budget , but the pacing is deadly . xxmaj admittedly these folks achieve much with little , but the film fails on the most fundamental level . xxmaj it 's boring . xxmaj the editing is glacial and the pacing stalls . xxmaj it should have been 65 minutes . xxmaj the best thing about the xxmaj dr. xxmaj jekyll is xxmaj mr. xxmaj hyde who is n't seen nearly enough . xxmaj he had the most dramatic potential . xxmaj instead we have to suffer through dithering xxmaj xxunk - xxmaj brits stammer through endless and tiresome exposition . xxmaj it feels like a backwater stage play committed to video . \n",
       " \n",
       "  xxmaj noble efforts by everyone in the production , but a story this tired needed a kick in the pants and funky new low budget technology should have given it a fresh voice . xxmaj instead it 's just a lame retread .,xxbos xxmaj first off , the title character is not even the main character of the movie . xxmaj he is the sidekick of the cult leader . xxmaj the actor who portrays xxmaj igor believed that screaming loud , laughing hysterically , and having a crooked smile while bugging out your eyes would be an excellent way to scare people . xxmaj igor also had the annoying habit of yelling ( because he never actually just spoke ) in a high pitched voice . xxmaj he would also say idiotic one - liners . xxmaj for example when the cult leader murders one of his followers with a buzz saw , xxmaj igor upon seeing this , yells out \" xxmaj paul ! xxmaj no xxmaj paul ! xxmaj why 'd you do it ? i could have cut her clean ! xxmaj so clean ! \" xxmaj in another scene xxmaj igor tells a victim that she would have to ' get her own tools for surgery because right now , it was his time to operate . ' xxmaj aside from the bad acting , the ending did not make sense because while the story builds up what little steam it has towards the climax , which is xxmaj igor getting a crossbow arrow to the head and the rest of his lunatic buddies being killed , he shows up again two more times to kill the remaining ' good guys ' . xxmaj the movie offers no explanation of this , only telling the viewer that xxmaj igor escaped from the mental hospital . xxmaj what ? ? ? xxmaj bottom line is do not waste your time watching this movie . i wish i could get back the moments i lost watching this .,xxbos xxmaj an interesting change from the first one . there was more mystery to this movie then the first . xxmaj even when it ends your asking yourself what happened who was the killer . xxmaj there are some good parts through the movie , the first half starts off slow and then in the last half the pace picks up . xxmaj all up the movie is enjoyable . xxmaj the story is 22 years after the events that occured in the first film , xxmaj norman xxmaj bates is out of an asylum and back to the xxmaj bates motel , but when a woman turns up claiming to be his real mother , things start going wrong . xxmaj perkins plays an aged xxmaj norman well again and the scene at the end was excellent , he xxunk that spade awfully hard .,xxbos xxmaj this is a bad , bad movie . i 'm an actual fencer : trust me when i say that this film 's pretension of accuracy is just that . xxmaj this is especially true during that vile little scene when the fencers are combining footwork with 80 's pop . xxmaj the ending is predictable , and the movie is a bore from start to finish . xxmaj horrible .\n",
       "y: CategoryList\n",
       "neg,neg,neg,neg,neg\n",
       "Path: /storage/imdb;\n",
       "\n",
       "Valid: LabelList (25000 items)\n",
       "x: TextList\n",
       "xxbos xxmaj mickey xxmaj rourke hunts xxmaj diane xxmaj lane in xxmaj elmore xxmaj leonard 's xxmaj xxunk xxmaj it is not like xxmaj mickey xxmaj rourke ever really disappeared . xxmaj he has had a steady string of appearances before he burst back on the scene . xxmaj he was memorable in : xxmaj domino , xxmaj sin xxmaj city , xxmaj man on xxmaj fire , xxmaj once xxmaj upon a xxmaj time in xxmaj mexico , and xxmaj get xxmaj carter . xxmaj but in his powerful dramatic performance in xxmaj the xxmaj wrestler ( 2008 ) , we see a full blown presentation of the character only hinted at in xxmaj get xxmaj carter . xxmaj whenever we get to know him , xxmaj rourke remains a cool , but sleazy , muscle bound slim ball . \n",
       " \n",
       "  xxmaj this is an xxmaj elmore xxmaj leonard story , and production . xxmaj leonard wrote such notable movies as taunt western thriller 3:10 to xxmaj yuma , xxmaj be xxmaj cool , xxmaj jackie xxmaj brown , xxmaj get xxmaj shorty , 52 xxmaj pick - xxmaj up , and xxmaj joe xxmaj kidd . xxmaj this means that we get tough guys , some good , some not so good . \n",
       " \n",
       "  xxmaj it also means we get tight , realistic plots with characters doing what is best for them in each situation , weaving complications into violent conclusions . xxmaj xxunk is no different . xxmaj tough , slim ball killer xxmaj rourke stalks unhappily married witness xxmaj lane . xxmaj think xxmaj history of xxmaj violence meets xxmaj no xxmaj country for xxmaj old xxmaj men . xxmaj it is not as intense , bloody or gory as those two , but it is almost as good . xxmaj if you like those two , including xxmaj david xxmaj xxunk 's equally wonderful xxmaj eastern xxmaj promises , you will like xxmaj xxunk also . \n",
       " \n",
       "  xxmaj director xxmaj john xxmaj madden has not done a lot of movies . xxmaj his last few were enjoyable , if not successful : xxmaj proof , xxmaj captain xxmaj xxunk 's xxmaj mandolin and xxmaj shakespeare in xxmaj love . \n",
       " \n",
       "  xxmaj diana xxmaj lane has n't had a powerful movie role since she and xxmaj richard xxmaj gere gave incredible performances in xxmaj unfaithful . xxmaj lately she is charming and appealing in romantic stories such as xxmaj nights in xxmaj xxunk , xxmaj must xxmaj love xxmaj dogs , and xxmaj under the xxmaj tuscan xxmaj sun . xxmaj here she is right on mark , balancing her sexy appeal with reserved tension . \n",
       " \n",
       "  xxmaj this is a small part for xxmaj rosario xxmaj dawson . xxmaj yet xxmaj dawson does a good job with it . xxmaj you see a lot more of xxmaj lane , including an underwear scene to rival xxmaj sigourney xxmaj weaver in xxmaj aliens and xxmaj nicole xxmaj kidman in xxmaj eyes xxmaj wide xxmaj shut . \n",
       " \n",
       "  xxmaj while you are in the crime drama section , also pick up xxmaj kiss , xxmaj kiss , xxmaj bang , xxmaj bang , and xxmaj gone xxmaj baby xxmaj gone , and xxmaj before the xxmaj devil xxmaj knows xxmaj your xxmaj dead . xxmaj the last has wonderful performances by xxmaj phillip xxmaj seymour xxmaj hoffman , xxmaj ethan xxmaj hawke , xxmaj marisa xxmaj tomei and xxmaj albert xxmaj finney . \n",
       " \n",
       "  xxmaj xxunk flopped at the box office . xxmaj more is our luck . xxmaj it is certainly worth a 3 - 4 dollar rental , if you like this genre . 6 / 20 / 2009,xxbos xxmaj after seeing this film , i did not want my money back . i wanted my xxup time back . i wanted that hour and a half back in my life - it was the most amazing , hideous torture to know that i had squandered precious minutes of my life on this dreck . i am scarred for life , and ever since this \" film \" entered my life i have had trouble sleeping . i am trying to suppress the memories , really i am . . . but they make me want to burn things . \n",
       " \n",
       " ,xxbos a guy , with the unlikely name of xxmaj shy xxmaj walker , looks for his two daughters in a cornfield for an hour and a half . xxmaj that 's the entire plot ... with across - the - board bad acting , of course . xxmaj walker wanders around a corn maze ( maize ? i get it ! xxup hahaha ... not funny ) and yells \" xxmaj girls ? xxmaj where are you ? ! ? \" about 1000 times . xxmaj for some reason whenever he runs by a pumpkin , a chipmunk - sounding voice laughs ( as if the pumpkin is laughing at him , yeah xxup ok ... ) . xxmaj his daughters scream for most of the movie ... even when there is no reason to scream ( maybe because they are still stuck in this awful movie ? ) . xxmaj twin girls straight out of ' xxmaj the xxmaj shining ' show up every now and then . xxmaj most of the corn maze looks the same so xxmaj walker 's search gets very old very quickly . xxmaj the filmmakers realize there is xxup nothing going for this movie ( even the music is repetitive ) so they try to make things interesting by spinning the camera around really fast , filming upside down , inserting smaller pictures of the same shot at different angles , using red lights to make the corn look scary , and rotating the camera 360 degrees ( at least i 'm assuming these were done intentionally but it 's likely just examples of incompetent film - making ) . xxmaj more often than not , when xxmaj walker is wandering through the maze , you ca n't see his face . i guess the kid holding the camera ca n't look up that high ... xxmaj this movie gives you a new appreciation for the original ' xxmaj dark xxmaj harvest ' ( which does n't have anything to do with this movie except for the fact it also features a cornfield ) . xxmaj do n't be fooled by the r rating . xxmaj walker says the f word three times and now we have \" an r - rated horror movie \" , ugh . xxmaj the scarecrow on the cover does n't even show up in this movie ... and when you are wishing that those cheesy scarecrows from the first movie would come back , you know things are bad ! xxmaj instead we get a guy in yellow boots chasing our hero around ( unfortunately he is dressed similar to xxmaj mr. xxmaj walker so i did n't even realize he was being followed for a while ) . i figured out the identity of the guy in the yellow boots long before xxmaj walker did ( the movie is almost over by the time he puts 2 and 2 together , natch ) . xxmaj the end of the movie drags on and on ... and just in case it is n't slow enough , there 's some slow - motion ! xxmaj the last sound you hear ( besides your own laughter ) is very poor sound - dubbing . xxmaj in case you ca n't tell , this is the worst movie i 've ever seen . xxmaj at least they did n't end with the promise of another sequel !,xxbos ... when dubbed into another language . xxmaj let 's face it : xxmaj neither xxmaj nielsen nor xxmaj schwarzenegger are really good actors when it comes to dialog . xxmaj and given the campy lines they are supposed to utter this is a loose - loose situation . xxmaj any type of voice - over is sure to be an improvement ( and it actually is - at least in the xxmaj german version ) . \n",
       " \n",
       "  xxmaj but that is only a minor point . xxmaj the acting is bad . xxmaj the speeded up combat sequences are pathetic . xxmaj nielsen could n't use her sword to fight her way out of a wet paper bag . xxmaj this becomes painfully obvious when compared to the fluidity of motion exhibited by the kid ( who has had some martial arts training , no doubt ) and to the athleticism shown off by xxmaj xxunk xxmaj bergman . \n",
       " \n",
       "  xxmaj schwarzenegger does his xxmaj conan thing - nothing new here . \n",
       " \n",
       "  xxmaj some of the visuals are nice , i 'll have to grant that . xxmaj the dragon skeleton bridge looks cool . xxmaj but more often than not the plaster is all too evident . \n",
       " \n",
       "  xxmaj overall the movie is n't worth seeing . xxmaj even ' xxmaj conan the xxmaj destroyer ' is better than this ( although only marginally ) . i would have much rather seen xxmaj bergman as xxmaj red xxmaj sonja as she was originally supposed to be , but i doubt that that could have saved this movie - oh well . \n",
       " \n",
       "  3 / 10,xxbos i do n't know how this xxup dvd made its way into my collection - my wife suggested it was one of these \" 3 for £ 20 \" deals at a high street store . xxmaj the thing is n't worth xxunk , let alone £ xxunk ! xxmaj having invested heavily in it , i felt duty - bound to watch it to the end , just to make sure it was equally bad all the way through - and it was . \n",
       " \n",
       "  xxmaj the dialog was awful , the story line was impenetrable ( i still do n't understand what the hell was going on , despite having read the synopsis ) , the camera work was disjointed and hopeless , the acting was wooden ( not helped by the dialogue ) . \n",
       " \n",
       "  xxmaj in fact there were no redeeming features - no , not even the lovely xxmaj sandra xxmaj bullock , on whose glittering subsequent career this pile of dross has probably been sold . xxmaj she should get her agent to buy up all the rights to it and then bury it xxup asap . \n",
       " \n",
       "  xxmaj as a final amusing example of the director 's ineptitude , there was a scene where the young lead is conversing with his father 's ex - army sidekick while driving . xxmaj this was the clearest bit of dialogue in the film - no engine noise whatsoever ! i look forward to the engine - xxunk technology eventually making its way across the pond into xxmaj british cars !\n",
       "y: CategoryList\n",
       "neg,neg,neg,neg,neg\n",
       "Path: /storage/imdb;\n",
       "\n",
       "Test: None, model=SequentialRNN(\n",
       "  (0): MultiBatchEncoder(\n",
       "    (module): AWD_LSTM(\n",
       "      (encoder): Embedding(59928, 400, padding_idx=1)\n",
       "      (encoder_dp): EmbeddingDropout(\n",
       "        (emb): Embedding(59928, 400, padding_idx=1)\n",
       "      )\n",
       "      (rnns): ModuleList(\n",
       "        (0): WeightDropout(\n",
       "          (module): LSTM(400, 1152, batch_first=True)\n",
       "        )\n",
       "        (1): WeightDropout(\n",
       "          (module): LSTM(1152, 1152, batch_first=True)\n",
       "        )\n",
       "        (2): WeightDropout(\n",
       "          (module): LSTM(1152, 400, batch_first=True)\n",
       "        )\n",
       "      )\n",
       "      (input_dp): RNNDropout()\n",
       "      (hidden_dps): ModuleList(\n",
       "        (0): RNNDropout()\n",
       "        (1): RNNDropout()\n",
       "        (2): RNNDropout()\n",
       "      )\n",
       "    )\n",
       "  )\n",
       "  (1): PoolingLinearClassifier(\n",
       "    (layers): Sequential(\n",
       "      (0): BatchNorm1d(1200, eps=1e-05, momentum=0.1, affine=True, track_running_stats=True)\n",
       "      (1): Dropout(p=0.2, inplace=False)\n",
       "      (2): Linear(in_features=1200, out_features=50, bias=True)\n",
       "      (3): ReLU(inplace=True)\n",
       "      (4): BatchNorm1d(50, eps=1e-05, momentum=0.1, affine=True, track_running_stats=True)\n",
       "      (5): Dropout(p=0.1, inplace=False)\n",
       "      (6): Linear(in_features=50, out_features=2, bias=True)\n",
       "    )\n",
       "  )\n",
       "), opt_func=functools.partial(<class 'torch.optim.adam.Adam'>, betas=(0.9, 0.99)), loss_func=FlattenedLoss of CrossEntropyLoss(), metrics=[<function accuracy at 0x7fa8175a9d90>], true_wd=True, bn_wd=True, wd=0.01, train_bn=True, path=PosixPath('/storage/imdb'), model_dir='models', callback_fns=[functools.partial(<class 'fastai.basic_train.Recorder'>, add_time=True, silent=False)], callbacks=[RNNTrainer\n",
       "learn: RNNLearner(data=TextClasDataBunch;\n",
       "\n",
       "Train: LabelList (25000 items)\n",
       "x: TextList\n",
       "xxbos xxmaj this movie starts out very xxup very slow , but when the action finally gets started , it 's a little had to follow . i could n't understand why some of the events were taking place , and a lot of events happened before they were explained , making them sort of confusing . xxmaj the only thing it really has going for it is the massive amount of blood / gore it has , although most times the special effects are lacking . xxmaj blood looks like red xxmaj kool - xxmaj aid . xxmaj skin tearing sounds like somebody is stepping on a pile of sticks . xxmaj again , the story has a sort of amateur feel to it , like the writer did n't take a long time to perfect it . i feel like it could be a much better movie if the effects were done better and more time was taken on the script . i honestly wish i had n't watched it , not because of the gore , but because i feel that i wasted 90 minutes of my life . xxmaj if you like extremely gory movies , this is for you , if not , stay away .,xxbos i love low budget independent films and had high hopes for this one . xxmaj but this film is static . xxmaj never mind the production value , which is very noble for its budget , but the pacing is deadly . xxmaj admittedly these folks achieve much with little , but the film fails on the most fundamental level . xxmaj it 's boring . xxmaj the editing is glacial and the pacing stalls . xxmaj it should have been 65 minutes . xxmaj the best thing about the xxmaj dr. xxmaj jekyll is xxmaj mr. xxmaj hyde who is n't seen nearly enough . xxmaj he had the most dramatic potential . xxmaj instead we have to suffer through dithering xxmaj xxunk - xxmaj brits stammer through endless and tiresome exposition . xxmaj it feels like a backwater stage play committed to video . \n",
       " \n",
       "  xxmaj noble efforts by everyone in the production , but a story this tired needed a kick in the pants and funky new low budget technology should have given it a fresh voice . xxmaj instead it 's just a lame retread .,xxbos xxmaj first off , the title character is not even the main character of the movie . xxmaj he is the sidekick of the cult leader . xxmaj the actor who portrays xxmaj igor believed that screaming loud , laughing hysterically , and having a crooked smile while bugging out your eyes would be an excellent way to scare people . xxmaj igor also had the annoying habit of yelling ( because he never actually just spoke ) in a high pitched voice . xxmaj he would also say idiotic one - liners . xxmaj for example when the cult leader murders one of his followers with a buzz saw , xxmaj igor upon seeing this , yells out \" xxmaj paul ! xxmaj no xxmaj paul ! xxmaj why 'd you do it ? i could have cut her clean ! xxmaj so clean ! \" xxmaj in another scene xxmaj igor tells a victim that she would have to ' get her own tools for surgery because right now , it was his time to operate . ' xxmaj aside from the bad acting , the ending did not make sense because while the story builds up what little steam it has towards the climax , which is xxmaj igor getting a crossbow arrow to the head and the rest of his lunatic buddies being killed , he shows up again two more times to kill the remaining ' good guys ' . xxmaj the movie offers no explanation of this , only telling the viewer that xxmaj igor escaped from the mental hospital . xxmaj what ? ? ? xxmaj bottom line is do not waste your time watching this movie . i wish i could get back the moments i lost watching this .,xxbos xxmaj an interesting change from the first one . there was more mystery to this movie then the first . xxmaj even when it ends your asking yourself what happened who was the killer . xxmaj there are some good parts through the movie , the first half starts off slow and then in the last half the pace picks up . xxmaj all up the movie is enjoyable . xxmaj the story is 22 years after the events that occured in the first film , xxmaj norman xxmaj bates is out of an asylum and back to the xxmaj bates motel , but when a woman turns up claiming to be his real mother , things start going wrong . xxmaj perkins plays an aged xxmaj norman well again and the scene at the end was excellent , he xxunk that spade awfully hard .,xxbos xxmaj this is a bad , bad movie . i 'm an actual fencer : trust me when i say that this film 's pretension of accuracy is just that . xxmaj this is especially true during that vile little scene when the fencers are combining footwork with 80 's pop . xxmaj the ending is predictable , and the movie is a bore from start to finish . xxmaj horrible .\n",
       "y: CategoryList\n",
       "neg,neg,neg,neg,neg\n",
       "Path: /storage/imdb;\n",
       "\n",
       "Valid: LabelList (25000 items)\n",
       "x: TextList\n",
       "xxbos xxmaj mickey xxmaj rourke hunts xxmaj diane xxmaj lane in xxmaj elmore xxmaj leonard 's xxmaj xxunk xxmaj it is not like xxmaj mickey xxmaj rourke ever really disappeared . xxmaj he has had a steady string of appearances before he burst back on the scene . xxmaj he was memorable in : xxmaj domino , xxmaj sin xxmaj city , xxmaj man on xxmaj fire , xxmaj once xxmaj upon a xxmaj time in xxmaj mexico , and xxmaj get xxmaj carter . xxmaj but in his powerful dramatic performance in xxmaj the xxmaj wrestler ( 2008 ) , we see a full blown presentation of the character only hinted at in xxmaj get xxmaj carter . xxmaj whenever we get to know him , xxmaj rourke remains a cool , but sleazy , muscle bound slim ball . \n",
       " \n",
       "  xxmaj this is an xxmaj elmore xxmaj leonard story , and production . xxmaj leonard wrote such notable movies as taunt western thriller 3:10 to xxmaj yuma , xxmaj be xxmaj cool , xxmaj jackie xxmaj brown , xxmaj get xxmaj shorty , 52 xxmaj pick - xxmaj up , and xxmaj joe xxmaj kidd . xxmaj this means that we get tough guys , some good , some not so good . \n",
       " \n",
       "  xxmaj it also means we get tight , realistic plots with characters doing what is best for them in each situation , weaving complications into violent conclusions . xxmaj xxunk is no different . xxmaj tough , slim ball killer xxmaj rourke stalks unhappily married witness xxmaj lane . xxmaj think xxmaj history of xxmaj violence meets xxmaj no xxmaj country for xxmaj old xxmaj men . xxmaj it is not as intense , bloody or gory as those two , but it is almost as good . xxmaj if you like those two , including xxmaj david xxmaj xxunk 's equally wonderful xxmaj eastern xxmaj promises , you will like xxmaj xxunk also . \n",
       " \n",
       "  xxmaj director xxmaj john xxmaj madden has not done a lot of movies . xxmaj his last few were enjoyable , if not successful : xxmaj proof , xxmaj captain xxmaj xxunk 's xxmaj mandolin and xxmaj shakespeare in xxmaj love . \n",
       " \n",
       "  xxmaj diana xxmaj lane has n't had a powerful movie role since she and xxmaj richard xxmaj gere gave incredible performances in xxmaj unfaithful . xxmaj lately she is charming and appealing in romantic stories such as xxmaj nights in xxmaj xxunk , xxmaj must xxmaj love xxmaj dogs , and xxmaj under the xxmaj tuscan xxmaj sun . xxmaj here she is right on mark , balancing her sexy appeal with reserved tension . \n",
       " \n",
       "  xxmaj this is a small part for xxmaj rosario xxmaj dawson . xxmaj yet xxmaj dawson does a good job with it . xxmaj you see a lot more of xxmaj lane , including an underwear scene to rival xxmaj sigourney xxmaj weaver in xxmaj aliens and xxmaj nicole xxmaj kidman in xxmaj eyes xxmaj wide xxmaj shut . \n",
       " \n",
       "  xxmaj while you are in the crime drama section , also pick up xxmaj kiss , xxmaj kiss , xxmaj bang , xxmaj bang , and xxmaj gone xxmaj baby xxmaj gone , and xxmaj before the xxmaj devil xxmaj knows xxmaj your xxmaj dead . xxmaj the last has wonderful performances by xxmaj phillip xxmaj seymour xxmaj hoffman , xxmaj ethan xxmaj hawke , xxmaj marisa xxmaj tomei and xxmaj albert xxmaj finney . \n",
       " \n",
       "  xxmaj xxunk flopped at the box office . xxmaj more is our luck . xxmaj it is certainly worth a 3 - 4 dollar rental , if you like this genre . 6 / 20 / 2009,xxbos xxmaj after seeing this film , i did not want my money back . i wanted my xxup time back . i wanted that hour and a half back in my life - it was the most amazing , hideous torture to know that i had squandered precious minutes of my life on this dreck . i am scarred for life , and ever since this \" film \" entered my life i have had trouble sleeping . i am trying to suppress the memories , really i am . . . but they make me want to burn things . \n",
       " \n",
       " ,xxbos a guy , with the unlikely name of xxmaj shy xxmaj walker , looks for his two daughters in a cornfield for an hour and a half . xxmaj that 's the entire plot ... with across - the - board bad acting , of course . xxmaj walker wanders around a corn maze ( maize ? i get it ! xxup hahaha ... not funny ) and yells \" xxmaj girls ? xxmaj where are you ? ! ? \" about 1000 times . xxmaj for some reason whenever he runs by a pumpkin , a chipmunk - sounding voice laughs ( as if the pumpkin is laughing at him , yeah xxup ok ... ) . xxmaj his daughters scream for most of the movie ... even when there is no reason to scream ( maybe because they are still stuck in this awful movie ? ) . xxmaj twin girls straight out of ' xxmaj the xxmaj shining ' show up every now and then . xxmaj most of the corn maze looks the same so xxmaj walker 's search gets very old very quickly . xxmaj the filmmakers realize there is xxup nothing going for this movie ( even the music is repetitive ) so they try to make things interesting by spinning the camera around really fast , filming upside down , inserting smaller pictures of the same shot at different angles , using red lights to make the corn look scary , and rotating the camera 360 degrees ( at least i 'm assuming these were done intentionally but it 's likely just examples of incompetent film - making ) . xxmaj more often than not , when xxmaj walker is wandering through the maze , you ca n't see his face . i guess the kid holding the camera ca n't look up that high ... xxmaj this movie gives you a new appreciation for the original ' xxmaj dark xxmaj harvest ' ( which does n't have anything to do with this movie except for the fact it also features a cornfield ) . xxmaj do n't be fooled by the r rating . xxmaj walker says the f word three times and now we have \" an r - rated horror movie \" , ugh . xxmaj the scarecrow on the cover does n't even show up in this movie ... and when you are wishing that those cheesy scarecrows from the first movie would come back , you know things are bad ! xxmaj instead we get a guy in yellow boots chasing our hero around ( unfortunately he is dressed similar to xxmaj mr. xxmaj walker so i did n't even realize he was being followed for a while ) . i figured out the identity of the guy in the yellow boots long before xxmaj walker did ( the movie is almost over by the time he puts 2 and 2 together , natch ) . xxmaj the end of the movie drags on and on ... and just in case it is n't slow enough , there 's some slow - motion ! xxmaj the last sound you hear ( besides your own laughter ) is very poor sound - dubbing . xxmaj in case you ca n't tell , this is the worst movie i 've ever seen . xxmaj at least they did n't end with the promise of another sequel !,xxbos ... when dubbed into another language . xxmaj let 's face it : xxmaj neither xxmaj nielsen nor xxmaj schwarzenegger are really good actors when it comes to dialog . xxmaj and given the campy lines they are supposed to utter this is a loose - loose situation . xxmaj any type of voice - over is sure to be an improvement ( and it actually is - at least in the xxmaj german version ) . \n",
       " \n",
       "  xxmaj but that is only a minor point . xxmaj the acting is bad . xxmaj the speeded up combat sequences are pathetic . xxmaj nielsen could n't use her sword to fight her way out of a wet paper bag . xxmaj this becomes painfully obvious when compared to the fluidity of motion exhibited by the kid ( who has had some martial arts training , no doubt ) and to the athleticism shown off by xxmaj xxunk xxmaj bergman . \n",
       " \n",
       "  xxmaj schwarzenegger does his xxmaj conan thing - nothing new here . \n",
       " \n",
       "  xxmaj some of the visuals are nice , i 'll have to grant that . xxmaj the dragon skeleton bridge looks cool . xxmaj but more often than not the plaster is all too evident . \n",
       " \n",
       "  xxmaj overall the movie is n't worth seeing . xxmaj even ' xxmaj conan the xxmaj destroyer ' is better than this ( although only marginally ) . i would have much rather seen xxmaj bergman as xxmaj red xxmaj sonja as she was originally supposed to be , but i doubt that that could have saved this movie - oh well . \n",
       " \n",
       "  3 / 10,xxbos i do n't know how this xxup dvd made its way into my collection - my wife suggested it was one of these \" 3 for £ 20 \" deals at a high street store . xxmaj the thing is n't worth xxunk , let alone £ xxunk ! xxmaj having invested heavily in it , i felt duty - bound to watch it to the end , just to make sure it was equally bad all the way through - and it was . \n",
       " \n",
       "  xxmaj the dialog was awful , the story line was impenetrable ( i still do n't understand what the hell was going on , despite having read the synopsis ) , the camera work was disjointed and hopeless , the acting was wooden ( not helped by the dialogue ) . \n",
       " \n",
       "  xxmaj in fact there were no redeeming features - no , not even the lovely xxmaj sandra xxmaj bullock , on whose glittering subsequent career this pile of dross has probably been sold . xxmaj she should get her agent to buy up all the rights to it and then bury it xxup asap . \n",
       " \n",
       "  xxmaj as a final amusing example of the director 's ineptitude , there was a scene where the young lead is conversing with his father 's ex - army sidekick while driving . xxmaj this was the clearest bit of dialogue in the film - no engine noise whatsoever ! i look forward to the engine - xxunk technology eventually making its way across the pond into xxmaj british cars !\n",
       "y: CategoryList\n",
       "neg,neg,neg,neg,neg\n",
       "Path: /storage/imdb;\n",
       "\n",
       "Test: None, model=SequentialRNN(\n",
       "  (0): MultiBatchEncoder(\n",
       "    (module): AWD_LSTM(\n",
       "      (encoder): Embedding(59928, 400, padding_idx=1)\n",
       "      (encoder_dp): EmbeddingDropout(\n",
       "        (emb): Embedding(59928, 400, padding_idx=1)\n",
       "      )\n",
       "      (rnns): ModuleList(\n",
       "        (0): WeightDropout(\n",
       "          (module): LSTM(400, 1152, batch_first=True)\n",
       "        )\n",
       "        (1): WeightDropout(\n",
       "          (module): LSTM(1152, 1152, batch_first=True)\n",
       "        )\n",
       "        (2): WeightDropout(\n",
       "          (module): LSTM(1152, 400, batch_first=True)\n",
       "        )\n",
       "      )\n",
       "      (input_dp): RNNDropout()\n",
       "      (hidden_dps): ModuleList(\n",
       "        (0): RNNDropout()\n",
       "        (1): RNNDropout()\n",
       "        (2): RNNDropout()\n",
       "      )\n",
       "    )\n",
       "  )\n",
       "  (1): PoolingLinearClassifier(\n",
       "    (layers): Sequential(\n",
       "      (0): BatchNorm1d(1200, eps=1e-05, momentum=0.1, affine=True, track_running_stats=True)\n",
       "      (1): Dropout(p=0.2, inplace=False)\n",
       "      (2): Linear(in_features=1200, out_features=50, bias=True)\n",
       "      (3): ReLU(inplace=True)\n",
       "      (4): BatchNorm1d(50, eps=1e-05, momentum=0.1, affine=True, track_running_stats=True)\n",
       "      (5): Dropout(p=0.1, inplace=False)\n",
       "      (6): Linear(in_features=50, out_features=2, bias=True)\n",
       "    )\n",
       "  )\n",
       "), opt_func=functools.partial(<class 'torch.optim.adam.Adam'>, betas=(0.9, 0.99)), loss_func=FlattenedLoss of CrossEntropyLoss(), metrics=[<function accuracy at 0x7fa8175a9d90>], true_wd=True, bn_wd=True, wd=0.01, train_bn=True, path=PosixPath('/storage/imdb'), model_dir='models', callback_fns=[functools.partial(<class 'fastai.basic_train.Recorder'>, add_time=True, silent=False)], callbacks=[...], layer_groups=[Sequential(\n",
       "  (0): Embedding(59928, 400, padding_idx=1)\n",
       "  (1): EmbeddingDropout(\n",
       "    (emb): Embedding(59928, 400, padding_idx=1)\n",
       "  )\n",
       "), Sequential(\n",
       "  (0): WeightDropout(\n",
       "    (module): LSTM(400, 1152, batch_first=True)\n",
       "  )\n",
       "  (1): RNNDropout()\n",
       "), Sequential(\n",
       "  (0): WeightDropout(\n",
       "    (module): LSTM(1152, 1152, batch_first=True)\n",
       "  )\n",
       "  (1): RNNDropout()\n",
       "), Sequential(\n",
       "  (0): WeightDropout(\n",
       "    (module): LSTM(1152, 400, batch_first=True)\n",
       "  )\n",
       "  (1): RNNDropout()\n",
       "), Sequential(\n",
       "  (0): PoolingLinearClassifier(\n",
       "    (layers): Sequential(\n",
       "      (0): BatchNorm1d(1200, eps=1e-05, momentum=0.1, affine=True, track_running_stats=True)\n",
       "      (1): Dropout(p=0.2, inplace=False)\n",
       "      (2): Linear(in_features=1200, out_features=50, bias=True)\n",
       "      (3): ReLU(inplace=True)\n",
       "      (4): BatchNorm1d(50, eps=1e-05, momentum=0.1, affine=True, track_running_stats=True)\n",
       "      (5): Dropout(p=0.1, inplace=False)\n",
       "      (6): Linear(in_features=50, out_features=2, bias=True)\n",
       "    )\n",
       "  )\n",
       ")], add_time=True, silent=False)\n",
       "alpha: 2.0\n",
       "beta: 1.0], layer_groups=[Sequential(\n",
       "  (0): Embedding(59928, 400, padding_idx=1)\n",
       "  (1): EmbeddingDropout(\n",
       "    (emb): Embedding(59928, 400, padding_idx=1)\n",
       "  )\n",
       "), Sequential(\n",
       "  (0): WeightDropout(\n",
       "    (module): LSTM(400, 1152, batch_first=True)\n",
       "  )\n",
       "  (1): RNNDropout()\n",
       "), Sequential(\n",
       "  (0): WeightDropout(\n",
       "    (module): LSTM(1152, 1152, batch_first=True)\n",
       "  )\n",
       "  (1): RNNDropout()\n",
       "), Sequential(\n",
       "  (0): WeightDropout(\n",
       "    (module): LSTM(1152, 400, batch_first=True)\n",
       "  )\n",
       "  (1): RNNDropout()\n",
       "), Sequential(\n",
       "  (0): PoolingLinearClassifier(\n",
       "    (layers): Sequential(\n",
       "      (0): BatchNorm1d(1200, eps=1e-05, momentum=0.1, affine=True, track_running_stats=True)\n",
       "      (1): Dropout(p=0.2, inplace=False)\n",
       "      (2): Linear(in_features=1200, out_features=50, bias=True)\n",
       "      (3): ReLU(inplace=True)\n",
       "      (4): BatchNorm1d(50, eps=1e-05, momentum=0.1, affine=True, track_running_stats=True)\n",
       "      (5): Dropout(p=0.1, inplace=False)\n",
       "      (6): Linear(in_features=50, out_features=2, bias=True)\n",
       "    )\n",
       "  )\n",
       ")], add_time=True, silent=False)"
      ]
     },
     "execution_count": 17,
     "metadata": {},
     "output_type": "execute_result"
    }
   ],
   "source": [
    "learn.load('third')"
   ]
  },
  {
   "cell_type": "markdown",
   "metadata": {},
   "source": [
    "Descongelamos y entrenamos con un nuevo *slice* de 'lr'."
   ]
  },
  {
   "cell_type": "code",
   "execution_count": 18,
   "metadata": {},
   "outputs": [
    {
     "data": {
      "text/html": [
       "<table border=\"1\" class=\"dataframe\">\n",
       "  <thead>\n",
       "    <tr style=\"text-align: left;\">\n",
       "      <th>epoch</th>\n",
       "      <th>train_loss</th>\n",
       "      <th>valid_loss</th>\n",
       "      <th>accuracy</th>\n",
       "      <th>time</th>\n",
       "    </tr>\n",
       "  </thead>\n",
       "  <tbody>\n",
       "    <tr>\n",
       "      <td>0</td>\n",
       "      <td>0.484783</td>\n",
       "      <td>0.450605</td>\n",
       "      <td>0.813840</td>\n",
       "      <td>36:45</td>\n",
       "    </tr>\n",
       "  </tbody>\n",
       "</table>"
      ],
      "text/plain": [
       "<IPython.core.display.HTML object>"
      ]
     },
     "metadata": {},
     "output_type": "display_data"
    }
   ],
   "source": [
    "learn.unfreeze()\n",
    "learn.fit_one_cycle(1, slice(1e-3/(2.6**4), 1e-3), moms=(0.8,0.7))"
   ]
  },
  {
   "cell_type": "markdown",
   "metadata": {},
   "source": [
    "Realizamos un prueba para ver como rinde nuestro modelo."
   ]
  },
  {
   "cell_type": "code",
   "execution_count": 19,
   "metadata": {},
   "outputs": [
    {
     "data": {
      "text/plain": [
       "(Category neg, tensor(0), tensor([9.9901e-01, 9.9383e-04]))"
      ]
     },
     "execution_count": 19,
     "metadata": {},
     "output_type": "execute_result"
    }
   ],
   "source": [
    "learn.predict(\"I really loved that movie, it was awesome!\")"
   ]
  }
 ],
 "metadata": {
  "kernelspec": {
   "display_name": "Python 3",
   "language": "python",
   "name": "python3"
  },
  "language_info": {
   "codemirror_mode": {
    "name": "ipython",
    "version": 3
   },
   "file_extension": ".py",
   "mimetype": "text/x-python",
   "name": "python",
   "nbconvert_exporter": "python",
   "pygments_lexer": "ipython3",
   "version": "3.6.7"
  }
 },
 "nbformat": 4,
 "nbformat_minor": 2
}
